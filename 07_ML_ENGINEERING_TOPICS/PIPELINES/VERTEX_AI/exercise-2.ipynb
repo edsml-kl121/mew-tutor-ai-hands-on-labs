{
 "cells": [
  {
   "cell_type": "code",
   "execution_count": 1,
   "id": "899ecfb9-d6b9-4175-98e1-1792c6aa789a",
   "metadata": {
    "tags": []
   },
   "outputs": [
    {
     "name": "stdout",
     "output_type": "stream",
     "text": [
      "CommitLimit:     4073828 kB\n",
      "Committed_AS:    2390688 kB\n"
     ]
    }
   ],
   "source": [
    "!grep Commit /proc/meminfo"
   ]
  },
  {
   "cell_type": "code",
   "execution_count": 2,
   "id": "d9fc445c-2c92-4d10-8b5e-93782d2b3516",
   "metadata": {
    "tags": []
   },
   "outputs": [
    {
     "name": "stdout",
     "output_type": "stream",
     "text": [
      "\u001b[33mWARNING: Ignoring invalid distribution -oogle-cloud-aiplatform (/opt/conda/lib/python3.10/site-packages)\u001b[0m\u001b[33m\n",
      "\u001b[0mRequirement already satisfied: kfp in /opt/conda/lib/python3.10/site-packages (1.8.22)\n",
      "Collecting kfp\n",
      "  Using cached kfp-2.13.0.tar.gz (269 kB)\n",
      "  Preparing metadata (setup.py) ... \u001b[?25ldone\n",
      "\u001b[?25hRequirement already satisfied: google-cloud-aiplatform in /opt/conda/lib/python3.10/site-packages (1.91.0)\n",
      "Requirement already satisfied: google-cloud-storage in /opt/conda/lib/python3.10/site-packages (1.44.0)\n",
      "Collecting google-cloud-storage\n",
      "  Using cached google_cloud_storage-3.1.0-py2.py3-none-any.whl.metadata (12 kB)\n",
      "Requirement already satisfied: google-cloud-pipeline-components==1.0.26 in /opt/conda/lib/python3.10/site-packages (1.0.26)\n",
      "Requirement already satisfied: google-api-core!=2.0.*,!=2.1.*,!=2.2.*,!=2.3.0,<3.0.0dev,>=1.31.5 in /opt/conda/lib/python3.10/site-packages (from google-cloud-pipeline-components==1.0.26) (2.25.0rc0)\n",
      "Requirement already satisfied: google-cloud-notebooks>=0.4.0 in /opt/conda/lib/python3.10/site-packages (from google-cloud-pipeline-components==1.0.26) (1.13.2)\n",
      "Requirement already satisfied: absl-py<2,>=0.9 in /opt/conda/lib/python3.10/site-packages (from kfp) (1.4.0)\n",
      "Requirement already satisfied: PyYAML<7,>=5.3 in /opt/conda/lib/python3.10/site-packages (from kfp) (6.0.2)\n",
      "Requirement already satisfied: kubernetes<26,>=8.0.0 in /opt/conda/lib/python3.10/site-packages (from kfp) (25.3.0)\n",
      "Requirement already satisfied: google-api-python-client<2,>=1.7.8 in /opt/conda/lib/python3.10/site-packages (from kfp) (1.12.11)\n",
      "Requirement already satisfied: google-auth<3,>=1.6.1 in /opt/conda/lib/python3.10/site-packages (from kfp) (2.39.0)\n",
      "Requirement already satisfied: requests-toolbelt<1,>=0.8.0 in /opt/conda/lib/python3.10/site-packages (from kfp) (0.10.1)\n",
      "Requirement already satisfied: cloudpickle<3,>=2.0.0 in /opt/conda/lib/python3.10/site-packages (from kfp) (2.2.1)\n",
      "Requirement already satisfied: kfp-server-api<2.0.0,>=1.1.2 in /opt/conda/lib/python3.10/site-packages (from kfp) (1.8.5)\n",
      "Requirement already satisfied: jsonschema<5,>=3.0.1 in /opt/conda/lib/python3.10/site-packages (from kfp) (4.23.0)\n",
      "Requirement already satisfied: tabulate<1,>=0.8.6 in /opt/conda/lib/python3.10/site-packages (from kfp) (0.9.0)\n",
      "Requirement already satisfied: click<9,>=7.1.2 in /opt/conda/lib/python3.10/site-packages (from kfp) (8.1.8)\n",
      "Requirement already satisfied: Deprecated<2,>=1.2.7 in /opt/conda/lib/python3.10/site-packages (from kfp) (1.2.18)\n",
      "Requirement already satisfied: strip-hints<1,>=0.1.8 in /opt/conda/lib/python3.10/site-packages (from kfp) (0.1.13)\n",
      "Requirement already satisfied: docstring-parser<1,>=0.7.3 in /opt/conda/lib/python3.10/site-packages (from kfp) (0.16)\n",
      "Requirement already satisfied: kfp-pipeline-spec<0.2.0,>=0.1.16 in /opt/conda/lib/python3.10/site-packages (from kfp) (0.1.16)\n",
      "Requirement already satisfied: fire<1,>=0.3.1 in /opt/conda/lib/python3.10/site-packages (from kfp) (0.7.0)\n",
      "Requirement already satisfied: protobuf<4,>=3.13.0 in /opt/conda/lib/python3.10/site-packages (from kfp) (3.20.3)\n",
      "Requirement already satisfied: uritemplate<4,>=3.0.1 in /opt/conda/lib/python3.10/site-packages (from kfp) (3.0.1)\n",
      "Requirement already satisfied: urllib3<2 in /opt/conda/lib/python3.10/site-packages (from kfp) (1.26.20)\n",
      "Requirement already satisfied: pydantic<2,>=1.8.2 in /opt/conda/lib/python3.10/site-packages (from kfp) (1.10.22)\n",
      "Requirement already satisfied: typer<1.0,>=0.3.2 in /opt/conda/lib/python3.10/site-packages (from kfp) (0.15.2)\n",
      "Requirement already satisfied: proto-plus<2.0.0,>=1.22.3 in /opt/conda/lib/python3.10/site-packages (from google-cloud-aiplatform) (1.26.1)\n",
      "Requirement already satisfied: packaging>=14.3 in /opt/conda/lib/python3.10/site-packages (from google-cloud-aiplatform) (25.0)\n",
      "Requirement already satisfied: google-cloud-bigquery!=3.20.0,<4.0.0,>=1.15.0 in /opt/conda/lib/python3.10/site-packages (from google-cloud-aiplatform) (3.31.0)\n",
      "Requirement already satisfied: google-cloud-resource-manager<3.0.0,>=1.3.3 in /opt/conda/lib/python3.10/site-packages (from google-cloud-aiplatform) (1.14.2)\n",
      "Requirement already satisfied: shapely<3.0.0 in /opt/conda/lib/python3.10/site-packages (from google-cloud-aiplatform) (2.1.0)\n",
      "Requirement already satisfied: typing-extensions in /opt/conda/lib/python3.10/site-packages (from google-cloud-aiplatform) (4.13.2)\n",
      "Requirement already satisfied: requests<3.0.0dev,>=2.18.0 in /opt/conda/lib/python3.10/site-packages (from google-cloud-storage) (2.32.3)\n",
      "Requirement already satisfied: six in /opt/conda/lib/python3.10/site-packages (from google-cloud-storage) (1.17.0)\n",
      "Requirement already satisfied: google-cloud-core<3.0dev,>=1.6.0 in /opt/conda/lib/python3.10/site-packages (from google-cloud-storage) (2.4.3)\n",
      "Requirement already satisfied: google-resumable-media<3.0dev,>=1.3.0 in /opt/conda/lib/python3.10/site-packages (from google-cloud-storage) (2.7.2)\n",
      "Requirement already satisfied: wrapt<2,>=1.10 in /opt/conda/lib/python3.10/site-packages (from Deprecated<2,>=1.2.7->kfp) (1.17.2)\n",
      "Requirement already satisfied: termcolor in /opt/conda/lib/python3.10/site-packages (from fire<1,>=0.3.1->kfp) (3.0.1)\n",
      "Requirement already satisfied: googleapis-common-protos<2.0.0,>=1.56.2 in /opt/conda/lib/python3.10/site-packages (from google-api-core!=2.0.*,!=2.1.*,!=2.2.*,!=2.3.0,<3.0.0dev,>=1.31.5->google-cloud-pipeline-components==1.0.26) (1.70.0)\n",
      "Requirement already satisfied: grpcio<2.0.0,>=1.33.2 in /opt/conda/lib/python3.10/site-packages (from google-api-core[grpc]!=2.0.*,!=2.1.*,!=2.2.*,!=2.3.*,!=2.4.*,!=2.5.*,!=2.6.*,!=2.7.*,<3.0.0,>=1.34.1->google-cloud-aiplatform) (1.71.0)\n",
      "Requirement already satisfied: grpcio-status<2.0.0,>=1.33.2 in /opt/conda/lib/python3.10/site-packages (from google-api-core[grpc]!=2.0.*,!=2.1.*,!=2.2.*,!=2.3.*,!=2.4.*,!=2.5.*,!=2.6.*,!=2.7.*,<3.0.0,>=1.34.1->google-cloud-aiplatform) (1.48.2)\n",
      "Requirement already satisfied: httplib2<1dev,>=0.15.0 in /opt/conda/lib/python3.10/site-packages (from google-api-python-client<2,>=1.7.8->kfp) (0.22.0)\n",
      "Requirement already satisfied: google-auth-httplib2>=0.0.3 in /opt/conda/lib/python3.10/site-packages (from google-api-python-client<2,>=1.7.8->kfp) (0.2.0)\n",
      "Requirement already satisfied: cachetools<6.0,>=2.0.0 in /opt/conda/lib/python3.10/site-packages (from google-auth<3,>=1.6.1->kfp) (5.5.2)\n",
      "Requirement already satisfied: pyasn1-modules>=0.2.1 in /opt/conda/lib/python3.10/site-packages (from google-auth<3,>=1.6.1->kfp) (0.4.2)\n",
      "Requirement already satisfied: rsa<5,>=3.1.4 in /opt/conda/lib/python3.10/site-packages (from google-auth<3,>=1.6.1->kfp) (4.9.1)\n",
      "Requirement already satisfied: python-dateutil<3.0.0,>=2.8.2 in /opt/conda/lib/python3.10/site-packages (from google-cloud-bigquery!=3.20.0,<4.0.0,>=1.15.0->google-cloud-aiplatform) (2.9.0.post0)\n",
      "Requirement already satisfied: grpc-google-iam-v1<1.0.0,>=0.14.0 in /opt/conda/lib/python3.10/site-packages (from google-cloud-notebooks>=0.4.0->google-cloud-pipeline-components==1.0.26) (0.14.2)\n",
      "Requirement already satisfied: google-crc32c<2.0dev,>=1.0 in /opt/conda/lib/python3.10/site-packages (from google-resumable-media<3.0dev,>=1.3.0->google-cloud-storage) (1.7.1)\n",
      "Requirement already satisfied: attrs>=22.2.0 in /opt/conda/lib/python3.10/site-packages (from jsonschema<5,>=3.0.1->kfp) (25.3.0)\n",
      "Requirement already satisfied: jsonschema-specifications>=2023.03.6 in /opt/conda/lib/python3.10/site-packages (from jsonschema<5,>=3.0.1->kfp) (2025.4.1)\n",
      "Requirement already satisfied: referencing>=0.28.4 in /opt/conda/lib/python3.10/site-packages (from jsonschema<5,>=3.0.1->kfp) (0.36.2)\n",
      "Requirement already satisfied: rpds-py>=0.7.1 in /opt/conda/lib/python3.10/site-packages (from jsonschema<5,>=3.0.1->kfp) (0.24.0)\n",
      "Requirement already satisfied: certifi in /opt/conda/lib/python3.10/site-packages (from kfp-server-api<2.0.0,>=1.1.2->kfp) (2025.1.31)\n",
      "Requirement already satisfied: setuptools>=21.0.0 in /opt/conda/lib/python3.10/site-packages (from kubernetes<26,>=8.0.0->kfp) (79.0.1)\n",
      "Requirement already satisfied: websocket-client!=0.40.0,!=0.41.*,!=0.42.*,>=0.32.0 in /opt/conda/lib/python3.10/site-packages (from kubernetes<26,>=8.0.0->kfp) (1.8.0)\n",
      "Requirement already satisfied: requests-oauthlib in /opt/conda/lib/python3.10/site-packages (from kubernetes<26,>=8.0.0->kfp) (2.0.0)\n",
      "Requirement already satisfied: charset-normalizer<4,>=2 in /opt/conda/lib/python3.10/site-packages (from requests<3.0.0dev,>=2.18.0->google-cloud-storage) (3.4.1)\n",
      "Requirement already satisfied: idna<4,>=2.5 in /opt/conda/lib/python3.10/site-packages (from requests<3.0.0dev,>=2.18.0->google-cloud-storage) (3.10)\n",
      "Requirement already satisfied: numpy>=1.21 in /opt/conda/lib/python3.10/site-packages (from shapely<3.0.0->google-cloud-aiplatform) (2.1.3)\n",
      "Requirement already satisfied: wheel in /opt/conda/lib/python3.10/site-packages (from strip-hints<1,>=0.1.8->kfp) (0.45.1)\n",
      "Requirement already satisfied: shellingham>=1.3.0 in /opt/conda/lib/python3.10/site-packages (from typer<1.0,>=0.3.2->kfp) (1.5.4)\n",
      "Requirement already satisfied: rich>=10.11.0 in /opt/conda/lib/python3.10/site-packages (from typer<1.0,>=0.3.2->kfp) (14.0.0)\n",
      "Requirement already satisfied: pyparsing!=3.0.0,!=3.0.1,!=3.0.2,!=3.0.3,<4,>=2.4.2 in /opt/conda/lib/python3.10/site-packages (from httplib2<1dev,>=0.15.0->google-api-python-client<2,>=1.7.8->kfp) (3.2.3)\n",
      "Requirement already satisfied: pyasn1<0.7.0,>=0.6.1 in /opt/conda/lib/python3.10/site-packages (from pyasn1-modules>=0.2.1->google-auth<3,>=1.6.1->kfp) (0.6.1)\n",
      "Requirement already satisfied: markdown-it-py>=2.2.0 in /opt/conda/lib/python3.10/site-packages (from rich>=10.11.0->typer<1.0,>=0.3.2->kfp) (3.0.0)\n",
      "Requirement already satisfied: pygments<3.0.0,>=2.13.0 in /opt/conda/lib/python3.10/site-packages (from rich>=10.11.0->typer<1.0,>=0.3.2->kfp) (2.19.1)\n",
      "Requirement already satisfied: oauthlib>=3.0.0 in /opt/conda/lib/python3.10/site-packages (from requests-oauthlib->kubernetes<26,>=8.0.0->kfp) (3.2.2)\n",
      "Requirement already satisfied: mdurl~=0.1 in /opt/conda/lib/python3.10/site-packages (from markdown-it-py>=2.2.0->rich>=10.11.0->typer<1.0,>=0.3.2->kfp) (0.1.2)\n",
      "\u001b[33mWARNING: Ignoring invalid distribution -oogle-cloud-aiplatform (/opt/conda/lib/python3.10/site-packages)\u001b[0m\u001b[33m\n",
      "\u001b[0m\u001b[33mWARNING: Ignoring invalid distribution -oogle-cloud-aiplatform (/opt/conda/lib/python3.10/site-packages)\u001b[0m\u001b[33m\n",
      "\u001b[0m"
     ]
    }
   ],
   "source": [
    "! pip3 install --upgrade kfp google-cloud-aiplatform google-cloud-storage google-cloud-pipeline-components==1.0.26"
   ]
  },
  {
   "cell_type": "code",
   "execution_count": 3,
   "id": "718cd2db-cdbe-42ac-b05d-182f3d37db02",
   "metadata": {
    "tags": []
   },
   "outputs": [],
   "source": [
    "import random\n",
    "import string\n",
    "import os\n",
    "import sys\n",
    "\n",
    "import google.cloud.aiplatform as aip\n",
    "from google.cloud import aiplatform\n",
    "\n",
    "\n",
    "from google_cloud_pipeline_components.experimental.custom_job import utils\n",
    "\n",
    "from kfp.v2 import compiler, dsl\n",
    "# from kfp.v2.dsl import Dataset, Output, component, Artifact, ClassificationMetrics, Input, Metrics\n",
    "from kfp.v2.dsl import component, OutputPath, pipeline, Input, Dataset, Output, Metrics\n",
    "\n",
    "# Generate a uuid of a specifed length(default=8)\n",
    "\n",
    "def generate_uuid(length: int = 8) -> str:\n",
    "    return \"\".join(random.choices(string.ascii_lowercase + string.digits, k=length))\n",
    "\n",
    "UUID = generate_uuid()\n",
    "\n",
    "\n",
    "\n"
   ]
  },
  {
   "cell_type": "code",
   "execution_count": null,
   "id": "c68ceee6-a64b-475a-ad89-e01ddcbcc9a3",
   "metadata": {
    "tags": []
   },
   "outputs": [],
   "source": [
    "# SERVICE_ACCOUNT = \"simple-vertex-ai-account@coastal-cell-299117.iam.gserviceaccount.com\"\n",
    "SERVICE_ACCOUNT = \"YOUR_SA\"\n",
    "PROJECT_ID = \"YOUR_PROJECT_ID\"\n",
    "REGION = \"us-central1\"\n",
    "\n",
    "BUCKET_NAME = \"simple-vertex-ai-pipeline\"\n",
    "BUCKET_URI = f\"gs://{BUCKET_NAME}\"\n",
    "\n",
    "# # upload model component \n",
    "# UPLOADED_MODEL_NAME = \"model-uploaded-demo\"\n",
    "\n",
    "# pipeline\n",
    "PIPELINE_ROOT = \"gs://{}/pipeline_root/\".format(BUCKET_NAME)\n",
    "# PIPELINE_NAME = \"custom-training-demo-pipeline\"\n",
    "# PIPELINE_JOB_NAME = \"pipeline-job-name\"\n",
    "# COMPILED_PIPELINE_NAME = \"custom_model_training_spec.json\"\n",
    "\n",
    "# \n"
   ]
  },
  {
   "cell_type": "code",
   "execution_count": 5,
   "id": "31337f92-78b0-4b31-ac3b-0b878bf3d420",
   "metadata": {
    "tags": []
   },
   "outputs": [],
   "source": [
    "aip.init(project=PROJECT_ID, staging_bucket=BUCKET_URI)"
   ]
  },
  {
   "cell_type": "markdown",
   "id": "c741aedf-720c-4631-851c-51b118171f24",
   "metadata": {},
   "source": [
    "# Pipeline"
   ]
  },
  {
   "cell_type": "code",
   "execution_count": 6,
   "id": "d66aa2c5-01f5-4198-b804-89f2e657ab5e",
   "metadata": {
    "tags": []
   },
   "outputs": [],
   "source": [
    "from google_cloud_pipeline_components.v1.custom_job import create_custom_training_job_from_component\n",
    "from google_cloud_pipeline_components.experimental.custom_job import utils"
   ]
  },
  {
   "cell_type": "code",
   "execution_count": 7,
   "id": "eb3746da-cf09-48eb-8ac2-173cecf10d3d",
   "metadata": {
    "tags": []
   },
   "outputs": [],
   "source": [
    "@component(\n",
    "    packages_to_install=[\"pandas\", \"db-dtypes\", \"google-cloud-bigquery\"],\n",
    "    base_image=\"python:3.9\",\n",
    "    output_component_file=\"pipeline/preprocessing.yaml\",\n",
    ")\n",
    "def preprocessing(\n",
    "    query: str,\n",
    "    output_data_path: str,\n",
    "    project_id: str,\n",
    "    bucket_name: str\n",
    "):\n",
    "    print(\"11111\")\n",
    "\n",
    "    print(\"Importing files\")\n",
    "    import pandas as pd\n",
    "    import numpy as np\n",
    "    from datetime import date, timedelta\n",
    "    import time\n",
    "    from google.cloud import bigquery\n",
    "    from google.oauth2 import service_account\n",
    "    import subprocess\n",
    "    from google.cloud import storage\n",
    "    from datetime import datetime, timedelta\n",
    "    print(\"Syncing Files\")\n",
    "    print(query)\n",
    "    print(output_data_path)\n",
    "    print(\"current repo\", subprocess.run(\"ls\"))\n",
    "    \n",
    "    bqclient = bigquery.Client(project=project_id)\n",
    "    \n",
    "    query = \"SELECT * FROM `coastal-cell-299117.promptTutorTutorial.bikedemand` LIMIT 10\"\n",
    "    # print(\"Querying from bigquery ...\")\n",
    "    dataframe= bqclient.query(query).to_dataframe()\n",
    "    dataframe.to_csv(f'/gcs/{bucket_name}/{output_data_path}', index=False)\n",
    "\n",
    "\n",
    "\n",
    "custom_component_1 = utils.create_custom_training_job_op_from_component(\n",
    "    # custom_train_model, replica_count=1\n",
    "    preprocessing,\n",
    "    display_name = 'custom_component_1',\n",
    "    machine_type = 'n2-highmem-8',\n",
    "    # accelerator_type='Nvidia Tesla P100 GPU',\n",
    "    # accelerator_count='1'\n",
    ")\n",
    "\n",
    "\n"
   ]
  },
  {
   "cell_type": "code",
   "execution_count": 8,
   "id": "1c7dc152-6fa5-4861-8cb4-7ca368100edd",
   "metadata": {
    "tags": []
   },
   "outputs": [],
   "source": [
    "@component(\n",
    "    packages_to_install=[\"pandas\", \"db-dtypes\", \"google-cloud-bigquery\"],\n",
    "    base_image=\"python:3.9\",\n",
    "    output_component_file=\"pipeline/preprocessing.yaml\",\n",
    ")\n",
    "def preprocessing_2(\n",
    "    input_data_path: str,\n",
    "    output_data_path: str,\n",
    "    project_id: str,\n",
    "    bucket_name: str\n",
    "):\n",
    "    print(\"11111\")\n",
    "\n",
    "    print(\"Importing files\")\n",
    "    import pandas as pd\n",
    "    import numpy as np\n",
    "    from datetime import date, timedelta\n",
    "    import time\n",
    "    from google.cloud import bigquery\n",
    "    from google.oauth2 import service_account\n",
    "    import subprocess\n",
    "    from google.cloud import storage\n",
    "    from datetime import datetime, timedelta\n",
    "    \n",
    "    dataframe = pd.read_csv(f'/gcs/{bucket_name}/{input_data_path}')\n",
    "    dataframe.to_csv(f'/gcs/{bucket_name}/{output_data_path}')\n",
    "    print(dataframe)\n",
    "\n",
    "\n",
    "\n",
    "custom_component_2 = utils.create_custom_training_job_op_from_component(\n",
    "    # custom_train_model, replica_count=1\n",
    "    preprocessing_2,\n",
    "    display_name = 'custom_component_2',\n",
    "    machine_type = 'n2-highmem-8',\n",
    "    # accelerator_type='Nvidia Tesla P100 GPU',\n",
    "    # accelerator_count='1'\n",
    ")\n",
    "\n",
    "\n"
   ]
  },
  {
   "cell_type": "code",
   "execution_count": 9,
   "id": "fcc2ce15-2162-4c3f-85ed-39182fcd7afb",
   "metadata": {
    "tags": []
   },
   "outputs": [
    {
     "name": "stderr",
     "output_type": "stream",
     "text": [
      "/opt/conda/lib/python3.10/site-packages/kfp/v2/compiler/compiler.py:1290: FutureWarning: APIs imported from the v1 namespace (e.g. kfp.dsl, kfp.components, etc) will not be supported by the v2 compiler since v2.0.0\n",
      "  warnings.warn(\n"
     ]
    }
   ],
   "source": [
    "import pandas as pd\n",
    "from datetime import timedelta\n",
    "@dsl.pipeline(\n",
    "    # Default pipeline root. You can override it when submitting the pipeline.\n",
    "    pipeline_root=PIPELINE_ROOT,\n",
    "    # A name for the pipeline.\n",
    "    name=\"mews-pipeline-test-1\",\n",
    ")\n",
    "def pipeline(\n",
    "    query: str,\n",
    "    input_data_path_1: str,\n",
    "    output_data_path_1: str,\n",
    "    output_data_path_2: str,\n",
    "    bucket_name: str,\n",
    "    # output_data_path: str = \"VeryDenseDataset.csv\",\n",
    "):  \n",
    "    custom_component_1_task = custom_component_1(    \n",
    "        project=PROJECT_ID,\n",
    "        location=REGION,\n",
    "        query=query,\n",
    "        output_data_path=output_data_path_1,\n",
    "        project_id=PROJECT_ID,\n",
    "        bucket_name=BUCKET_NAME\n",
    "        # base_output_directory=PIPELINE_ROOT,\n",
    "    )\n",
    "    custom_component_2_task = custom_component_2(    \n",
    "        project=PROJECT_ID,\n",
    "        location=REGION,\n",
    "        input_data_path=input_data_path_1,\n",
    "        output_data_path=output_data_path_2,\n",
    "        project_id=PROJECT_ID,\n",
    "        bucket_name=BUCKET_NAME\n",
    "        # base_output_directory=PIPELINE_ROOT,\n",
    "    )\n",
    "    custom_component_2_task.after(custom_component_1_task)\n",
    "\n",
    "compiler.Compiler().compile(\n",
    "    pipeline_func=pipeline,\n",
    "    package_path=\"pipeline/vertex-ai-test-pipeline.json\"\n",
    ")"
   ]
  },
  {
   "cell_type": "code",
   "execution_count": 11,
   "id": "71c673d1-0b03-4679-aa72-f0e0f4931905",
   "metadata": {
    "tags": []
   },
   "outputs": [
    {
     "name": "stdout",
     "output_type": "stream",
     "text": [
      "Creating PipelineJob\n",
      "PipelineJob created. Resource name: projects/925388845471/locations/us-central1/pipelineJobs/mews-pipeline-test-1-20250503065026\n",
      "To use this PipelineJob in another session:\n",
      "pipeline_job = aiplatform.PipelineJob.get('projects/925388845471/locations/us-central1/pipelineJobs/mews-pipeline-test-1-20250503065026')\n",
      "View Pipeline Job:\n",
      "https://console.cloud.google.com/vertex-ai/locations/us-central1/pipelines/runs/mews-pipeline-test-1-20250503065026?project=925388845471\n",
      "PipelineJob projects/925388845471/locations/us-central1/pipelineJobs/mews-pipeline-test-1-20250503065026 current state:\n",
      "PipelineState.PIPELINE_STATE_RUNNING\n",
      "PipelineJob projects/925388845471/locations/us-central1/pipelineJobs/mews-pipeline-test-1-20250503065026 current state:\n",
      "PipelineState.PIPELINE_STATE_RUNNING\n",
      "PipelineJob projects/925388845471/locations/us-central1/pipelineJobs/mews-pipeline-test-1-20250503065026 current state:\n",
      "PipelineState.PIPELINE_STATE_RUNNING\n",
      "PipelineJob projects/925388845471/locations/us-central1/pipelineJobs/mews-pipeline-test-1-20250503065026 current state:\n",
      "PipelineState.PIPELINE_STATE_RUNNING\n",
      "PipelineJob projects/925388845471/locations/us-central1/pipelineJobs/mews-pipeline-test-1-20250503065026 current state:\n",
      "PipelineState.PIPELINE_STATE_RUNNING\n",
      "PipelineJob projects/925388845471/locations/us-central1/pipelineJobs/mews-pipeline-test-1-20250503065026 current state:\n",
      "PipelineState.PIPELINE_STATE_RUNNING\n",
      "PipelineJob run completed. Resource name: projects/925388845471/locations/us-central1/pipelineJobs/mews-pipeline-test-1-20250503065026\n"
     ]
    }
   ],
   "source": [
    "run1 = aip.PipelineJob(\n",
    "    display_name=\"production-simple-pipeline-test\",\n",
    "    template_path=\"pipeline/vertex-ai-test-pipeline.json\",\n",
    "    # job_id=\"test-pipeline34\",\n",
    "    parameter_values={\n",
    "        \"query\": \"Input string\",\n",
    "        \"output_data_path_1\": \"bikedataset.csv\",\n",
    "        \"input_data_path_1\": \"bikedataset.csv\",\n",
    "        \"output_data_path_2\": \"bikedataset_2.csv\",\n",
    "        \"bucket_name\": BUCKET_NAME\n",
    "    },\n",
    "    enable_caching=False,\n",
    ")\n",
    "\n",
    "run1.run(service_account=SERVICE_ACCOUNT)\n"
   ]
  },
  {
   "cell_type": "code",
   "execution_count": null,
   "id": "7f4ec6be-a4f6-435a-92aa-a5d5cec28951",
   "metadata": {},
   "outputs": [],
   "source": []
  }
 ],
 "metadata": {
  "environment": {
   "kernel": "conda-base-py",
   "name": "workbench-notebooks.m129",
   "type": "gcloud",
   "uri": "us-docker.pkg.dev/deeplearning-platform-release/gcr.io/workbench-notebooks:m129"
  },
  "kernelspec": {
   "display_name": "Python 3 (ipykernel) (Local)",
   "language": "python",
   "name": "conda-base-py"
  },
  "language_info": {
   "codemirror_mode": {
    "name": "ipython",
    "version": 3
   },
   "file_extension": ".py",
   "mimetype": "text/x-python",
   "name": "python",
   "nbconvert_exporter": "python",
   "pygments_lexer": "ipython3",
   "version": "3.10.16"
  }
 },
 "nbformat": 4,
 "nbformat_minor": 5
}
