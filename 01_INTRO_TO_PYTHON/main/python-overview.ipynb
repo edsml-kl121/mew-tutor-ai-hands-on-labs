{
 "cells": [
  {
   "cell_type": "markdown",
   "metadata": {},
   "source": [
    "## Getting started with Python"
   ]
  },
  {
   "cell_type": "markdown",
   "metadata": {},
   "source": [
    "First thing you need to know\n",
    "\n",
    "**print()** to display, and debug\n",
    "\n",
    "if you don't **print** you won't know what is going on"
   ]
  },
  {
   "cell_type": "code",
   "execution_count": 3,
   "metadata": {},
   "outputs": [
    {
     "name": "stdout",
     "output_type": "stream",
     "text": [
      "Welcome to Python Programming!\n",
      "Welcome to Python 3 Programming!\n",
      "WELCOME TO PYTHON PROGRAMMING!\n",
      "welcome to python programming!\n"
     ]
    }
   ],
   "source": [
    "# Print a greeting message\n",
    "print(\"Welcome to Python Programming!\")\n",
    "print(\"Welcome to Python Programming!\".replace(\"Python\", \"Python 3\"))\n",
    "print(\"Welcome to Python Programming!\".upper())\n",
    "print(\"Welcome to Python Programming!\".lower())"
   ]
  },
  {
   "cell_type": "markdown",
   "metadata": {},
   "source": [
    "<p style=\"color: blue;\">Exercise</p> (1) print your name followed by current year. use .upper() to capitalize every thing "
   ]
  },
  {
   "cell_type": "markdown",
   "metadata": {},
   "source": [
    "### Variables\n",
    "\n",
    "Named storage location in memory that holds a value. \n",
    "Key characteristic of a variable. Holds:\n",
    "1. Name (person_name)\n",
    "2. Value (e.g. \"Hello\")\n",
    "3. Type (e.g. string)\n",
    "\n",
    "### DATA TYPES \n",
    "- String e.g. \"HELLO\"\n",
    "- Integer e.g. 12\n",
    "- Float e.g. 13.5\n",
    "- Boolean e.g. True\n",
    "- List, dictionary and sets will be covered later\n",
    "\n",
    "### Operations\n",
    "- \\+ is addition\n",
    "- \\* is multiplication\n",
    "- \\/ is division\n",
    "- \\- is subtract\n",
    "- \\** is to the power of"
   ]
  },
  {
   "cell_type": "code",
   "execution_count": 1,
   "metadata": {},
   "outputs": [
    {
     "name": "stdout",
     "output_type": "stream",
     "text": [
      "Name: Alice, Age: 25, Height: 5.6, Student: True\n"
     ]
    }
   ],
   "source": [
    "# Variables and data types\n",
    "name = \"Alice\"        # String\n",
    "age = 25              # Integer\n",
    "height = 5.6          # Float\n",
    "is_student = True     # Boolean\n",
    "\n",
    "# Print variables using f-string for formatted output\n",
    "print(f\"Name: {name}, Age: {age}, Height: {height}, Student: {is_student}\")"
   ]
  },
  {
   "cell_type": "markdown",
   "metadata": {},
   "source": [
    "<p style=\"color: blue;\">Exercise</p> print out what is 1000 times 10. Then you subtract 10 to <b>all</b> and divide <b>all</b> by 10.\n",
    "\n",
    "print out your name followed by current year. Remember to include the strings \"Name:\" and \"year:\" and use the f\"\" syntax"
   ]
  },
  {
   "cell_type": "markdown",
   "metadata": {},
   "source": [
    "## Common operations in python:\n",
    "\n",
    "### for loops.\n",
    "```python\n",
    "for i in range(10): ## printing number from 0,1,2,3,...,9\n",
    "    print(i)\n",
    "```\n",
    "\n",
    "### conditioning\n",
    "```python\n",
    "x = 2\n",
    "if x > 2:\n",
    "    print(\"X is greater than 2\")\n",
    "else:\n",
    "    x < 2:\n",
    "    print(\"X is less than 2\")\n",
    "```\n",
    "\n",
    "###  Basic operations\n",
    "- max() and min(), avg() -> e.g. max([1,3,4]) -> 4\n",
    "- X % 2 == 0. (Is X divisible by 2?)"
   ]
  },
  {
   "cell_type": "markdown",
   "metadata": {},
   "source": [
    "<p style=\"color: blue;\">Exercise</p> Print \"YAY\" only if variable X is greater than 10.\n"
   ]
  },
  {
   "cell_type": "markdown",
   "metadata": {},
   "source": [
    "## Data types"
   ]
  },
  {
   "cell_type": "code",
   "execution_count": 2,
   "metadata": {},
   "outputs": [
    {
     "name": "stdout",
     "output_type": "stream",
     "text": [
      "<class 'str'>\n",
      "<class 'int'>\n",
      "<class 'float'>\n",
      "<class 'bool'>\n"
     ]
    }
   ],
   "source": [
    "# Print the data types of the variables\n",
    "print(type(name))\n",
    "print(type(age))\n",
    "print(type(height))\n",
    "print(type(is_student))"
   ]
  },
  {
   "cell_type": "markdown",
   "metadata": {},
   "source": [
    "<p style=\"color: blue;\">Exercise</p> Create your own variable and find the type for it. Choose any."
   ]
  },
  {
   "cell_type": "markdown",
   "metadata": {},
   "source": [
    "## Function"
   ]
  },
  {
   "cell_type": "markdown",
   "metadata": {},
   "source": [
    "A function is a block of reusable code that performs a specific task or operation. Functions allow you to break a program into smaller, manageable, and reusable pieces, improving readability and reducing code repetition."
   ]
  },
  {
   "cell_type": "code",
   "execution_count": 3,
   "metadata": {},
   "outputs": [
    {
     "name": "stdout",
     "output_type": "stream",
     "text": [
      "The area of the rectangle is 15\n"
     ]
    }
   ],
   "source": [
    "# Function to calculate the area of a rectangle\n",
    "def calculate_area(length, width):\n",
    "    return length * width\n",
    "\n",
    "# Call the function and print the result\n",
    "area = calculate_area(5, 3)\n",
    "print(f\"The area of the rectangle is {area}\")"
   ]
  },
  {
   "cell_type": "markdown",
   "metadata": {},
   "source": [
    "<p style=\"color: blue;\">Exercise</p> Write a function to return \"Hello\". Name the function as \"sayhi\"\n",
    "\n",
    "Write a function to accept your age and your parent's age. Return the Summation of these two ages as an integer.\n",
    "\n",
    "Write a function to accept your age and your parent's age. Return the Summation of these two ages as a string saying \"The combined age is: {combined_age}\"\n"
   ]
  },
  {
   "cell_type": "markdown",
   "metadata": {},
   "source": [
    "## Different Data Structures"
   ]
  },
  {
   "cell_type": "markdown",
   "metadata": {},
   "source": [
    "mutable (unchangeable)\n",
    "- **List**: An ordered collection of items. Allows duplicates. Example: my_list = [1, 2, 3, 4]\n",
    "\n",
    "- **Set** - An unordered collection of unique items. Does not allow duplicates. Example: my_set = {1, 2, 3}\n",
    "\n",
    "- **Dictionary** - Stores key-value pairs in an unordered structure. Keys must be unique. Example: my_dict = {\"key1\": \"value1\", \"key2\": \"value2\"}\n",
    "\n",
    "Immutable (Changeable)\n",
    "- **Tuple** - An ordered collection of items. Allows duplicates. Example: my_tuple = (1, 2, 3, 4)\n"
   ]
  },
  {
   "cell_type": "markdown",
   "metadata": {},
   "source": []
  },
  {
   "cell_type": "code",
   "execution_count": null,
   "metadata": {},
   "outputs": [],
   "source": [
    "# List\n",
    "fruits = [\"apple\", \"banana\", \"cherry\"]\n",
    "fruits.append(\"orange\")\n",
    "print(\"List:\", fruits)\n",
    "\n",
    "# Tuple\n",
    "coordinates = (10, 20)\n",
    "print(\"Tuple:\", coordinates)\n",
    "\n",
    "# Set\n",
    "unique_numbers = {1, 2, 3, 3, 4}  # Duplicates are automatically removed\n",
    "print(\"Set:\", unique_numbers)\n",
    "\n",
    "# Dictionary\n",
    "person = {\"name\": \"Alice\", \"age\": 25}\n",
    "print(\"Dictionary:\", person)\n",
    "print(\"Name:\", person[\"name\"])"
   ]
  },
  {
   "cell_type": "markdown",
   "metadata": {},
   "source": [
    "<p style=\"color: blue;\">Exercise</p> Write a function that takes a list, run a loop to sum up all the elements in the list.\n",
    "\n",
    "convert this list [1,2,2,3] into a set using `set()`. What do you notice?\n",
    "\n",
    "Create a dictionary that has Month map with the month number ie. `january` -> `1`. print out the value corresponding to the key `June`\n",
    "\n",
    "Count the elements in the list [1,2,3,4] using `len()`\n"
   ]
  },
  {
   "cell_type": "markdown",
   "metadata": {},
   "source": [
    "## File handling"
   ]
  },
  {
   "cell_type": "code",
   "execution_count": 4,
   "metadata": {},
   "outputs": [
    {
     "name": "stdout",
     "output_type": "stream",
     "text": [
      "Hello, Python!\n"
     ]
    }
   ],
   "source": [
    "# Write to a file\n",
    "with open(\"example.txt\", \"w\") as file:\n",
    "    file.write(\"Hello, Python!\")\n",
    "\n",
    "# Read from a file\n",
    "with open(\"example.txt\", \"r\") as file:\n",
    "    content = file.read()\n",
    "    print(content)"
   ]
  },
  {
   "cell_type": "markdown",
   "metadata": {},
   "source": [
    "## Object oriented Programming\n",
    "\n",
    "Object-Oriented Programming (OOP) is a programming paradigm that organizes code into objects that encapsulate data (attributes) and behavior (methods). This approach is designed to model real-world entities and their interactions in a structured and reusable manner.\n",
    "\n",
    "**Class** - blueprint for creating objects (here you define attributes and method)\n",
    "\n",
    "Example: \n",
    "```python\n",
    "class Car:\n",
    "    def __init__(self, brand, model):\n",
    "        self.brand = brand\n",
    "        self.model = model\n",
    "\n",
    "    def drive(self):\n",
    "        print(f\"The {self.brand} {self.model} is driving.\")\n",
    "```\n",
    "\n",
    "**Object** - An instance of a class. Created using the class blue print.\n",
    "\n",
    "Example:\n",
    "```python\n",
    "my_car = Car(\"Toyota\", \"Corolla\")\n",
    "my_car.drive() # Output: The Toyota Corolla is driving\n",
    "```\n",
    "\n",
    "**Encapsulation** - Restricts access to the internal details of an object and only exposes what is necessary through methods. Achieved using private variables and public methods.\n",
    "\n",
    "Example: \n",
    "```python\n",
    "class BankAccount:\n",
    "    def __init__(self, balance):\n",
    "        self.__balance = balance  # Private attribute\n",
    "\n",
    "    def deposit(self, amount):\n",
    "        self.__balance += amount\n",
    "\n",
    "    def get_balance(self):\n",
    "        return self.__balance\n",
    "```\n",
    "\n",
    "**Inheritance** - Allows a class to inherit properties and methods from another class (parent class). Promotes code reusability.\n",
    "\n",
    "**Polymorphism** - Allows methods to have the same name but behave differently depending on the object calling them.\n",
    "\n",
    "```python\n",
    "class Animal:\n",
    "    def make_sound(self):\n",
    "        print(\"Some generic sound\")\n",
    "\n",
    "class Dog(Animal):\n",
    "    def make_sound(self):\n",
    "        print(\"Bark\")\n",
    "```\n",
    "\n",
    "\n",
    "Advantages of OOP\n",
    "1. Code Reusability:\n",
    "•Inheritance allows reuse of existing code.\n",
    "2. Modularity:\n",
    "•Code is organized into classes and objects, making it more modular.\n",
    "3. Scalability:\n",
    "•OOP principles make it easier to scale applications.\n",
    "4. Maintainability:\n",
    "•Encapsulation makes code easier to maintain by exposing only the necessary parts of an object.\n",
    "5. Real-World Mapping:\n",
    "•Models real-world entities and relationships intuitively."
   ]
  },
  {
   "cell_type": "code",
   "execution_count": 1,
   "metadata": {},
   "outputs": [
    {
     "name": "stdout",
     "output_type": "stream",
     "text": [
      "Hello, my name is Alice and I am 25 years old.\n",
      "Hello, my name is Bob and I am 30 years old.\n",
      "Hello Male!, my name is Bob and I am 30 years old.\n"
     ]
    },
    {
     "data": {
      "text/plain": [
       "30"
      ]
     },
     "execution_count": 1,
     "metadata": {},
     "output_type": "execute_result"
    }
   ],
   "source": [
    "# Define a class\n",
    "class Person:\n",
    "    def __init__(self, name, age):\n",
    "        self.__name = name  # Private attribute\n",
    "        self.__age = age    # Private attribute\n",
    "\n",
    "    # Public method to access the private name\n",
    "    def get_name(self):\n",
    "        return self.__name\n",
    "\n",
    "    # Public method to access the private age\n",
    "    def get_age(self):\n",
    "        return self.__age\n",
    "\n",
    "    # Public method to update the private age with validation\n",
    "    def set_age(self, age):\n",
    "        if age > 0:\n",
    "            self.__age = age\n",
    "        else:\n",
    "            print(\"Age must be a positive number.\")\n",
    "\n",
    "    def greet(self):\n",
    "        print(f\"Hello, my name is {self.__name} and I am {self.__age} years old.\")\n",
    "\n",
    "# Subclass\n",
    "class Male(Person):  # Inheritance\n",
    "    def greet(self):  # Polymorphism\n",
    "        print(f\"Hello Male!, my name is {self.get_name()} and I am {self.get_age()} years old.\")\n",
    "\n",
    "\n",
    "# Create objects\n",
    "alice = Person(\"Alice\", 25) # Object (instantiating classes)\n",
    "bob = Person(\"Bob\", 30)\n",
    "bob_male = Male(\"Bob\", 30) # \n",
    "\n",
    "\n",
    "# Call methods\n",
    "alice.greet()\n",
    "bob.greet()\n",
    "bob_male.greet()\n",
    "bob_male.get_age()"
   ]
  },
  {
   "cell_type": "code",
   "execution_count": null,
   "metadata": {},
   "outputs": [],
   "source": []
  }
 ],
 "metadata": {
  "kernelspec": {
   "display_name": "Python 3",
   "language": "python",
   "name": "python3"
  },
  "language_info": {
   "codemirror_mode": {
    "name": "ipython",
    "version": 3
   },
   "file_extension": ".py",
   "mimetype": "text/x-python",
   "name": "python",
   "nbconvert_exporter": "python",
   "pygments_lexer": "ipython3",
   "version": "3.11.11"
  }
 },
 "nbformat": 4,
 "nbformat_minor": 2
}
