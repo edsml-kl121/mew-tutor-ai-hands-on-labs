{
 "cells": [
  {
   "cell_type": "markdown",
   "metadata": {},
   "source": [
    "## Getting started with Python"
   ]
  },
  {
   "cell_type": "code",
   "execution_count": null,
   "metadata": {},
   "outputs": [],
   "source": [
    "# Print a greeting message\n",
    "print(\"Welcome to Python Programming!\")"
   ]
  },
  {
   "cell_type": "code",
   "execution_count": 1,
   "metadata": {},
   "outputs": [
    {
     "name": "stdout",
     "output_type": "stream",
     "text": [
      "Name: Alice, Age: 25, Height: 5.6, Student: True\n"
     ]
    }
   ],
   "source": [
    "# Variables and data types\n",
    "name = \"Alice\"        # String\n",
    "age = 25              # Integer\n",
    "height = 5.6          # Float\n",
    "is_student = True     # Boolean\n",
    "\n",
    "# Print variables using f-string for formatted output\n",
    "print(f\"Name: {name}, Age: {age}, Height: {height}, Student: {is_student}\")"
   ]
  },
  {
   "cell_type": "markdown",
   "metadata": {},
   "source": [
    "## Data types"
   ]
  },
  {
   "cell_type": "code",
   "execution_count": 2,
   "metadata": {},
   "outputs": [
    {
     "name": "stdout",
     "output_type": "stream",
     "text": [
      "<class 'str'>\n",
      "<class 'int'>\n",
      "<class 'float'>\n",
      "<class 'bool'>\n"
     ]
    }
   ],
   "source": [
    "# Print the data types of the variables\n",
    "print(type(name))\n",
    "print(type(age))\n",
    "print(type(height))\n",
    "print(type(is_student))"
   ]
  },
  {
   "cell_type": "markdown",
   "metadata": {},
   "source": [
    "## Function"
   ]
  },
  {
   "cell_type": "code",
   "execution_count": 3,
   "metadata": {},
   "outputs": [
    {
     "name": "stdout",
     "output_type": "stream",
     "text": [
      "The area of the rectangle is 15\n"
     ]
    }
   ],
   "source": [
    "# Function to calculate the area of a rectangle\n",
    "def calculate_area(length, width):\n",
    "    return length * width\n",
    "\n",
    "# Call the function and print the result\n",
    "area = calculate_area(5, 3)\n",
    "print(f\"The area of the rectangle is {area}\")"
   ]
  },
  {
   "cell_type": "markdown",
   "metadata": {},
   "source": [
    "## Different Data Structures"
   ]
  },
  {
   "cell_type": "code",
   "execution_count": null,
   "metadata": {},
   "outputs": [],
   "source": [
    "# List\n",
    "fruits = [\"apple\", \"banana\", \"cherry\"]\n",
    "fruits.append(\"orange\")\n",
    "print(\"List:\", fruits)\n",
    "\n",
    "# Tuple\n",
    "coordinates = (10, 20)\n",
    "print(\"Tuple:\", coordinates)\n",
    "\n",
    "# Set\n",
    "unique_numbers = {1, 2, 3, 3, 4}  # Duplicates are automatically removed\n",
    "print(\"Set:\", unique_numbers)\n",
    "\n",
    "# Dictionary\n",
    "person = {\"name\": \"Alice\", \"age\": 25}\n",
    "print(\"Dictionary:\", person)"
   ]
  },
  {
   "cell_type": "markdown",
   "metadata": {},
   "source": [
    "## File handling"
   ]
  },
  {
   "cell_type": "code",
   "execution_count": 4,
   "metadata": {},
   "outputs": [
    {
     "name": "stdout",
     "output_type": "stream",
     "text": [
      "Hello, Python!\n"
     ]
    }
   ],
   "source": [
    "# Write to a file\n",
    "with open(\"example.txt\", \"w\") as file:\n",
    "    file.write(\"Hello, Python!\")\n",
    "\n",
    "# Read from a file\n",
    "with open(\"example.txt\", \"r\") as file:\n",
    "    content = file.read()\n",
    "    print(content)"
   ]
  },
  {
   "cell_type": "code",
   "execution_count": 5,
   "metadata": {},
   "outputs": [
    {
     "name": "stdout",
     "output_type": "stream",
     "text": [
      "Titles: ['Top 15 Web Crawling Tools to Scrape Websites - GeeksforGeeks']\n"
     ]
    }
   ],
   "source": [
    "# Import necessary libraries\n",
    "import requests\n",
    "from bs4 import BeautifulSoup\n",
    "\n",
    "# Simple web crawler to fetch titles from a webpage\n",
    "url = \"https://www.geeksforgeeks.org/web-crawling-tools/\"\n",
    "response = requests.get(url)\n",
    "soup = BeautifulSoup(response.text, \"html.parser\")\n",
    "titles = soup.find_all(\"title\")\n",
    "print(\"Titles:\", [title.text for title in titles])"
   ]
  },
  {
   "cell_type": "code",
   "execution_count": 4,
   "metadata": {},
   "outputs": [
    {
     "name": "stdout",
     "output_type": "stream",
     "text": [
      "Collecting google-generativeai\n",
      "  Downloading google_generativeai-0.8.3-py3-none-any.whl.metadata (3.9 kB)\n",
      "Collecting google-ai-generativelanguage==0.6.10 (from google-generativeai)\n",
      "  Downloading google_ai_generativelanguage-0.6.10-py3-none-any.whl.metadata (5.6 kB)\n",
      "Requirement already satisfied: google-api-core in /Users/kandanai/anaconda3/envs/new-watsonx-lab/lib/python3.11/site-packages (from google-generativeai) (2.19.2)\n",
      "Collecting google-api-python-client (from google-generativeai)\n",
      "  Downloading google_api_python_client-2.156.0-py2.py3-none-any.whl.metadata (6.7 kB)\n",
      "Requirement already satisfied: google-auth>=2.15.0 in /Users/kandanai/anaconda3/envs/new-watsonx-lab/lib/python3.11/site-packages (from google-generativeai) (2.34.0)\n",
      "Requirement already satisfied: protobuf in /Users/kandanai/anaconda3/envs/new-watsonx-lab/lib/python3.11/site-packages (from google-generativeai) (5.28.0)\n",
      "Requirement already satisfied: pydantic in /Users/kandanai/anaconda3/envs/new-watsonx-lab/lib/python3.11/site-packages (from google-generativeai) (1.10.18)\n",
      "Requirement already satisfied: tqdm in /Users/kandanai/anaconda3/envs/new-watsonx-lab/lib/python3.11/site-packages (from google-generativeai) (4.66.4)\n",
      "Requirement already satisfied: typing-extensions in /Users/kandanai/anaconda3/envs/new-watsonx-lab/lib/python3.11/site-packages (from google-generativeai) (4.12.2)\n",
      "Requirement already satisfied: proto-plus<2.0.0dev,>=1.22.3 in /Users/kandanai/anaconda3/envs/new-watsonx-lab/lib/python3.11/site-packages (from google-ai-generativelanguage==0.6.10->google-generativeai) (1.24.0)\n",
      "Requirement already satisfied: googleapis-common-protos<2.0.dev0,>=1.56.2 in /Users/kandanai/anaconda3/envs/new-watsonx-lab/lib/python3.11/site-packages (from google-api-core->google-generativeai) (1.63.2)\n",
      "Requirement already satisfied: requests<3.0.0.dev0,>=2.18.0 in /Users/kandanai/anaconda3/envs/new-watsonx-lab/lib/python3.11/site-packages (from google-api-core->google-generativeai) (2.32.2)\n",
      "Requirement already satisfied: cachetools<6.0,>=2.0.0 in /Users/kandanai/anaconda3/envs/new-watsonx-lab/lib/python3.11/site-packages (from google-auth>=2.15.0->google-generativeai) (5.3.3)\n",
      "Requirement already satisfied: pyasn1-modules>=0.2.1 in /Users/kandanai/anaconda3/envs/new-watsonx-lab/lib/python3.11/site-packages (from google-auth>=2.15.0->google-generativeai) (0.4.0)\n",
      "Requirement already satisfied: rsa<5,>=3.1.4 in /Users/kandanai/anaconda3/envs/new-watsonx-lab/lib/python3.11/site-packages (from google-auth>=2.15.0->google-generativeai) (4.9)\n",
      "Collecting httplib2<1.dev0,>=0.19.0 (from google-api-python-client->google-generativeai)\n",
      "  Using cached httplib2-0.22.0-py3-none-any.whl.metadata (2.6 kB)\n",
      "Collecting google-auth-httplib2<1.0.0,>=0.2.0 (from google-api-python-client->google-generativeai)\n",
      "  Using cached google_auth_httplib2-0.2.0-py2.py3-none-any.whl.metadata (2.2 kB)\n",
      "Collecting uritemplate<5,>=3.0.1 (from google-api-python-client->google-generativeai)\n",
      "  Using cached uritemplate-4.1.1-py2.py3-none-any.whl.metadata (2.9 kB)\n",
      "Requirement already satisfied: grpcio<2.0dev,>=1.33.2 in /Users/kandanai/anaconda3/envs/new-watsonx-lab/lib/python3.11/site-packages (from google-api-core[grpc]!=2.0.*,!=2.1.*,!=2.10.*,!=2.2.*,!=2.3.*,!=2.4.*,!=2.5.*,!=2.6.*,!=2.7.*,!=2.8.*,!=2.9.*,<3.0.0dev,>=1.34.1->google-ai-generativelanguage==0.6.10->google-generativeai) (1.66.1)\n",
      "Requirement already satisfied: grpcio-status<2.0.dev0,>=1.33.2 in /Users/kandanai/anaconda3/envs/new-watsonx-lab/lib/python3.11/site-packages (from google-api-core[grpc]!=2.0.*,!=2.1.*,!=2.10.*,!=2.2.*,!=2.3.*,!=2.4.*,!=2.5.*,!=2.6.*,!=2.7.*,!=2.8.*,!=2.9.*,<3.0.0dev,>=1.34.1->google-ai-generativelanguage==0.6.10->google-generativeai) (1.66.1)\n",
      "Requirement already satisfied: pyparsing!=3.0.0,!=3.0.1,!=3.0.2,!=3.0.3,<4,>=2.4.2 in /Users/kandanai/anaconda3/envs/new-watsonx-lab/lib/python3.11/site-packages (from httplib2<1.dev0,>=0.19.0->google-api-python-client->google-generativeai) (3.0.9)\n",
      "Requirement already satisfied: pyasn1<0.7.0,>=0.4.6 in /Users/kandanai/anaconda3/envs/new-watsonx-lab/lib/python3.11/site-packages (from pyasn1-modules>=0.2.1->google-auth>=2.15.0->google-generativeai) (0.6.0)\n",
      "Requirement already satisfied: charset-normalizer<4,>=2 in /Users/kandanai/anaconda3/envs/new-watsonx-lab/lib/python3.11/site-packages (from requests<3.0.0.dev0,>=2.18.0->google-api-core->google-generativeai) (3.3.2)\n",
      "Requirement already satisfied: idna<4,>=2.5 in /Users/kandanai/anaconda3/envs/new-watsonx-lab/lib/python3.11/site-packages (from requests<3.0.0.dev0,>=2.18.0->google-api-core->google-generativeai) (3.7)\n",
      "Requirement already satisfied: urllib3<3,>=1.21.1 in /Users/kandanai/anaconda3/envs/new-watsonx-lab/lib/python3.11/site-packages (from requests<3.0.0.dev0,>=2.18.0->google-api-core->google-generativeai) (1.26.20)\n",
      "Requirement already satisfied: certifi>=2017.4.17 in /Users/kandanai/anaconda3/envs/new-watsonx-lab/lib/python3.11/site-packages (from requests<3.0.0.dev0,>=2.18.0->google-api-core->google-generativeai) (2024.7.4)\n",
      "Downloading google_generativeai-0.8.3-py3-none-any.whl (160 kB)\n",
      "\u001b[2K   \u001b[90m━━━━━━━━━━━━━━━━━━━━━━━━━━━━━━━━━━━━━━━━\u001b[0m \u001b[32m160.8/160.8 kB\u001b[0m \u001b[31m2.0 MB/s\u001b[0m eta \u001b[36m0:00:00\u001b[0ma \u001b[36m0:00:01\u001b[0m\n",
      "\u001b[?25hDownloading google_ai_generativelanguage-0.6.10-py3-none-any.whl (760 kB)\n",
      "\u001b[2K   \u001b[90m━━━━━━━━━━━━━━━━━━━━━━━━━━━━━━━━━━━━━━━━\u001b[0m \u001b[32m760.0/760.0 kB\u001b[0m \u001b[31m8.5 MB/s\u001b[0m eta \u001b[36m0:00:00\u001b[0ma \u001b[36m0:00:01\u001b[0m\n",
      "\u001b[?25hDownloading google_api_python_client-2.156.0-py2.py3-none-any.whl (12.7 MB)\n",
      "\u001b[2K   \u001b[90m━━━━━━━━━━━━━━━━━━━━━━━━━━━━━━━━━━━━━━━━\u001b[0m \u001b[32m12.7/12.7 MB\u001b[0m \u001b[31m12.3 MB/s\u001b[0m eta \u001b[36m0:00:00\u001b[0ma \u001b[36m0:00:01\u001b[0m\n",
      "\u001b[?25hUsing cached google_auth_httplib2-0.2.0-py2.py3-none-any.whl (9.3 kB)\n",
      "Using cached httplib2-0.22.0-py3-none-any.whl (96 kB)\n",
      "Using cached uritemplate-4.1.1-py2.py3-none-any.whl (10 kB)\n",
      "Installing collected packages: uritemplate, httplib2, google-auth-httplib2, google-api-python-client, google-ai-generativelanguage, google-generativeai\n",
      "Successfully installed google-ai-generativelanguage-0.6.10 google-api-python-client-2.156.0 google-auth-httplib2-0.2.0 google-generativeai-0.8.3 httplib2-0.22.0 uritemplate-4.1.1\n",
      "Note: you may need to restart the kernel to use updated packages.\n"
     ]
    }
   ],
   "source": [
    "# Install the google-generativeai package\n",
    "pip install google-generativeai"
   ]
  },
  {
   "cell_type": "code",
   "execution_count": 6,
   "metadata": {},
   "outputs": [
    {
     "name": "stdout",
     "output_type": "stream",
     "text": [
      "Hello there! How can I help you today?\n",
      "\n"
     ]
    }
   ],
   "source": [
    "# Import the google.generativeai library\n",
    "import google.generativeai as genai\n",
    "import os\n",
    "\n",
    "# Configure the API key\n",
    "# genai.configure(api_key=os.environ[\"GEMINI_API_KEY\"])\n",
    "genai.configure(api_key=\"APIKEY_HERE\")\n",
    "\n",
    "# Create the model\n",
    "generation_config = {\n",
    "  \"temperature\": 1,\n",
    "  \"top_p\": 0.95,\n",
    "  \"top_k\": 40,\n",
    "  \"max_output_tokens\": 8192,\n",
    "  \"response_mime_type\": \"text/plain\",\n",
    "}\n",
    "\n",
    "model = genai.GenerativeModel(\n",
    "  model_name=\"gemini-2.0-flash-exp\",\n",
    "  generation_config=generation_config,\n",
    ")\n",
    "\n",
    "chat_session = model.start_chat(\n",
    "  history=[\n",
    "  ]\n",
    ")\n",
    "\n",
    "response = chat_session.send_message(\"hello\")\n",
    "\n",
    "print(response.text)"
   ]
  },
  {
   "cell_type": "code",
   "execution_count": 7,
   "metadata": {},
   "outputs": [
    {
     "name": "stdout",
     "output_type": "stream",
     "text": [
      "      Name  Age City Age Group\n",
      "0    Alice   25   NY     Young\n",
      "1      Bob   30   LA    Mature\n",
      "2  Charlie   35   SF    Mature\n"
     ]
    }
   ],
   "source": [
    "import pandas as pd\n",
    "\n",
    "# Load dataset\n",
    "data = {\"Name\": [\"Alice\", \"Bob\", \"Charlie\"], \"Age\": [25, 30, 35], \"City\": [\"NY\", \"LA\", \"SF\"]}\n",
    "df = pd.DataFrame(data)\n",
    "\n",
    "# Preprocess data\n",
    "df[\"Age Group\"] = df[\"Age\"].apply(lambda x: \"Young\" if x < 30 else \"Mature\")\n",
    "print(df)"
   ]
  },
  {
   "cell_type": "markdown",
   "metadata": {},
   "source": [
    "## Object oriented Programming\n",
    "\n",
    "Object-Oriented Programming (OOP) is a programming paradigm that organizes code into objects that encapsulate data (attributes) and behavior (methods). This approach is designed to model real-world entities and their interactions in a structured and reusable manner.\n",
    "\n",
    "**Class** - blueprint for creating objects (here you define attributes and method)\n",
    "\n",
    "Example: \n",
    "```python\n",
    "class Car:\n",
    "    def __init__(self, brand, model):\n",
    "        self.brand = brand\n",
    "        self.model = model\n",
    "\n",
    "    def drive(self):\n",
    "        print(f\"The {self.brand} {self.model} is driving.\")\n",
    "```\n",
    "\n",
    "**Object** - An instance of a class. Created using the class blue print.\n",
    "\n",
    "Example:\n",
    "```python\n",
    "my_car = Car(\"Toyota\", \"Corolla\")\n",
    "my_car.drive() # Output: The Toyota Corolla is driving\n",
    "```\n",
    "\n",
    "**Encapsulation** - Restricts access to the internal details of an object and only exposes what is necessary through methods. Achieved using private variables and public methods.\n",
    "\n",
    "Example: \n",
    "```python\n",
    "class BankAccount:\n",
    "    def __init__(self, balance):\n",
    "        self.__balance = balance  # Private attribute\n",
    "\n",
    "    def deposit(self, amount):\n",
    "        self.__balance += amount\n",
    "\n",
    "    def get_balance(self):\n",
    "        return self.__balance\n",
    "```\n",
    "\n",
    "**Inheritance** - Allows a class to inherit properties and methods from another class (parent class). Promotes code reusability.\n",
    "\n",
    "**Polymorphism** - Allows methods to have the same name but behave differently depending on the object calling them.\n",
    "\n",
    "```python\n",
    "class Animal:\n",
    "    def make_sound(self):\n",
    "        print(\"Some generic sound\")\n",
    "\n",
    "class Dog(Animal):\n",
    "    def make_sound(self):\n",
    "        print(\"Bark\")\n",
    "```\n",
    "\n",
    "\n",
    "Advantages of OOP\n",
    "1. Code Reusability:\n",
    "•Inheritance allows reuse of existing code.\n",
    "2. Modularity:\n",
    "•Code is organized into classes and objects, making it more modular.\n",
    "3. Scalability:\n",
    "•OOP principles make it easier to scale applications.\n",
    "4. Maintainability:\n",
    "•Encapsulation makes code easier to maintain by exposing only the necessary parts of an object.\n",
    "5. Real-World Mapping:\n",
    "•Models real-world entities and relationships intuitively."
   ]
  },
  {
   "cell_type": "code",
   "execution_count": 2,
   "metadata": {},
   "outputs": [
    {
     "name": "stdout",
     "output_type": "stream",
     "text": [
      "Hello, my name is Alice and I am 25 years old.\n",
      "Hello Male!, my name is Bob and I am 30 years old.\n"
     ]
    }
   ],
   "source": [
    "# Define a class\n",
    "class Person:\n",
    "    def __init__(self, name, age):\n",
    "        self.__name = name  # Private attribute\n",
    "        self.__age = age    # Private attribute\n",
    "\n",
    "    # Public method to access the private name\n",
    "    def get_name(self):\n",
    "        return self.__name\n",
    "\n",
    "    # Public method to access the private age\n",
    "    def get_age(self):\n",
    "        return self.__age\n",
    "\n",
    "    # Public method to update the private age with validation\n",
    "    def set_age(self, age):\n",
    "        if age > 0:\n",
    "            self.__age = age\n",
    "        else:\n",
    "            print(\"Age must be a positive number.\")\n",
    "\n",
    "    def greet(self):\n",
    "        print(f\"Hello, my name is {self.__name} and I am {self.__age} years old.\")\n",
    "\n",
    "# Subclass\n",
    "class Male(Person):  # Inheritance\n",
    "    def greet(self):  # Polymorphism\n",
    "        print(f\"Hello Male!, my name is {self.get_name()} and I am {self.get_age()} years old.\")\n",
    "\n",
    "# Create objects\n",
    "alice = Person(\"Alice\", 25) # Object (instantiating classes)\n",
    "bob = Person(\"Bob\", 30)\n",
    "bob_male = Male(\"Bob\", 30) # \n",
    "\n",
    "\n",
    "# Call methods\n",
    "alice.greet()\n",
    "bob.greet()\n",
    "bob_male.greet()"
   ]
  },
  {
   "cell_type": "code",
   "execution_count": null,
   "metadata": {},
   "outputs": [],
   "source": []
  }
 ],
 "metadata": {
  "kernelspec": {
   "display_name": "new-watsonx-lab",
   "language": "python",
   "name": "python3"
  },
  "language_info": {
   "codemirror_mode": {
    "name": "ipython",
    "version": 3
   },
   "file_extension": ".py",
   "mimetype": "text/x-python",
   "name": "python",
   "nbconvert_exporter": "python",
   "pygments_lexer": "ipython3",
   "version": "3.11.9"
  }
 },
 "nbformat": 4,
 "nbformat_minor": 2
}
