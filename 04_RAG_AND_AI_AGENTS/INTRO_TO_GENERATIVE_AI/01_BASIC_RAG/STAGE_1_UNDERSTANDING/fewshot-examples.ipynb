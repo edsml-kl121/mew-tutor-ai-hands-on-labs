{
 "cells": [
  {
   "cell_type": "code",
   "execution_count": 1,
   "id": "67ff1e34",
   "metadata": {},
   "outputs": [],
   "source": [
    "import os\n",
    "from dotenv import load_dotenv\n",
    "from pymilvus import connections\n",
    "from google import genai\n",
    "from google.genai.types import EmbedContentConfig\n",
    "import numpy as np\n",
    "from google import genai\n",
    "from google.genai import types\n",
    "\n",
    "# Set up the Gemini client - ensure you have your API key set in environment variables\n",
    "api_key = os.environ.get(\"GEMINI_API_KEY\")\n",
    "if not api_key:\n",
    "    raise ValueError(\"Please set the GEMINI_API_KEY environment variable\")\n",
    "\n",
    "client = genai.Client(api_key=api_key)"
   ]
  },
  {
   "cell_type": "markdown",
   "id": "65df0da8",
   "metadata": {},
   "source": [
    "## One Shot Example"
   ]
  },
  {
   "cell_type": "code",
   "execution_count": 9,
   "id": "a2149762",
   "metadata": {},
   "outputs": [
    {
     "name": "stdout",
     "output_type": "stream",
     "text": [
      "Thailand cut electricity to Myanmar areas linked to scam call centers following Chinese pressure, but the move had little impact as these groups use backup power sources like generators, solar panels, and electricity from China and Laos. International media reports the areas are large scam hubs affecting thousands, mainly Chinese victims, and offer various services, essentially acting as mini-cities. While the scam centers continue to operate, locals in Myanmar are reportedly bearing the brunt of the power cuts.\n",
      "\n"
     ]
    }
   ],
   "source": [
    "contents = [\n",
    "    types.Content(\n",
    "        role=\"user\",\n",
    "        parts=[\n",
    "            types.Part.from_text(text=\"\"\"Please summarize the following news concisely: The Prime Minister has instructed relevant ministers to investigate the collapse of the new Office of the Auditor General building, stating that the world needs answers about what happened in Thailand.\n",
    "After the Cabinet meeting, the PM ordered a review of all projects awarded to the construction company responsible for the collapsed building, including a deep dive into which projects the company handled.\n",
    "The Minister of Industry reported that the steel used was substandard, and the PM stressed the importance of a thorough investigation due to the damage to Thailand’s reputation.\n",
    "The Minister of Justice added that the DSI (Department of Special Investigation) has already taken this on as a special case.\n",
    "The PM also assigned related ministries to reach out to countries frequently affected by earthquakes, like Japan and some in Europe, to adopt advanced technology for earthquake detection and mitigation.\n",
    "\"\"\"),\n",
    "        ],\n",
    "    ),\n",
    "    types.Content(\n",
    "        role=\"model\",\n",
    "        parts=[\n",
    "            types.Part.from_text(text=\"\"\"The Prime Minister ordered a swift investigation into the collapse of the new Auditor General building, likely due to an earthquake, aiming to restore international investor and tourist confidence.\n",
    "There will also be an investigation into whether substandard steel was used in other projects.\n",
    "He urged not to target the nationality of the construction company. The DSI has officially taken the case as a special investigation.\"\"\"),\n",
    "        ],\n",
    "    ),\n",
    "    types.Content(\n",
    "        role=\"user\",\n",
    "        parts=[\n",
    "            types.Part.from_text(text=\"\"\"Please summarize the following news concisely: Several international media outlets have reported on Thailand cutting electricity to areas in Myanmar linked to call center scams.\n",
    "However, reports say the cut had little impact as these groups already had backup power.\n",
    "Radio Free Asia cited sources saying that hospitals and public areas in Myawaddy were unaffected, and these groups used generators, solar panels, or bought electricity from China and Laos.\n",
    "The move followed a visit by a senior Chinese security official to Thailand regarding scams targeting Chinese citizens, such as a recent high-profile case involving actress Xing Xing.\n",
    "CNN and Reuters reported that the areas where power was cut are known hotspots for scam centers worth billions, but some buildings continued operating using backup power.\n",
    "The reports added that these centers resemble mini-cities with shops, childcare, gambling, and sex services, and that about 6,500 victims from 23 countries—4,500 of them Chinese—have been affected in Myawaddy alone.\n",
    "Reuters noted that while gray Chinese businesses remained unaffected, locals in Myanmar faced the consequences.\n",
    "\"\"\"),\n",
    "        ],\n",
    "    ),\n",
    "]\n",
    "    \n",
    "response = client.models.generate_content(\n",
    "    model='gemini-2.0-flash',\n",
    "    contents=contents,\n",
    ")\n",
    "print(response.text)"
   ]
  },
  {
   "cell_type": "markdown",
   "id": "3719c770",
   "metadata": {},
   "source": [
    "## Two Shot Example"
   ]
  },
  {
   "cell_type": "code",
   "execution_count": 10,
   "id": "8120a7fd",
   "metadata": {},
   "outputs": [
    {
     "name": "stdout",
     "output_type": "stream",
     "text": [
      "A Facebook page, Watchdog Thailand, has exposed the Khlong Sam SAO in Pathum Thani for allegedly purchasing overpriced outdoor fitness equipment. They bought 15 sets (17 machines each) for nearly 30 million baht, leading to public outrage after the cost was revealed.\n",
      "\n"
     ]
    }
   ],
   "source": [
    "contents = [\n",
    "    types.Content(\n",
    "        role=\"user\",\n",
    "        parts=[\n",
    "            types.Part.from_text(text=\"\"\"Please summarize the following news concisely: The Prime Minister has instructed relevant ministers to investigate the collapse of the new Office of the Auditor General building, stating that the world needs answers about what happened in Thailand.\n",
    "After the Cabinet meeting, the PM ordered a review of all projects awarded to the construction company responsible for the collapsed building, including a deep dive into which projects the company handled.\n",
    "The Minister of Industry reported that the steel used was substandard, and the PM stressed the importance of a thorough investigation due to the damage to Thailand’s reputation.\n",
    "The Minister of Justice added that the DSI (Department of Special Investigation) has already taken this on as a special case.\n",
    "The PM also assigned related ministries to reach out to countries frequently affected by earthquakes, like Japan and some in Europe, to adopt advanced technology for earthquake detection and mitigation.\n",
    "\"\"\"),\n",
    "        ],\n",
    "    ),\n",
    "    types.Content(\n",
    "        role=\"model\",\n",
    "        parts=[\n",
    "            types.Part.from_text(text=\"\"\"The Prime Minister ordered a swift investigation into the collapse of the new Auditor General building, likely due to an earthquake, aiming to restore international investor and tourist confidence.\n",
    "There will also be an investigation into whether substandard steel was used in other projects.\n",
    "He urged not to target the nationality of the construction company. The DSI has officially taken the case as a special investigation.\"\"\"),\n",
    "        ],\n",
    "    ),\n",
    "    types.Content(\n",
    "        role=\"user\",\n",
    "        parts=[\n",
    "            types.Part.from_text(text=\"\"\"Please summarize the following news concisely: Several international media outlets have reported on Thailand cutting electricity to areas in Myanmar linked to call center scams.\n",
    "However, reports say the cut had little impact as these groups already had backup power.\n",
    "Radio Free Asia cited sources saying that hospitals and public areas in Myawaddy were unaffected, and these groups used generators, solar panels, or bought electricity from China and Laos.\n",
    "The move followed a visit by a senior Chinese security official to Thailand regarding scams targeting Chinese citizens, such as a recent high-profile case involving actress Xing Xing.\n",
    "CNN and Reuters reported that the areas where power was cut are known hotspots for scam centers worth billions, but some buildings continued operating using backup power.\n",
    "The reports added that these centers resemble mini-cities with shops, childcare, gambling, and sex services, and that about 6,500 victims from 23 countries—4,500 of them Chinese—have been affected in Myawaddy alone.\n",
    "Reuters noted that while gray Chinese businesses remained unaffected, locals in Myanmar faced the consequences.\n",
    "\"\"\"),\n",
    "        ],\n",
    "    ),\n",
    "    types.Content(\n",
    "        role=\"model\",\n",
    "        parts=[\n",
    "            types.Part.from_text(text=\"\"\"The nighttime atmosphere in downtown Tachileik remains brightly lit, even though Thai authorities have cut power at five border points in accordance with the National Security Council (NSC)’s resolution.\n",
    "Meanwhile, multiple international media outlets have consistently reported that this power cut will have little impact on call center scam gangs in Myanmar, as they had already secured alternative sources of electricity beforehand.\n",
    "\"\"\"),\n",
    "        ],\n",
    "    ),\n",
    "    types.Content(\n",
    "        role=\"user\",\n",
    "        parts=[\n",
    "            types.Part.from_text(text=\"\"\"A popular Facebook page exposed a local administrative organization (SAO) in Pathum Thani for allegedly purchasing outrageously overpriced fitness equipment—15 sets (17 machines per set), totaling nearly 30 million baht.\n",
    "Reporters visited the area and interviewed local residents, many of whom expressed shock after learning about the cost.\n",
    "The exposé came from the page “Watchdog Thailand,” which posted photos of the stainless-steel outdoor fitness machines with the caption: “Fifteen sets, 30 million baht.”\n",
    "The post states that the equipment was purchased by the Khlong Sam Subdistrict Administrative Organization in Pathum Thani—15 outdoor fitness sets costing a total of 29,943,000 baht.\n",
    "Each set contains 17 machines, putting the price at over 100,000 baht per machine. They were installed in October last year.\n",
    "\"\"\"),\n",
    "        ],\n",
    "    ),\n",
    "]\n",
    "    \n",
    "response = client.models.generate_content(\n",
    "    model='gemini-2.0-flash',\n",
    "    contents=contents,\n",
    ")\n",
    "print(response.text)"
   ]
  },
  {
   "cell_type": "code",
   "execution_count": null,
   "id": "0b57ae53",
   "metadata": {},
   "outputs": [],
   "source": []
  }
 ],
 "metadata": {
  "kernelspec": {
   "display_name": "04-BE",
   "language": "python",
   "name": "python3"
  },
  "language_info": {
   "codemirror_mode": {
    "name": "ipython",
    "version": 3
   },
   "file_extension": ".py",
   "mimetype": "text/x-python",
   "name": "python",
   "nbconvert_exporter": "python",
   "pygments_lexer": "ipython3",
   "version": "3.11.12"
  }
 },
 "nbformat": 4,
 "nbformat_minor": 5
}
