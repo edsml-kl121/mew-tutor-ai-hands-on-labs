{
 "cells": [
  {
   "cell_type": "code",
   "execution_count": 3,
   "id": "7fea6caf",
   "metadata": {},
   "outputs": [
    {
     "name": "stderr",
     "output_type": "stream",
     "text": [
      "Both GOOGLE_API_KEY and GEMINI_API_KEY are set. Using GOOGLE_API_KEY.\n"
     ]
    }
   ],
   "source": [
    "from google.genai import types\n",
    "import os\n",
    "from google import genai\n",
    "api_key = os.environ.get(\"GEMINI_API_KEY\")\n",
    "if not api_key:\n",
    "    raise ValueError(\"Please set the GEMINI_API_KEY environment variable\")\n",
    "\n",
    "client = genai.Client(api_key=api_key)"
   ]
  },
  {
   "cell_type": "markdown",
   "id": "b8e889dc",
   "metadata": {},
   "source": [
    "## Transcription"
   ]
  },
  {
   "cell_type": "markdown",
   "id": "36fe0d0a",
   "metadata": {},
   "source": [
    "Note: Here LLM is used to transcribe the audio, but there are alternative methods to transcribe the audio such as using the a smaller Speech-to-text models like whispher-v3-turbo."
   ]
  },
  {
   "cell_type": "code",
   "execution_count": 8,
   "id": "945b9e8f",
   "metadata": {},
   "outputs": [
    {
     "name": "stdout",
     "output_type": "stream",
     "text": [
      "สวัสดี ครับ เดี๋ยว วัน นี้ นะ ครับ เดี๋ยว จะ มา ดู กัน เรื่อง Audio Understanding โดย ใช้ Large Language Model ใน การ ช่วย นะ ครับ\n"
     ]
    }
   ],
   "source": [
    "from google.genai import types\n",
    "\n",
    "with open('audio.m4a', 'rb') as f:\n",
    "    audio_bytes = f.read()\n",
    "\n",
    "response = client.models.generate_content(\n",
    "  model='gemini-2.5-flash',\n",
    "  contents=[\n",
    "    'Please transcribe the audio file.',\n",
    "    types.Part.from_bytes(\n",
    "      data=audio_bytes,\n",
    "      mime_type='audio/mp3',\n",
    "    )\n",
    "  ]\n",
    ")\n",
    "\n",
    "print(response.text)"
   ]
  },
  {
   "cell_type": "markdown",
   "id": "fb8134e2",
   "metadata": {},
   "source": [
    "## Reply to the question"
   ]
  },
  {
   "cell_type": "code",
   "execution_count": 9,
   "id": "697336a2",
   "metadata": {},
   "outputs": [
    {
     "name": "stdout",
     "output_type": "stream",
     "text": [
      "สวัสดีครับ เดี๋ยววันนี้ นะครับ เดี๋ยวจะมาดูกันเรื่อง Audio Understanding โดยใช้ Large Language Model ในการช่วยนะครับ\n",
      "(Hello. Today, we will look into Audio Understanding using Large Language Models to help.)\n",
      "\n",
      "น่าสนใจครับ\n",
      "(Interesting!)\n"
     ]
    }
   ],
   "source": [
    "from google.genai import types\n",
    "\n",
    "with open('audio.m4a', 'rb') as f:\n",
    "    audio_bytes = f.read()\n",
    "\n",
    "response = client.models.generate_content(\n",
    "  model='gemini-2.5-flash',\n",
    "  contents=[\n",
    "    'Please reply to the user question',\n",
    "    types.Part.from_bytes(\n",
    "      data=audio_bytes,\n",
    "      mime_type='audio/mp3',\n",
    "    )\n",
    "  ]\n",
    ")\n",
    "\n",
    "print(response.text)"
   ]
  },
  {
   "cell_type": "markdown",
   "id": "e67c5d94",
   "metadata": {},
   "source": [
    "NOTE: You can extend this further by doing a Live API:\n",
    "\n",
    "E.g. read more at: https://ai.google.dev/gemini-api/docs/live\n"
   ]
  }
 ],
 "metadata": {
  "kernelspec": {
   "display_name": "gem-img",
   "language": "python",
   "name": "python3"
  },
  "language_info": {
   "codemirror_mode": {
    "name": "ipython",
    "version": 3
   },
   "file_extension": ".py",
   "mimetype": "text/x-python",
   "name": "python",
   "nbconvert_exporter": "python",
   "pygments_lexer": "ipython3",
   "version": "3.11.13"
  }
 },
 "nbformat": 4,
 "nbformat_minor": 5
}
