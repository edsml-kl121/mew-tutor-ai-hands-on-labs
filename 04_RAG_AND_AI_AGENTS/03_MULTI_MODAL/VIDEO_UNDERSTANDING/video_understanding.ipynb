{
 "cells": [
  {
   "cell_type": "code",
   "execution_count": 1,
   "id": "31112896",
   "metadata": {},
   "outputs": [
    {
     "name": "stderr",
     "output_type": "stream",
     "text": [
      "Both GOOGLE_API_KEY and GEMINI_API_KEY are set. Using GOOGLE_API_KEY.\n"
     ]
    }
   ],
   "source": [
    "from google.genai import types\n",
    "import os\n",
    "from google import genai\n",
    "api_key = os.environ.get(\"GEMINI_API_KEY\")\n",
    "if not api_key:\n",
    "    raise ValueError(\"Please set the GEMINI_API_KEY environment variable\")\n",
    "\n",
    "client = genai.Client(api_key=api_key)"
   ]
  },
  {
   "cell_type": "code",
   "execution_count": 8,
   "id": "268bc51b",
   "metadata": {},
   "outputs": [
    {
     "name": "stdout",
     "output_type": "stream",
     "text": [
      "The video provides an overview of Hugging Face, describing it as a company founded by French individuals, currently valued at approximately $4.5 billion USD. Its origin is linked to the rise of the Transformer architecture in AI.\n",
      "\n",
      "Hugging Face is presented as a \"Github of AI Models/Data,\" offering:\n",
      "*   **Models:** A vast repository of AI models. Users can discover and filter models by tasks (e.g., text generation, image-to-text, computer vision, natural language processing, audio, tabular, reinforcement learning, robotics, graph machine learning), libraries (e.g., PyTorch, TensorFlow, JAX, Transformers, Diffusers), and inference providers. Each model page includes a \"Model Card\" with highlights, an overview (e.g., parameters, layers, attention heads, experts, context length), and code snippets for usage via the Transformers library or direct loading. It also displays \"Files and versions\" similar to Git, showing weights (e.g., large .safetensors files, up to 4GB each), configuration files, and commit history.\n",
      "*   **Datasets:** A collection of datasets that users can browse and download. These can be filtered by modalities (e.g., 3D, audio, document, geospatial, image, tabular, text, time-series, video), size, and format (e.g., JSON, CSV, Parquet, ImageFolder, SoundFolder, WebDataset, Text, Arrow). An example of a \"Thai Handwriting Dataset\" is shown, displaying images, text, and labels.\n",
      "*   **Spaces:** Described as \"The AI App Directory,\" where users can find and run interactive demos of AI models. It features \"Spaces of the week\" highlighting trending demos for various tasks like image generation, video generation, text generation, and speech synthesis. The video demonstrates an \"AudioRAG Demo - Semantic Audio Search.\" Hugging Face also hosts leaderboards, such as the \"Open LLM Leaderboard,\" which ranks large language models based on various performance metrics (Average, IFEval, BBH, MATH, GPQA, MUSR).\n",
      "\n",
      "The platform facilitates a developer journey where users can:\n",
      "*   Discover and utilize existing models and datasets.\n",
      "*   Access code snippets for integrating models into their projects.\n",
      "*   Train or finetune AI models (e.g., using Google Colab with LORA merging) and push their trained models back to Hugging Face repositories.\n",
      "*   Deploy models through various inference providers, including Hugging Face's own Inference Endpoints, Amazon SageMaker, and Azure ML.\n",
      "*   Maintain personal profiles to showcase their uploaded models, datasets, and spaces.\n",
      "\n",
      "The video concludes by reiterating that Hugging Face, as a company, also offers documentation and paid services like Hugging Face Pro, Expert Support, and Inference Endpoints, indicating a business model built around supporting the AI community and enterprise users.\n"
     ]
    }
   ],
   "source": [
    "response = client.models.generate_content(\n",
    "    model='models/gemini-2.5-flash',\n",
    "    contents=types.Content(\n",
    "        parts=[\n",
    "            types.Part(\n",
    "                file_data=types.FileData(file_uri='https://www.youtube.com/watch?v=YCjZ6jH4J7s&t=56s')\n",
    "            ),\n",
    "            types.Part(text='Summarize the content of the video comprehensively. ONLY Mention original content from the video. Do not make assumptions about the video.')\n",
    "        ]\n",
    "    )\n",
    ")\n",
    "print(response.text)"
   ]
  },
  {
   "cell_type": "markdown",
   "id": "e5c87e15",
   "metadata": {},
   "source": [
    "## Note "
   ]
  }
 ],
 "metadata": {
  "kernelspec": {
   "display_name": "gem-img",
   "language": "python",
   "name": "python3"
  },
  "language_info": {
   "codemirror_mode": {
    "name": "ipython",
    "version": 3
   },
   "file_extension": ".py",
   "mimetype": "text/x-python",
   "name": "python",
   "nbconvert_exporter": "python",
   "pygments_lexer": "ipython3",
   "version": "3.11.13"
  }
 },
 "nbformat": 4,
 "nbformat_minor": 5
}
