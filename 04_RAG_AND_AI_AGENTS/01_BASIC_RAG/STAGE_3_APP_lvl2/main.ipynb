{
 "cells": [
  {
   "cell_type": "code",
   "execution_count": null,
   "metadata": {},
   "outputs": [
    {
     "name": "stdout",
     "output_type": "stream",
     "text": [
      "✅ Connected to Zilliz Cloud Milvus.\n"
     ]
    }
   ],
   "source": [
    "from pymilvus import connections\n",
    "\n",
    "connections.connect(\n",
    "    alias=\"default\",\n",
    "    uri=\"URL\",  # Full HTTPS URI\n",
    "    token=\"TOKEN\",  # Format: user:password\n",
    ")\n",
    "\n",
    "print(\"✅ Connected to Zilliz Cloud Milvus.\")"
   ]
  },
  {
   "cell_type": "code",
   "execution_count": 10,
   "metadata": {},
   "outputs": [],
   "source": [
    "import os\n",
    "import numpy as np\n",
    "from google import genai\n",
    "from google.genai.types import EmbedContentConfig\n",
    "\n",
    "# Set up the Gemini client - ensure you have your API key set in environment variables\n",
    "api_key = os.environ.get(\"GEMINI_API_KEY\")\n",
    "if not api_key:\n",
    "    raise ValueError(\"Please set the GEMINI_API_KEY environment variable\")\n",
    "\n",
    "client = genai.Client(api_key=api_key)\n",
    "embed_model = \"text-embedding-004\"\n",
    "\n",
    "def get_embedding(text):\n",
    "    \"\"\"Get text embedding from Gemini API\"\"\"\n",
    "    response = client.models.embed_content(\n",
    "        model=embed_model,\n",
    "        contents=[text],\n",
    "        config=EmbedContentConfig(\n",
    "            task_type=\"RETRIEVAL_QUERY\" if len(text) < 100 else \"RETRIEVAL_DOCUMENT\",\n",
    "            output_dimensionality=768,\n",
    "        ),\n",
    "    )\n",
    "    return np.array(response.embeddings[0].values)"
   ]
  },
  {
   "cell_type": "code",
   "execution_count": 11,
   "metadata": {},
   "outputs": [],
   "source": [
    "from pymilvus import Collection, FieldSchema, CollectionSchema, DataType\n",
    "\n",
    "# Define schema\n",
    "fields = [\n",
    "    FieldSchema(name=\"id\", dtype=DataType.INT64, is_primary=True, auto_id=True),\n",
    "    FieldSchema(name=\"text\", dtype=DataType.VARCHAR, max_length=512),\n",
    "    FieldSchema(name=\"embedding\", dtype=DataType.FLOAT_VECTOR, dim=768)\n",
    "]\n",
    "\n",
    "schema = CollectionSchema(fields, description=\"Text + vector collection\")\n",
    "collection = Collection(name=\"my_text_vectors\", schema=schema)"
   ]
  },
  {
   "cell_type": "code",
   "execution_count": 12,
   "metadata": {},
   "outputs": [
    {
     "name": "stdout",
     "output_type": "stream",
     "text": [
      "Collections: ['my_text_vectors']\n"
     ]
    }
   ],
   "source": [
    "from pymilvus import utility\n",
    "\n",
    "collections = utility.list_collections()\n",
    "print(\"Collections:\", collections)"
   ]
  },
  {
   "cell_type": "code",
   "execution_count": 13,
   "metadata": {},
   "outputs": [
    {
     "data": {
      "text/plain": [
       "(insert count: 3, delete count: 0, upsert count: 0, timestamp: 457800906199007236, success count: 3, err count: 0, cost: 3)"
      ]
     },
     "execution_count": 13,
     "metadata": {},
     "output_type": "execute_result"
    }
   ],
   "source": [
    "import numpy as np\n",
    "\n",
    "texts = [\"hello world\", \"zilliz cloud vector\", \"chatgpt rocks\"]\n",
    "# vectors = np.random.rand(len(texts), 768).tolist()  # Simulate 768-dim vectors\n",
    "vectors = []\n",
    "for text in texts:\n",
    "    vectors.append(get_embedding(text))\n",
    "# Prepare data: [None for auto_id, texts, vectors]\n",
    "data = [texts, vectors]\n",
    "# data\n",
    "collection.insert(data)\n",
    "# collection.flush()"
   ]
  },
  {
   "cell_type": "code",
   "execution_count": 26,
   "metadata": {},
   "outputs": [
    {
     "data": {
      "text/plain": [
       "(768,)"
      ]
     },
     "execution_count": 26,
     "metadata": {},
     "output_type": "execute_result"
    }
   ],
   "source": [
    "np.shape(vectors[2])  # Check the shape of the first vector"
   ]
  },
  {
   "cell_type": "code",
   "execution_count": 21,
   "metadata": {},
   "outputs": [
    {
     "data": {
      "text/plain": [
       "3"
      ]
     },
     "execution_count": 21,
     "metadata": {},
     "output_type": "execute_result"
    }
   ],
   "source": [
    "len(vectors)"
   ]
  },
  {
   "cell_type": "code",
   "execution_count": null,
   "metadata": {},
   "outputs": [
    {
     "ename": "SyntaxError",
     "evalue": "invalid syntax. Perhaps you forgot a comma? (2618038713.py, line 17)",
     "output_type": "error",
     "traceback": [
      "  \u001b[36mCell\u001b[39m\u001b[36m \u001b[39m\u001b[32mIn[27]\u001b[39m\u001b[32m, line 17\u001b[39m\n\u001b[31m    \u001b[39m\u001b[31mvectors[],  # use the first vector\u001b[39m\n    ^\n\u001b[31mSyntaxError\u001b[39m\u001b[31m:\u001b[39m invalid syntax. Perhaps you forgot a comma?\n"
     ]
    }
   ],
   "source": [
    "collection.create_index(\n",
    "    field_name=\"embedding\",\n",
    "    index_params={\n",
    "        \"metric_type\": \"L2\",         # or \"COSINE\", \"IP\"\n",
    "        \"index_type\": \"IVF_FLAT\",    # or \"HNSW\", \"IVF_PQ\", etc.\n",
    "        \"params\": {\"nlist\": 128}\n",
    "    }\n",
    ")\n",
    "\n",
    "collection.load()\n",
    "\n",
    "current_search_term = \"Hello world\"\n",
    "search_embedding = get_embedding(current_search_term)\n",
    "\n",
    "search_params = {\"metric_type\": \"L2\", \"params\": {\"nprobe\": 10}}\n",
    "results = collection.search(\n",
    "    search_embedding\n",
    "    \"embedding\",\n",
    "    search_params,\n",
    "    limit=3,\n",
    "    output_fields=[\"text\"]\n",
    ")\n",
    "\n",
    "for result in results[0]:\n",
    "    print(\"Matched text:\", result.entity.get(\"text\"), \"score:\", result.distance)"
   ]
  },
  {
   "cell_type": "code",
   "execution_count": 9,
   "metadata": {},
   "outputs": [],
   "source": [
    "from pymilvus import Collection\n",
    "\n",
    "# Replace with your collection name\n",
    "collection = Collection(\"my_text_vectors\")\n",
    "collection.drop()"
   ]
  },
  {
   "cell_type": "code",
   "execution_count": null,
   "metadata": {},
   "outputs": [],
   "source": []
  },
  {
   "cell_type": "code",
   "execution_count": null,
   "metadata": {},
   "outputs": [],
   "source": []
  }
 ],
 "metadata": {
  "kernelspec": {
   "display_name": "RAG-zillis",
   "language": "python",
   "name": "python3"
  },
  "language_info": {
   "codemirror_mode": {
    "name": "ipython",
    "version": 3
   },
   "file_extension": ".py",
   "mimetype": "text/x-python",
   "name": "python",
   "nbconvert_exporter": "python",
   "pygments_lexer": "ipython3",
   "version": "3.11.12"
  }
 },
 "nbformat": 4,
 "nbformat_minor": 2
}
