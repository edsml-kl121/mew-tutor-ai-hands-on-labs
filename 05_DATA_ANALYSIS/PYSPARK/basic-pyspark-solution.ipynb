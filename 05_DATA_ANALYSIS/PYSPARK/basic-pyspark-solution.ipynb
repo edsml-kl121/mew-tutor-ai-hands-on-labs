{
 "cells": [
  {
   "cell_type": "code",
   "execution_count": null,
   "id": "7f3a283f-2560-44a3-bf64-424bef4950f2",
   "metadata": {
    "tags": []
   },
   "outputs": [],
   "source": [
    "from pyspark.sql import SparkSession\n",
    "from pyspark.sql.functions import *\n",
    "\n",
    "spark = SparkSession.builder.appName(\"SparkPractice\").getOrCreate()\n",
    "\n",
    "data = [\n",
    "    (\"Alice\", \"Electronics\", 1200),\n",
    "    (\"Bob\", \"Books\", 300),\n",
    "    (\"Charlie\", \"Electronics\", 800),\n",
    "    (\"David\", \"Clothing\", 450),\n",
    "    (\"Eva\", \"Books\", 700),\n",
    "    (\"Frank\", \"Clothing\", 600),\n",
    "    (\"Grace\", \"Electronics\", 1500),\n",
    "]\n",
    "\n",
    "columns = [\"Customer\", \"Category\", \"Amount\"]\n",
    "\n",
    "df = spark.createDataFrame(data, columns)\n",
    "df.show()\n",
    "\n",
    "# Register for SQL use\n",
    "df.createOrReplaceTempView(\"sales\")"
   ]
  },
  {
   "cell_type": "markdown",
   "id": "adab0e87-dee6-4509-b78a-4da8f1fff856",
   "metadata": {},
   "source": [
    "Q1. How many total rows are there in the sales DataFrame?\n",
    "\n",
    "Q2. Select only the Customer and Amount for those who spent more than 700.\n",
    "\n",
    "Q3. Show all sales in the Books category where the amount is between 400 and 800.\n",
    "\n",
    "Q4. For each Category, how many customers made purchases?"
   ]
  },
  {
   "cell_type": "code",
   "execution_count": null,
   "id": "2b482bda-7cf4-4603-b71f-bea1f339a9bf",
   "metadata": {
    "tags": []
   },
   "outputs": [],
   "source": [
    "df.show()"
   ]
  },
  {
   "cell_type": "code",
   "execution_count": null,
   "id": "8a51ac75-3c37-412e-aa39-f0490eeb80cd",
   "metadata": {
    "tags": []
   },
   "outputs": [],
   "source": [
    "## Q1\n",
    "df.count()"
   ]
  },
  {
   "cell_type": "code",
   "execution_count": null,
   "id": "071487bd-f678-4bc5-b2bd-71df65f60a14",
   "metadata": {
    "tags": []
   },
   "outputs": [],
   "source": [
    "## Q2\n",
    "df.select(\"Customer\", \"Amount\").filter(col(\"Amount\") > 700).show()"
   ]
  },
  {
   "cell_type": "code",
   "execution_count": null,
   "id": "5a5618c5-c1cc-4379-8b23-3aeddbebcb6c",
   "metadata": {
    "tags": []
   },
   "outputs": [],
   "source": [
    "## Q3 \n",
    "df.select(\"Customer\", \"Category\", \"Amount\").filter((col(\"Amount\") >= 400) & (col(\"Amount\") <= 800)).show()"
   ]
  },
  {
   "cell_type": "code",
   "execution_count": null,
   "id": "df18a7a9-ab31-49d1-8cb7-2f7fd6a7bab4",
   "metadata": {
    "tags": []
   },
   "outputs": [],
   "source": [
    "## Q4\n",
    "df.groupBy(\"Category\").agg(count(\"Customer\").alias(\"Customer_count\")).show()"
   ]
  },
  {
   "cell_type": "code",
   "execution_count": null,
   "id": "93b4167d-0c1d-4d91-b338-bcecefea2e58",
   "metadata": {},
   "outputs": [],
   "source": []
  }
 ],
 "metadata": {
  "kernelspec": {
   "display_name": "spark-rt-admin on Serverless Spark (Remote)",
   "language": "python",
   "name": "9c39b79e5d2e7072beb4bd59-runtime-00008197df06"
  },
  "language_info": {
   "name": ""
  }
 },
 "nbformat": 4,
 "nbformat_minor": 5
}
