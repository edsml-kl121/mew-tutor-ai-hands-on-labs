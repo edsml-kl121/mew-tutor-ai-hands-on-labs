{
 "cells": [
  {
   "cell_type": "code",
   "execution_count": 4,
   "id": "2cbf89d2-cbeb-4f36-a8f3-551b83623527",
   "metadata": {
    "tags": []
   },
   "outputs": [
    {
     "name": "stderr",
     "output_type": "stream",
     "text": [
      "25/05/02 04:18:52 WARN SparkSession: Using an existing Spark session; only runtime SQL configurations will take effect.\n",
      "                                                                                \r"
     ]
    },
    {
     "name": "stdout",
     "output_type": "stream",
     "text": [
      "+--------+-----------+------+\n",
      "|Customer|   Category|Amount|\n",
      "+--------+-----------+------+\n",
      "|   Alice|Electronics|  1200|\n",
      "|     Bob|      Books|   300|\n",
      "| Charlie|Electronics|   800|\n",
      "|   David|   Clothing|   450|\n",
      "|     Eva|      Books|   700|\n",
      "|   Frank|   Clothing|   600|\n",
      "|   Grace|Electronics|  1500|\n",
      "+--------+-----------+------+\n",
      "\n"
     ]
    }
   ],
   "source": [
    "from pyspark.sql import SparkSession\n",
    "from pyspark.sql.functions import *\n",
    "\n",
    "spark = SparkSession.builder.appName(\"SparkPractice\").getOrCreate()\n",
    "\n",
    "data = [\n",
    "    (\"Alice\", \"Electronics\", 1200),\n",
    "    (\"Bob\", \"Books\", 300),\n",
    "    (\"Charlie\", \"Electronics\", 800),\n",
    "    (\"David\", \"Clothing\", 450),\n",
    "    (\"Eva\", \"Books\", 700),\n",
    "    (\"Frank\", \"Clothing\", 600),\n",
    "    (\"Grace\", \"Electronics\", 1500),\n",
    "]\n",
    "\n",
    "columns = [\"Customer\", \"Category\", \"Amount\"]\n",
    "\n",
    "df = spark.createDataFrame(data, columns)\n",
    "df.show()\n",
    "\n",
    "# Register for SQL use\n",
    "df.createOrReplaceTempView(\"sales\")"
   ]
  },
  {
   "cell_type": "markdown",
   "id": "6294789e-c8f2-42f4-9f53-7f1f79f4329c",
   "metadata": {
    "tags": []
   },
   "source": [
    "## Count total number of rows"
   ]
  },
  {
   "cell_type": "code",
   "execution_count": 5,
   "id": "9045aa97-97f4-4a85-9383-c517bbf906e6",
   "metadata": {
    "tags": []
   },
   "outputs": [
    {
     "name": "stderr",
     "output_type": "stream",
     "text": [
      "                                                                                \r"
     ]
    },
    {
     "data": {
      "text/plain": [
       "7"
      ]
     },
     "execution_count": 5,
     "metadata": {},
     "output_type": "execute_result"
    }
   ],
   "source": [
    "df.count()"
   ]
  },
  {
   "cell_type": "code",
   "execution_count": 6,
   "id": "b3d03149-faad-4cde-84c3-95e0b1fc7c28",
   "metadata": {
    "tags": []
   },
   "outputs": [
    {
     "name": "stdout",
     "output_type": "stream",
     "text": [
      "+--------+\n",
      "|count(1)|\n",
      "+--------+\n",
      "|       7|\n",
      "+--------+\n",
      "\n"
     ]
    }
   ],
   "source": [
    "spark.sql(\"SELECT COUNT(*) FROM sales\").show()"
   ]
  },
  {
   "cell_type": "markdown",
   "id": "d3eb70da-e6f4-4391-b956-4b542acca4f8",
   "metadata": {
    "tags": []
   },
   "source": [
    "## Select and filter rows"
   ]
  },
  {
   "cell_type": "code",
   "execution_count": 9,
   "id": "175351d7-0d30-4252-9649-882f9cb097c2",
   "metadata": {
    "tags": []
   },
   "outputs": [
    {
     "name": "stdout",
     "output_type": "stream",
     "text": [
      "+--------+-----------+------+\n",
      "|Customer|   Category|Amount|\n",
      "+--------+-----------+------+\n",
      "|   Alice|Electronics|  1200|\n",
      "|   Grace|Electronics|  1500|\n",
      "+--------+-----------+------+\n",
      "\n"
     ]
    }
   ],
   "source": [
    "df.select(\"Customer\", \"Category\", \"Amount\").filter((col(\"Category\") == \"Electronics\") & (col(\"Amount\") > 1000)).show()"
   ]
  },
  {
   "cell_type": "code",
   "execution_count": 10,
   "id": "1db12ffd-19b7-4275-86f5-f3db8eb38a70",
   "metadata": {
    "tags": []
   },
   "outputs": [
    {
     "name": "stdout",
     "output_type": "stream",
     "text": [
      "+--------+-----------+------+\n",
      "|Customer|   Category|Amount|\n",
      "+--------+-----------+------+\n",
      "|   Alice|Electronics|  1200|\n",
      "|   Grace|Electronics|  1500|\n",
      "+--------+-----------+------+\n",
      "\n"
     ]
    }
   ],
   "source": [
    "spark.sql(\"\"\"\n",
    "SELECT Customer, Category, Amount\n",
    "FROM sales\n",
    "WHERE Category = 'Electronics' AND Amount > 1000\n",
    "\"\"\").show()"
   ]
  },
  {
   "cell_type": "markdown",
   "id": "2c94e124-27bf-4621-ad0e-99b1765c7bdc",
   "metadata": {},
   "source": [
    "## Group By Category and Count Customers"
   ]
  },
  {
   "cell_type": "code",
   "execution_count": 15,
   "id": "4243ff07-c3e6-451c-919e-c1325c9f2f70",
   "metadata": {
    "tags": []
   },
   "outputs": [
    {
     "name": "stderr",
     "output_type": "stream",
     "text": [
      "[Stage 14:>                                                         (0 + 2) / 2]\r"
     ]
    },
    {
     "name": "stdout",
     "output_type": "stream",
     "text": [
      "+-----------+-------------+\n",
      "|   Category|CustomerCount|\n",
      "+-----------+-------------+\n",
      "|      Books|            2|\n",
      "|   Clothing|            2|\n",
      "|Electronics|            3|\n",
      "+-----------+-------------+\n",
      "\n"
     ]
    },
    {
     "name": "stderr",
     "output_type": "stream",
     "text": [
      "                                                                                \r"
     ]
    }
   ],
   "source": [
    "df.groupBy(\"Category\").agg(count(\"Customer\").alias(\"CustomerCount\")).show()"
   ]
  },
  {
   "cell_type": "code",
   "execution_count": 16,
   "id": "fd8add5f-a396-4f01-ad64-089ce8de0d63",
   "metadata": {
    "tags": []
   },
   "outputs": [
    {
     "name": "stdout",
     "output_type": "stream",
     "text": [
      "+-----------+-------------+\n",
      "|   Category|CustomerCount|\n",
      "+-----------+-------------+\n",
      "|      Books|            2|\n",
      "|Electronics|            3|\n",
      "|   Clothing|            2|\n",
      "+-----------+-------------+\n",
      "\n"
     ]
    }
   ],
   "source": [
    "spark.sql(\"\"\"\n",
    "SELECT Category, COUNT(Customer) AS CustomerCount\n",
    "FROM sales\n",
    "GROUP BY Category\n",
    "\"\"\").show()"
   ]
  },
  {
   "cell_type": "code",
   "execution_count": 17,
   "id": "7d0be8e3-ea21-4f2c-a12f-afe1e2de71c8",
   "metadata": {
    "tags": []
   },
   "outputs": [
    {
     "name": "stdout",
     "output_type": "stream",
     "text": [
      "+-----------+------------+\n",
      "|   Category|TotalRevenue|\n",
      "+-----------+------------+\n",
      "|      Books|        1000|\n",
      "|Electronics|        3500|\n",
      "|   Clothing|        1050|\n",
      "+-----------+------------+\n",
      "\n"
     ]
    }
   ],
   "source": [
    "df.groupBy(\"Category\").agg(sum(\"Amount\").alias(\"TotalRevenue\")).show()"
   ]
  },
  {
   "cell_type": "code",
   "execution_count": 18,
   "id": "7ee51683-3e26-4ec2-a33f-764241bee13f",
   "metadata": {
    "tags": []
   },
   "outputs": [
    {
     "name": "stdout",
     "output_type": "stream",
     "text": [
      "+-----------+------------+\n",
      "|   Category|TotalRevenue|\n",
      "+-----------+------------+\n",
      "|      Books|        1000|\n",
      "|Electronics|        3500|\n",
      "|   Clothing|        1050|\n",
      "+-----------+------------+\n",
      "\n"
     ]
    }
   ],
   "source": [
    "spark.sql(\"\"\"\n",
    "SELECT Category, SUM(Amount) AS TotalRevenue\n",
    "FROM sales\n",
    "GROUP BY Category\n",
    "\"\"\").show()"
   ]
  },
  {
   "cell_type": "markdown",
   "id": "927ef7cf-2367-4c4a-88bd-76d4c4c51251",
   "metadata": {},
   "source": [
    "Q1. How many total rows are there in the sales DataFrame?\n",
    "\n",
    "Q2. Select only the Customer and Amount for those who spent more than 700.\n",
    "\n",
    "Q3. Show all sales in the Books category where the amount is between 400 and 800.\n",
    "\n",
    "Q4. For each Category, how many customers made purchases?"
   ]
  }
 ],
 "metadata": {
  "kernelspec": {
   "display_name": "spark-rt-admin on Serverless Spark (Remote)",
   "language": "python",
   "name": "9c39b79e5d2e7072beb4bd59-runtime-00008197df06"
  },
  "language_info": {
   "codemirror_mode": {
    "name": "ipython",
    "version": 3
   },
   "file_extension": ".py",
   "mimetype": "text/x-python",
   "name": "python",
   "nbconvert_exporter": "python",
   "pygments_lexer": "ipython3",
   "version": "3.12.3"
  }
 },
 "nbformat": 4,
 "nbformat_minor": 5
}
