{
 "cells": [
  {
   "cell_type": "code",
   "execution_count": 14,
   "metadata": {},
   "outputs": [
    {
     "name": "stdout",
     "output_type": "stream",
     "text": [
      "Response from model: {'predictions': [119.0, 108.0, 628.0]}\n"
     ]
    }
   ],
   "source": [
    "import requests\n",
    "\n",
    "# URL of the deployed Flask app\n",
    "url = \"http://192.168.50.128:9000/predict\"\n",
    "\n",
    "# Example payload to send to the model\n",
    "payload = {\n",
    "    \"instances\": [\n",
    "        {\n",
    "            \"Hour\": 1,\n",
    "            \"Temperature\": -5.2,\n",
    "            \"Humidity\": 37,\n",
    "            \"Wind speed\": 2.2,\n",
    "            \"Visibility\": 2000,\n",
    "            \"Dew point temperature\": -17.6,\n",
    "            \"Solar Radiation\": 0.0,\n",
    "            \"Rainfall\": 0.0,\n",
    "            \"Snowfall\": 0.0\n",
    "        },\n",
    "        {\n",
    "            \"Hour\": 1,\n",
    "            \"Temperature\": -5.2,\n",
    "            \"Humidity\": 90,\n",
    "            \"Wind speed\": 2.2,\n",
    "            \"Visibility\": 3000,\n",
    "            \"Dew point temperature\": -17.6,\n",
    "            \"Solar Radiation\": 0.0,\n",
    "            \"Rainfall\": 0.0,\n",
    "            \"Snowfall\": 0.0\n",
    "        },\n",
    "        {\n",
    "            \"Hour\": 0,\n",
    "            \"Temperature\": 34.355799716550200,\n",
    "            \"Humidity\": 60.68783421223280,\n",
    "            \"Wind speed\": 5.792198963491450,\n",
    "            \"Visibility\": 2409.097696250330,\n",
    "            \"Dew point temperature\": -10.056941705283400,\n",
    "            \"Solar Radiation\": 0.7696394155884350,\n",
    "            \"Rainfall\": 9.541793071265160,\n",
    "            \"Snowfall\": 0.8942371104002320\n",
    "        },\n",
    "        {\n",
    "            \"Hour\": 0,\n",
    "            \"Temperature\": 34.355799716550200,\n",
    "            \"Humidity\": 60.68783421223280,\n",
    "            \"Wind speed\": 5.792198963491450,\n",
    "            \"Visibility\": 2409.097696250330,\n",
    "            \"Dew point temperature\": -10.056941705283400,\n",
    "            \"Solar Radiation\": 0.7696394155884350,\n",
    "            \"Rainfall\": 9.541793071265160,\n",
    "            \"Snowfall\": 0.8942371104002320\n",
    "        }\n",
    "\n",
    "        # [1.0, -2.679819222068697, 34.531190989980566, 5.389909752908913, 6289.732603639751, 7.709893080386848, 0.3925481444724963, 0.8973618717478316, 3.143805988553337]\n",
    "    ]\n",
    "}\n",
    "\n",
    "# Send POST request to the predict endpoint\n",
    "response = requests.post(url, json=payload)\n",
    "\n",
    "# Check the response\n",
    "if response.status_code == 200:\n",
    "    print(\"Response from model:\", response.json())\n",
    "else:\n",
    "    print(f\"Request failed with status code {response.status_code}\")"
   ]
  },
  {
   "cell_type": "code",
   "execution_count": null,
   "metadata": {},
   "outputs": [],
   "source": []
  }
 ],
 "metadata": {
  "kernelspec": {
   "display_name": "new-watsonx-lab",
   "language": "python",
   "name": "python3"
  },
  "language_info": {
   "codemirror_mode": {
    "name": "ipython",
    "version": 3
   },
   "file_extension": ".py",
   "mimetype": "text/x-python",
   "name": "python",
   "nbconvert_exporter": "python",
   "pygments_lexer": "ipython3",
   "version": "3.11.9"
  }
 },
 "nbformat": 4,
 "nbformat_minor": 2
}
