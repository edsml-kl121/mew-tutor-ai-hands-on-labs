{
 "cells": [
  {
   "cell_type": "code",
   "execution_count": 1,
   "metadata": {},
   "outputs": [
    {
     "name": "stdout",
     "output_type": "stream",
     "text": [
      "hi\n"
     ]
    }
   ],
   "source": [
    "print('hi')"
   ]
  },
  {
   "cell_type": "code",
   "execution_count": 2,
   "metadata": {},
   "outputs": [
    {
     "name": "stderr",
     "output_type": "stream",
     "text": [
      "/Users/kandanai/anaconda3/envs/torch-env/lib/python3.11/site-packages/torch/_subclasses/functional_tensor.py:276: UserWarning: Failed to initialize NumPy: No module named 'numpy' (Triggered internally at /Users/runner/work/pytorch/pytorch/pytorch/torch/csrc/utils/tensor_numpy.cpp:81.)\n",
      "  cpu = _conversion_method_template(device=torch.device(\"cpu\"))\n"
     ]
    },
    {
     "name": "stdout",
     "output_type": "stream",
     "text": [
      "Using device: cpu\n"
     ]
    }
   ],
   "source": [
    "import torch\n",
    "\n",
    "# Check if GPU is available\n",
    "device = torch.device(\"cuda\" if torch.cuda.is_available() else \"cpu\")\n",
    "print(f\"Using device: {device}\")"
   ]
  },
  {
   "cell_type": "code",
   "execution_count": null,
   "metadata": {},
   "outputs": [
    {
     "name": "stdout",
     "output_type": "stream",
     "text": [
      "Addition: tensor([6., 8.])\n",
      "Dot product: tensor(23.)\n"
     ]
    }
   ],
   "source": [
    "## 2D Tensors\n",
    "\n",
    "# Create tensors\n",
    "a = torch.tensor([2.0, 3.0], device=device)\n",
    "b = torch.tensor([4.0, 5.0], device=device)\n",
    "\n",
    "print(\"Addition:\", a + b)\n",
    "print(\"Dot product:\", torch.dot(a, b))\n",
    "# print(\"Element-wise multiply:\", a * b)"
   ]
  },
  {
   "cell_type": "code",
   "execution_count": null,
   "metadata": {},
   "outputs": [],
   "source": [
    "# Create two 3D tensors\n",
    "a = torch.tensor([1.0, 2.0, 3.0])\n",
    "b = torch.tensor([4.0, 5.0, 6.0])\n",
    "\n",
    "# Operations\n",
    "print(\"Addition:\", a + b)\n",
    "print(\"Dot product:\", torch.dot(a, b))\n",
    "# print(\"Element-wise multiply:\", a * b)"
   ]
  },
  {
   "cell_type": "code",
   "execution_count": null,
   "metadata": {},
   "outputs": [
    {
     "name": "stdout",
     "output_type": "stream",
     "text": [
      "Element-wise addition:\n",
      " tensor([[[2, 3],\n",
      "         [3, 5]]])\n",
      "Element-wise multiplication:\n",
      " tensor([[[1, 2],\n",
      "         [0, 4]]])\n",
      "Element-wise multiplication:\n",
      " tensor([[[1, 3],\n",
      "         [3, 7]]])\n"
     ]
    }
   ],
   "source": [
    "# 3D tensor = batch of 2 matrices, each 2x2\n",
    "C = torch.tensor([\n",
    "    [[1, 2], \n",
    "     [3, 4]],\n",
    "    # [[5, 6], \n",
    "    #  [7, 8]]\n",
    "])\n",
    "\n",
    "D = torch.tensor([\n",
    "    [[1, 1], \n",
    "     [0, 1]],\n",
    "    # [[2, 0], \n",
    "    #  [1, 2]]\n",
    "])\n",
    "\n",
    "# Operations\n",
    "print(\"Element-wise addition:\\n\", C + D)\n",
    "print(\"Element-wise multiplication:\\n\", C * D)\n",
    "print(\"matrix multiplication multiplication:\\n\", torch.matmul(C, D))"
   ]
  },
  {
   "cell_type": "code",
   "execution_count": null,
   "metadata": {},
   "outputs": [],
   "source": []
  }
 ],
 "metadata": {
  "kernelspec": {
   "display_name": "torch-env",
   "language": "python",
   "name": "python3"
  },
  "language_info": {
   "codemirror_mode": {
    "name": "ipython",
    "version": 3
   },
   "file_extension": ".py",
   "mimetype": "text/x-python",
   "name": "python",
   "nbconvert_exporter": "python",
   "pygments_lexer": "ipython3",
   "version": "3.11.12"
  }
 },
 "nbformat": 4,
 "nbformat_minor": 2
}
