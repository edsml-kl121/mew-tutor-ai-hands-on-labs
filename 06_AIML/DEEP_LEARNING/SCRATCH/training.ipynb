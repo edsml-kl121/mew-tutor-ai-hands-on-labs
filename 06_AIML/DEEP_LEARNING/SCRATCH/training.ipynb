{
 "cells": [
  {
   "cell_type": "code",
   "execution_count": 3,
   "metadata": {},
   "outputs": [],
   "source": [
    "import torch\n",
    "import torch.nn as nn\n",
    "import torch.optim as optim\n",
    "from torchvision import datasets, transforms\n",
    "from torch.utils.data import DataLoader\n",
    "\n",
    "# 1. Set device\n",
    "device = torch.device(\"cuda\" if torch.cuda.is_available() else \"cpu\")\n",
    "\n",
    "# 2. Prepare MNIST data\n",
    "transform = transforms.ToTensor()\n",
    "train_dataset = datasets.MNIST(root='data', train=True, transform=transform, download=True)\n",
    "test_dataset  = datasets.MNIST(root='data', train=False, transform=transform, download=True)\n",
    "\n",
    "train_loader = DataLoader(train_dataset, batch_size=64, shuffle=True)\n",
    "test_loader  = DataLoader(test_dataset, batch_size=1000)\n",
    "\n"
   ]
  },
  {
   "cell_type": "markdown",
   "metadata": {},
   "source": [
    "## Visualization"
   ]
  },
  {
   "cell_type": "code",
   "execution_count": 4,
   "metadata": {},
   "outputs": [
    {
     "name": "stdout",
     "output_type": "stream",
     "text": [
      "torch.Size([64, 1, 28, 28])\n",
      "There are 64 classes.\n",
      "tensor([5, 9, 5, 6, 6, 1, 0, 0, 0, 7, 3, 2, 0, 8, 1, 0, 1, 8, 6, 3, 5, 8, 7, 6,\n",
      "        9, 7, 3, 7, 8, 0, 9, 8, 4, 9, 4, 8, 4, 7, 1, 0, 5, 3, 2, 7, 6, 2, 1, 5,\n",
      "        9, 0, 9, 5, 6, 9, 5, 2, 0, 2, 9, 8, 6, 2, 5, 4])\n"
     ]
    }
   ],
   "source": [
    "images, labels = next(iter(train_loader))\n",
    "print(images.shape)\n",
    "\n",
    "print(f\"There are {len(labels)} classes.\")\n",
    "print(labels)"
   ]
  },
  {
   "cell_type": "code",
   "execution_count": 5,
   "metadata": {},
   "outputs": [
    {
     "data": {
      "text/plain": [
       "tensor([[0.0000, 0.0000, 0.0000, 0.0000, 0.0000, 0.0000, 0.0000, 0.0000, 0.0000,\n",
       "         0.0000, 0.0000, 0.0000, 0.0000, 0.0000, 0.0000, 0.0000, 0.0000, 0.0000,\n",
       "         0.0000, 0.0000, 0.0000, 0.0000, 0.0000, 0.0000, 0.0000, 0.0000, 0.0000,\n",
       "         0.0000],\n",
       "        [0.0000, 0.0000, 0.0000, 0.0000, 0.0000, 0.0000, 0.0000, 0.0000, 0.0000,\n",
       "         0.0000, 0.0000, 0.0000, 0.0000, 0.0000, 0.0000, 0.0000, 0.0000, 0.0000,\n",
       "         0.0000, 0.0000, 0.0000, 0.0000, 0.0000, 0.0000, 0.0000, 0.0000, 0.0000,\n",
       "         0.0000],\n",
       "        [0.0000, 0.0000, 0.0000, 0.0000, 0.0000, 0.0000, 0.0000, 0.0000, 0.0000,\n",
       "         0.0000, 0.0000, 0.0000, 0.0000, 0.0000, 0.0000, 0.0000, 0.0000, 0.0000,\n",
       "         0.0000, 0.0000, 0.0000, 0.0000, 0.0000, 0.0000, 0.0000, 0.0000, 0.0000,\n",
       "         0.0000],\n",
       "        [0.0000, 0.0000, 0.0000, 0.0000, 0.0000, 0.0000, 0.0000, 0.0000, 0.0000,\n",
       "         0.0000, 0.0000, 0.0000, 0.0000, 0.0000, 0.0000, 0.0000, 0.0000, 0.0000,\n",
       "         0.0000, 0.0000, 0.0000, 0.0000, 0.0000, 0.0000, 0.0000, 0.0000, 0.0000,\n",
       "         0.0000],\n",
       "        [0.0000, 0.0000, 0.0000, 0.0000, 0.0000, 0.0000, 0.0000, 0.0000, 0.0000,\n",
       "         0.0000, 0.0000, 0.0000, 0.0000, 0.0000, 0.0000, 0.0000, 0.0000, 0.0000,\n",
       "         0.0000, 0.0000, 0.0000, 0.0000, 0.0000, 0.0000, 0.0000, 0.0000, 0.0000,\n",
       "         0.0000],\n",
       "        [0.0000, 0.0000, 0.0000, 0.0000, 0.0000, 0.0000, 0.0000, 0.0000, 0.0000,\n",
       "         0.0000, 0.0000, 0.0000, 0.0000, 0.0000, 0.0431, 0.1686, 0.5804, 0.8902,\n",
       "         0.9922, 0.9922, 0.9922, 0.7569, 0.1451, 0.0000, 0.0000, 0.0000, 0.0000,\n",
       "         0.0000],\n",
       "        [0.0000, 0.0000, 0.0000, 0.0000, 0.0000, 0.0000, 0.0000, 0.0000, 0.0000,\n",
       "         0.0000, 0.0000, 0.0000, 0.0000, 0.3412, 0.8078, 0.9882, 0.9922, 0.9882,\n",
       "         0.9882, 0.9882, 0.9882, 0.8000, 0.1647, 0.0000, 0.0000, 0.0000, 0.0000,\n",
       "         0.0000],\n",
       "        [0.0000, 0.0000, 0.0000, 0.0000, 0.0000, 0.0000, 0.0000, 0.0000, 0.0000,\n",
       "         0.0000, 0.0353, 0.3294, 0.6353, 0.9843, 0.9882, 0.9216, 0.4275, 0.0824,\n",
       "         0.0824, 0.0824, 0.0824, 0.0353, 0.0000, 0.0000, 0.0000, 0.0000, 0.0000,\n",
       "         0.0000],\n",
       "        [0.0000, 0.0000, 0.0000, 0.0000, 0.0000, 0.0000, 0.0000, 0.0000, 0.0000,\n",
       "         0.0627, 0.7294, 0.9922, 0.9882, 0.9882, 0.9255, 0.1216, 0.0000, 0.0000,\n",
       "         0.0000, 0.0000, 0.0000, 0.0000, 0.0000, 0.0000, 0.0000, 0.0000, 0.0000,\n",
       "         0.0000],\n",
       "        [0.0000, 0.0000, 0.0000, 0.0000, 0.0000, 0.0000, 0.0000, 0.0000, 0.0000,\n",
       "         0.2510, 0.9882, 0.9255, 0.5765, 0.1961, 0.1216, 0.0000, 0.0000, 0.0000,\n",
       "         0.0000, 0.0000, 0.0000, 0.0000, 0.0000, 0.0000, 0.0000, 0.0000, 0.0000,\n",
       "         0.0000],\n",
       "        [0.0000, 0.0000, 0.0000, 0.0000, 0.0000, 0.0000, 0.0000, 0.0000, 0.0000,\n",
       "         0.6627, 0.9922, 0.6863, 0.0431, 0.0000, 0.0000, 0.0000, 0.0000, 0.0000,\n",
       "         0.0000, 0.0000, 0.0000, 0.0000, 0.0000, 0.0000, 0.0000, 0.0000, 0.0000,\n",
       "         0.0000],\n",
       "        [0.0000, 0.0000, 0.0000, 0.0000, 0.0000, 0.0000, 0.0000, 0.0000, 0.0000,\n",
       "         0.2706, 0.9373, 0.9922, 0.8039, 0.3373, 0.0000, 0.0000, 0.0000, 0.0000,\n",
       "         0.0000, 0.0000, 0.0000, 0.0000, 0.0000, 0.0000, 0.0000, 0.0000, 0.0000,\n",
       "         0.0000],\n",
       "        [0.0000, 0.0000, 0.0000, 0.0000, 0.0000, 0.0000, 0.0000, 0.0000, 0.0000,\n",
       "         0.0000, 0.0667, 0.7373, 0.9686, 0.9843, 0.8078, 0.1529, 0.0000, 0.0000,\n",
       "         0.0000, 0.0000, 0.0000, 0.0000, 0.0000, 0.0000, 0.0000, 0.0000, 0.0000,\n",
       "         0.0000],\n",
       "        [0.0000, 0.0000, 0.0000, 0.0000, 0.0000, 0.0000, 0.0000, 0.0000, 0.0000,\n",
       "         0.0000, 0.0000, 0.0000, 0.3882, 0.8667, 0.9882, 0.9882, 0.2784, 0.0000,\n",
       "         0.0000, 0.0000, 0.0000, 0.0000, 0.0000, 0.0000, 0.0000, 0.0000, 0.0000,\n",
       "         0.0000],\n",
       "        [0.0000, 0.0000, 0.0000, 0.0000, 0.0000, 0.0000, 0.0000, 0.0000, 0.0000,\n",
       "         0.0000, 0.0000, 0.0000, 0.0000, 0.1176, 0.8510, 0.9882, 0.8314, 0.1059,\n",
       "         0.0000, 0.0000, 0.0000, 0.0000, 0.0000, 0.0000, 0.0000, 0.0000, 0.0000,\n",
       "         0.0000],\n",
       "        [0.0000, 0.0000, 0.0000, 0.0000, 0.0000, 0.0000, 0.0000, 0.0000, 0.0000,\n",
       "         0.0000, 0.0000, 0.0000, 0.0000, 0.0000, 0.1059, 0.8980, 1.0000, 0.4902,\n",
       "         0.0000, 0.0000, 0.0000, 0.0000, 0.0000, 0.0000, 0.0000, 0.0000, 0.0000,\n",
       "         0.0000],\n",
       "        [0.0000, 0.0000, 0.0000, 0.0000, 0.0000, 0.0000, 0.0000, 0.0000, 0.0000,\n",
       "         0.0000, 0.0000, 0.0000, 0.0000, 0.0000, 0.0000, 0.5137, 0.9922, 0.6588,\n",
       "         0.0000, 0.0000, 0.0000, 0.0000, 0.0000, 0.0000, 0.0000, 0.0000, 0.0000,\n",
       "         0.0000],\n",
       "        [0.0000, 0.0000, 0.0000, 0.0000, 0.0000, 0.0000, 0.0000, 0.0000, 0.0000,\n",
       "         0.0000, 0.0000, 0.0000, 0.0000, 0.0000, 0.0000, 0.2078, 0.9922, 0.6588,\n",
       "         0.0000, 0.0000, 0.0000, 0.0000, 0.0000, 0.0000, 0.0000, 0.0000, 0.0000,\n",
       "         0.0000],\n",
       "        [0.0000, 0.0000, 0.0000, 0.0000, 0.0000, 0.0000, 0.0000, 0.0000, 0.0000,\n",
       "         0.0000, 0.0000, 0.0000, 0.0000, 0.0000, 0.0000, 0.2784, 0.9922, 0.6588,\n",
       "         0.0000, 0.0000, 0.0000, 0.0000, 0.0000, 0.0000, 0.0000, 0.0000, 0.0000,\n",
       "         0.0000],\n",
       "        [0.0000, 0.0000, 0.0000, 0.0000, 0.0000, 0.0000, 0.0000, 0.0000, 0.0000,\n",
       "         0.0000, 0.0000, 0.0000, 0.0000, 0.0000, 0.0000, 0.5882, 0.9922, 0.6588,\n",
       "         0.0000, 0.0000, 0.0000, 0.0000, 0.0000, 0.0000, 0.0000, 0.0000, 0.0000,\n",
       "         0.0000],\n",
       "        [0.0000, 0.0000, 0.0000, 0.0000, 0.0000, 0.0000, 0.0000, 0.0000, 0.0000,\n",
       "         0.0431, 0.2706, 0.0000, 0.0000, 0.0000, 0.2157, 0.9255, 1.0000, 0.4196,\n",
       "         0.0000, 0.0000, 0.0000, 0.0000, 0.0000, 0.0000, 0.0000, 0.0000, 0.0000,\n",
       "         0.0000],\n",
       "        [0.0000, 0.0000, 0.0000, 0.0000, 0.0000, 0.0000, 0.0000, 0.0000, 0.0000,\n",
       "         0.3882, 0.7490, 0.0000, 0.0000, 0.2039, 0.9098, 0.9882, 0.7294, 0.0627,\n",
       "         0.0000, 0.0000, 0.0000, 0.0000, 0.0000, 0.0000, 0.0000, 0.0000, 0.0000,\n",
       "         0.0000],\n",
       "        [0.0000, 0.0000, 0.0000, 0.0000, 0.0000, 0.0000, 0.0000, 0.0000, 0.0000,\n",
       "         0.6627, 0.7843, 0.2588, 0.2235, 0.9176, 0.9882, 0.9216, 0.2078, 0.0000,\n",
       "         0.0000, 0.0000, 0.0000, 0.0000, 0.0000, 0.0000, 0.0000, 0.0000, 0.0000,\n",
       "         0.0000],\n",
       "        [0.0000, 0.0000, 0.0000, 0.0000, 0.0000, 0.0000, 0.0000, 0.0000, 0.0000,\n",
       "         0.3882, 0.9882, 0.9922, 0.9882, 0.9882, 0.9255, 0.1216, 0.0000, 0.0000,\n",
       "         0.0000, 0.0000, 0.0000, 0.0000, 0.0000, 0.0000, 0.0000, 0.0000, 0.0000,\n",
       "         0.0000],\n",
       "        [0.0000, 0.0000, 0.0000, 0.0000, 0.0000, 0.0000, 0.0000, 0.0000, 0.0000,\n",
       "         0.0431, 0.5059, 0.9922, 0.9882, 0.7451, 0.1216, 0.0000, 0.0000, 0.0000,\n",
       "         0.0000, 0.0000, 0.0000, 0.0000, 0.0000, 0.0000, 0.0000, 0.0000, 0.0000,\n",
       "         0.0000],\n",
       "        [0.0000, 0.0000, 0.0000, 0.0000, 0.0000, 0.0000, 0.0000, 0.0000, 0.0000,\n",
       "         0.0000, 0.0000, 0.0000, 0.0000, 0.0000, 0.0000, 0.0000, 0.0000, 0.0000,\n",
       "         0.0000, 0.0000, 0.0000, 0.0000, 0.0000, 0.0000, 0.0000, 0.0000, 0.0000,\n",
       "         0.0000],\n",
       "        [0.0000, 0.0000, 0.0000, 0.0000, 0.0000, 0.0000, 0.0000, 0.0000, 0.0000,\n",
       "         0.0000, 0.0000, 0.0000, 0.0000, 0.0000, 0.0000, 0.0000, 0.0000, 0.0000,\n",
       "         0.0000, 0.0000, 0.0000, 0.0000, 0.0000, 0.0000, 0.0000, 0.0000, 0.0000,\n",
       "         0.0000],\n",
       "        [0.0000, 0.0000, 0.0000, 0.0000, 0.0000, 0.0000, 0.0000, 0.0000, 0.0000,\n",
       "         0.0000, 0.0000, 0.0000, 0.0000, 0.0000, 0.0000, 0.0000, 0.0000, 0.0000,\n",
       "         0.0000, 0.0000, 0.0000, 0.0000, 0.0000, 0.0000, 0.0000, 0.0000, 0.0000,\n",
       "         0.0000]])"
      ]
     },
     "execution_count": 5,
     "metadata": {},
     "output_type": "execute_result"
    }
   ],
   "source": [
    "images[0][0]"
   ]
  },
  {
   "cell_type": "code",
   "execution_count": 6,
   "metadata": {},
   "outputs": [
    {
     "data": {
      "image/png": "[encoded data removed]",
      "text/plain": [
       "<Figure size 640x480 with 1 Axes>"
      ]
     },
     "metadata": {},
     "output_type": "display_data"
    }
   ],
   "source": [
    "import matplotlib.pyplot as plt\n",
    "import torch\n",
    "\n",
    "# Let's assume your tensor is a 28x28 grayscale image\n",
    "image = images[0][0]  # shape: (28, 28) or (1, 28, 28)\n",
    "\n",
    "# If it has a channel dimension (1, 28, 28), remove it\n",
    "if image.ndim == 3:\n",
    "    image = image.squeeze(0)\n",
    "\n",
    "# Plot the image\n",
    "plt.imshow(image.numpy(), cmap='gray')\n",
    "plt.title(\"MNIST Digit\")\n",
    "plt.axis('off')\n",
    "plt.show()"
   ]
  },
  {
   "cell_type": "code",
   "execution_count": 7,
   "metadata": {},
   "outputs": [
    {
     "data": {
      "image/png": "[encoded data removed]",
      "text/plain": [
       "<Figure size 600x600 with 9 Axes>"
      ]
     },
     "metadata": {},
     "output_type": "display_data"
    }
   ],
   "source": [
    "import matplotlib.pyplot as plt\n",
    "# Get one batch\n",
    "images, labels = next(iter(train_loader))\n",
    "\n",
    "# Visualize first 9 images\n",
    "fig, axes = plt.subplots(3, 3, figsize=(6, 6))\n",
    "for i, ax in enumerate(axes.flat):\n",
    "    img = images[i][0].numpy()  # shape: [1, 28, 28] → [28, 28]\n",
    "    label = labels[i].item()\n",
    "    \n",
    "    ax.imshow(img, cmap='gray')\n",
    "    ax.set_title(f\"Label: {label}\")\n",
    "    ax.axis('off')\n",
    "\n",
    "plt.tight_layout()\n",
    "plt.show()"
   ]
  },
  {
   "cell_type": "code",
   "execution_count": 8,
   "metadata": {},
   "outputs": [
    {
     "data": {
      "text/plain": [
       "Dataset MNIST\n",
       "    Number of datapoints: 60000\n",
       "    Root location: data\n",
       "    Split: Train\n",
       "    StandardTransform\n",
       "Transform: ToTensor()"
      ]
     },
     "execution_count": 8,
     "metadata": {},
     "output_type": "execute_result"
    }
   ],
   "source": [
    "train_dataset"
   ]
  },
  {
   "cell_type": "code",
   "execution_count": 9,
   "metadata": {},
   "outputs": [
    {
     "data": {
      "text/plain": [
       "Dataset MNIST\n",
       "    Number of datapoints: 10000\n",
       "    Root location: data\n",
       "    Split: Test\n",
       "    StandardTransform\n",
       "Transform: ToTensor()"
      ]
     },
     "execution_count": 9,
     "metadata": {},
     "output_type": "execute_result"
    }
   ],
   "source": [
    "test_dataset"
   ]
  },
  {
   "cell_type": "markdown",
   "metadata": {},
   "source": [
    "## Training"
   ]
  },
  {
   "cell_type": "code",
   "execution_count": 10,
   "metadata": {},
   "outputs": [
    {
     "name": "stdout",
     "output_type": "stream",
     "text": [
      "SimpleNN(\n",
      "  (model): Sequential(\n",
      "    (0): Flatten(start_dim=1, end_dim=-1)\n",
      "    (1): Linear(in_features=784, out_features=128, bias=True)\n",
      "    (2): ReLU()\n",
      "    (3): Linear(in_features=128, out_features=10, bias=True)\n",
      "  )\n",
      ")\n",
      "CrossEntropyLoss()\n",
      "Adam (\n",
      "Parameter Group 0\n",
      "    amsgrad: False\n",
      "    betas: (0.9, 0.999)\n",
      "    capturable: False\n",
      "    decoupled_weight_decay: False\n",
      "    differentiable: False\n",
      "    eps: 1e-08\n",
      "    foreach: None\n",
      "    fused: None\n",
      "    lr: 0.001\n",
      "    maximize: False\n",
      "    weight_decay: 0\n",
      ")\n"
     ]
    }
   ],
   "source": [
    "# 3. Define Neural Network\n",
    "class SimpleNN(nn.Module):\n",
    "    def __init__(self):\n",
    "        super(SimpleNN, self).__init__()\n",
    "        # Define a neural network model using nn.Sequential for a simple feedforward network\n",
    "        self.model = nn.Sequential(\n",
    "            nn.Flatten(),              # Flattens the 28x28 input image into a 1D tensor of size 784\n",
    "            nn.Linear(28*28, 128),     # Fully connected layer from 784 input features to 128 output features\n",
    "            nn.ReLU(),                 # ReLU activation function introduces non-linearity. Max(0, x)\n",
    "            nn.Linear(128, 10)         # Fully connected layer from 128 features to 10 classes (for classification)\n",
    "        )\n",
    "        \n",
    "    def forward(self, x):\n",
    "        return self.model(x)\n",
    "\n",
    "model = SimpleNN().to(device)\n",
    "# 4. Set Loss and Optimizer\n",
    "criterion = nn.CrossEntropyLoss()\n",
    "optimizer = optim.Adam(model.parameters(), lr=0.001)\n",
    "print(model)\n",
    "print(criterion)\n",
    "print(optimizer)"
   ]
  },
  {
   "cell_type": "code",
   "execution_count": 11,
   "metadata": {},
   "outputs": [
    {
     "name": "stdout",
     "output_type": "stream",
     "text": [
      "Epoch 1, Loss: 0.0795\n",
      "Epoch 2, Loss: 0.2309\n",
      "Epoch 3, Loss: 0.0355\n",
      "Epoch 4, Loss: 0.0155\n",
      "Epoch 5, Loss: 0.0136\n"
     ]
    }
   ],
   "source": [
    "# 5. Training Loop\n",
    "# Train the model for 5 epochs\n",
    "for epoch in range(5):\n",
    "    model.train()  # Set the model to training mode (important for layers like dropout or batchnorm)\n",
    "    # Loop over each batch of images and labels in the training dataset\n",
    "    for images, labels in train_loader:\n",
    "        images, labels = images.to(device), labels.to(device) # Move the data to the specified device (CPU or GPU)\n",
    "        outputs = model(images) # Forward pass: compute the model's predictions. first layer: h1 = ReLU(xW_1+b_1), second layer: z = h1W_2+b_2 -> y = softmax(z)\n",
    "        loss = criterion(outputs, labels) # Compute the loss between predictions and true labels -> E.g. Cross entropy loss. (For each batch - 64 times, then average)\n",
    "        optimizer.zero_grad() # Zero out gradients from the previous step (otherwise they'd accumulate) -> Clear out old gradients\n",
    "        loss.backward() # Backward pass: compute gradients of the loss with respect to model parameters -> Applies backward propagation\n",
    "        optimizer.step() # Update the model parameters using the optimizer -> Update weights e.g. w2 <- w2 - eta *dl/dw2, w1 <- w1 - eta*dl/dw1\n",
    "    print(f\"Epoch {epoch+1}, Loss: {loss.item():.4f}\")"
   ]
  },
  {
   "cell_type": "markdown",
   "metadata": {},
   "source": [
    "## Testing"
   ]
  },
  {
   "cell_type": "code",
   "execution_count": null,
   "metadata": {},
   "outputs": [
    {
     "name": "stdout",
     "output_type": "stream",
     "text": [
      "1000\n",
      "1000\n",
      "1000\n",
      "1000\n",
      "1000\n",
      "1000\n",
      "1000\n",
      "1000\n",
      "1000\n",
      "1000\n",
      "Test Accuracy: 97.45%\n"
     ]
    }
   ],
   "source": [
    "# 6. Test Accuracy\n",
    "model.eval() # Set the model to evaluation mode (important for layers like dropout or batchnorm)\n",
    "correct = 0\n",
    "total = 0\n",
    "\n",
    "with torch.no_grad(): # Disables gradient tracking. Reduces memory usage and speeds up computation during inference, since we don’t need gradients.\n",
    "    for images, labels in test_loader:\n",
    "        images, labels = images.to(device), labels.to(device) # Moves the images and labels to the same device as the model (CPU or GPU).\n",
    "        outputs = model(images) # Feeds batch of 1000 images through the model to get predictions.\n",
    "        _, predicted = torch.max(outputs.data, 1) # returns both the max value and its index across class dimension.\n",
    "        print(len(predicted))\n",
    "        total += labels.size(0) # Adds the number of labels in the batch to the total number of samples.\n",
    "        correct += (predicted == labels).sum().item() # Compares predicted labels to true labels. .sum() counts the number of correct predictions in the batch. .item() converts the tensor to a Python integer and adds it to the running total.\n",
    "\n",
    "print(f\"Test Accuracy: {100 * correct / total:.2f}%\")"
   ]
  },
  {
   "cell_type": "code",
   "execution_count": 43,
   "metadata": {},
   "outputs": [],
   "source": [
    "torch.save(model.state_dict(), \"model_weights.pth\")"
   ]
  },
  {
   "cell_type": "code",
   "execution_count": 23,
   "metadata": {},
   "outputs": [],
   "source": [
    "import torch\n",
    "\n",
    "# Make sure the model is on CPU and in evaluation mode\n",
    "model.cpu()\n",
    "model.eval()\n",
    "\n",
    "# Provide dummy input (shape must match real input during training)\n",
    "# For example: MNIST = (batch_size, 1 channel, 28x28)\n",
    "dummy_input = torch.randn(1, 1, 28, 28)\n",
    "\n",
    "# Export the model to ONNX\n",
    "torch.onnx.export(\n",
    "    model,                         # Trained model to export\n",
    "    dummy_input,                   # Dummy input for tracing\n",
    "    \"model.onnx\",                  # Output filename\n",
    "    input_names=[\"input\"],         # Input name\n",
    "    output_names=[\"output\"],       # Output name\n",
    "    dynamic_axes={                 # Dynamic batch size\n",
    "        \"input\": {0: \"batch_size\"},\n",
    "        \"output\": {0: \"batch_size\"}\n",
    "    },\n",
    "    opset_version=11               # ONNX version to use\n",
    ")"
   ]
  },
  {
   "cell_type": "code",
   "execution_count": 13,
   "metadata": {},
   "outputs": [
    {
     "data": {
      "text/plain": [
       "OrderedDict([('model.1.weight',\n",
       "              tensor([[ 0.0114,  0.0115,  0.0063,  ..., -0.0139, -0.0314, -0.0347],\n",
       "                      [ 0.0107,  0.0118, -0.0303,  ..., -0.0224,  0.0228,  0.0265],\n",
       "                      [ 0.0355, -0.0021, -0.0262,  ...,  0.0290,  0.0037, -0.0077],\n",
       "                      ...,\n",
       "                      [ 0.0103,  0.0207, -0.0252,  ...,  0.0036,  0.0325, -0.0016],\n",
       "                      [-0.0113,  0.0080,  0.0276,  ..., -0.0305,  0.0166, -0.0073],\n",
       "                      [ 0.0067,  0.0181, -0.0339,  ..., -0.0187,  0.0209, -0.0348]])),\n",
       "             ('model.1.bias',\n",
       "              tensor([-0.0728,  0.2534,  0.0998,  0.0010,  0.0250, -0.0660, -0.0518,  0.0585,\n",
       "                       0.0661,  0.0834,  0.0881,  0.1944,  0.0032,  0.0121,  0.0347, -0.0585,\n",
       "                      -0.0030, -0.0693,  0.0368,  0.1021,  0.0248,  0.1490,  0.1141, -0.0365,\n",
       "                      -0.0012, -0.0518, -0.0677, -0.0163,  0.0107,  0.0807,  0.0265,  0.1970,\n",
       "                       0.0654,  0.0775,  0.2106,  0.1258,  0.0140, -0.1014, -0.0221,  0.1636,\n",
       "                       0.1849,  0.0993, -0.1180, -0.0845,  0.0421,  0.0377, -0.1263,  0.2165,\n",
       "                       0.0398,  0.1778,  0.0245, -0.0337,  0.0816, -0.1137, -0.0155,  0.0364,\n",
       "                       0.1019,  0.0224,  0.0224,  0.0756, -0.0602, -0.0401, -0.0365, -0.0198,\n",
       "                      -0.0212,  0.1140,  0.1388, -0.0038, -0.0196, -0.0805,  0.0470,  0.0340,\n",
       "                       0.0122,  0.1892,  0.0765, -0.0111,  0.0317,  0.0294,  0.0903,  0.2551,\n",
       "                      -0.0278, -0.0353, -0.0932,  0.0095,  0.1346, -0.1295,  0.2120,  0.0415,\n",
       "                       0.0809,  0.0836,  0.0209,  0.1105,  0.0984,  0.0466, -0.0576,  0.1418,\n",
       "                      -0.0250,  0.0009, -0.0691, -0.0167, -0.1336, -0.0559, -0.0662,  0.0421,\n",
       "                      -0.0150, -0.0574,  0.1029,  0.0930, -0.0010,  0.0120, -0.0959,  0.1197,\n",
       "                       0.0339,  0.0347,  0.0242,  0.1259,  0.0151,  0.0007,  0.0685, -0.1704,\n",
       "                       0.1646,  0.0685,  0.0340,  0.0866,  0.0490, -0.0531,  0.1828,  0.0270])),\n",
       "             ('model.3.weight',\n",
       "              tensor([[ 0.0256,  0.0410, -0.3046,  ...,  0.1788,  0.2607,  0.1479],\n",
       "                      [ 0.1311,  0.4952,  0.1179,  ..., -0.0838,  0.1596, -0.0307],\n",
       "                      [-0.0536,  0.1181, -0.1692,  ...,  0.0159,  0.0720,  0.1523],\n",
       "                      ...,\n",
       "                      [-0.0120,  0.4405, -0.1166,  ...,  0.0913,  0.4031, -0.2380],\n",
       "                      [ 0.0831, -0.5882,  0.0907,  ..., -0.0095, -0.3303, -0.5215],\n",
       "                      [ 0.0017, -0.3039,  0.0334,  ...,  0.1865, -0.2009,  0.2698]])),\n",
       "             ('model.3.bias',\n",
       "              tensor([-1.7154e-01,  5.5616e-02, -5.8174e-02, -5.0524e-02,  6.0674e-02,\n",
       "                       6.3198e-02, -4.3960e-03,  9.8591e-05,  9.0452e-04,  7.9195e-02]))])"
      ]
     },
     "execution_count": 13,
     "metadata": {},
     "output_type": "execute_result"
    }
   ],
   "source": [
    "model.state_dict()"
   ]
  },
  {
   "cell_type": "code",
   "execution_count": 20,
   "metadata": {},
   "outputs": [
    {
     "name": "stdout",
     "output_type": "stream",
     "text": [
      "'model.1.weight' torch.Size([128, 784])\n",
      "'model.1.bias' torch.Size([128])\n",
      "'model.3.weight' torch.Size([10, 128])\n",
      "'model.3.bias' torch.Size([10])\n"
     ]
    }
   ],
   "source": [
    "print(\"'model.1.weight'\", model.state_dict()['model.1.weight'].shape)\n",
    "print(\"'model.1.bias'\", model.state_dict()['model.1.bias'].shape)\n",
    "print(\"'model.3.weight'\", model.state_dict()['model.3.weight'].shape)\n",
    "print(\"'model.3.bias'\", model.state_dict()['model.3.bias'].shape)"
   ]
  },
  {
   "cell_type": "code",
   "execution_count": null,
   "metadata": {},
   "outputs": [],
   "source": []
  }
 ],
 "metadata": {
  "kernelspec": {
   "display_name": "torch-env",
   "language": "python",
   "name": "python3"
  },
  "language_info": {
   "codemirror_mode": {
    "name": "ipython",
    "version": 3
   },
   "file_extension": ".py",
   "mimetype": "text/x-python",
   "name": "python",
   "nbconvert_exporter": "python",
   "pygments_lexer": "ipython3",
   "version": "3.11.12"
  }
 },
 "nbformat": 4,
 "nbformat_minor": 2
}
