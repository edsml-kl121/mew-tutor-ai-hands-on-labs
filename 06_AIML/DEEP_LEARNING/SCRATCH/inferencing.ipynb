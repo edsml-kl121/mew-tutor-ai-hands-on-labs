{
 "cells": [
  {
   "cell_type": "markdown",
   "metadata": {},
   "source": [
    "## Pickle"
   ]
  },
  {
   "cell_type": "code",
   "execution_count": 1,
   "metadata": {},
   "outputs": [],
   "source": [
    "import torch\n",
    "import torch.nn as nn\n",
    "import torch.optim as optim\n",
    "from torchvision import datasets, transforms\n",
    "from torch.utils.data import DataLoader\n",
    "\n",
    "\n",
    "transform = transforms.ToTensor()\n",
    "train_dataset = datasets.MNIST(root='data', train=True, transform=transform, download=True)\n",
    "test_dataset  = datasets.MNIST(root='data', train=False, transform=transform, download=True)\n",
    "\n",
    "train_loader = DataLoader(train_dataset, batch_size=64, shuffle=True)\n",
    "test_loader  = DataLoader(test_dataset, batch_size=1000)\n",
    "\n",
    "# 3. Define Neural Network\n",
    "class SimpleNN(nn.Module):\n",
    "    def __init__(self):\n",
    "        super(SimpleNN, self).__init__()\n",
    "        # Define a neural network model using nn.Sequential for a simple feedforward network\n",
    "        self.model = nn.Sequential(\n",
    "            nn.Flatten(),              # Flattens the 28x28 input image into a 1D tensor of size 784\n",
    "            nn.Linear(28*28, 128),     # Fully connected layer from 784 input features to 128 output features\n",
    "            nn.ReLU(),                 # ReLU activation function introduces non-linearity. Max(0, x)\n",
    "            nn.Linear(128, 10)         # Fully connected layer from 128 features to 10 classes (for classification)\n",
    "        )\n",
    "        \n",
    "    def forward(self, x):\n",
    "        return self.model(x)"
   ]
  },
  {
   "cell_type": "code",
   "execution_count": null,
   "metadata": {},
   "outputs": [],
   "source": [
    "## Without loading"
   ]
  },
  {
   "cell_type": "code",
   "execution_count": 2,
   "metadata": {},
   "outputs": [
    {
     "name": "stdout",
     "output_type": "stream",
     "text": [
      "1000\n",
      "1000\n",
      "1000\n",
      "1000\n",
      "1000\n",
      "1000\n",
      "1000\n",
      "1000\n",
      "1000\n",
      "1000\n",
      "Test Accuracy: 11.45%\n"
     ]
    }
   ],
   "source": [
    "device = torch.device(\"cuda\" if torch.cuda.is_available() else \"cpu\")\n",
    "loaded_model = SimpleNN()\n",
    "loaded_model.to(device)\n",
    "\n",
    "correct = 0\n",
    "total = 0\n",
    "\n",
    "with torch.no_grad(): # Disables gradient tracking. Reduces memory usage and speeds up computation during inference, since we don’t need gradients.\n",
    "    for images, labels in test_loader:\n",
    "        images, labels = images.to(device), labels.to(device) # Moves the images and labels to the same device as the model (CPU or GPU).\n",
    "        outputs = loaded_model(images) # Feeds batch of 1000 images through the model to get predictions.\n",
    "        _, predicted = torch.max(outputs.data, 1) # returns both the max value and its index across class dimension.\n",
    "        print(len(predicted))\n",
    "        total += labels.size(0) # Adds the number of labels in the batch to the total number of samples.\n",
    "        correct += (predicted == labels).sum().item() # Compares predicted labels to true labels. .sum() counts the number of correct predictions in the batch. .item() converts the tensor to a Python integer and adds it to the running total.\n",
    "\n",
    "print(f\"Test Accuracy: {100 * correct / total:.2f}%\")\n",
    "# loaded_model.eval()"
   ]
  },
  {
   "cell_type": "code",
   "execution_count": null,
   "metadata": {},
   "outputs": [
    {
     "data": {
      "text/plain": [
       "torch.Size([1000, 10])"
      ]
     },
     "execution_count": 13,
     "metadata": {},
     "output_type": "execute_result"
    }
   ],
   "source": []
  },
  {
   "cell_type": "code",
   "execution_count": 14,
   "metadata": {},
   "outputs": [
    {
     "name": "stdout",
     "output_type": "stream",
     "text": [
      "torch.Size([1000, 10])\n",
      "1000\n",
      "torch.Size([1000, 10])\n",
      "1000\n",
      "torch.Size([1000, 10])\n",
      "1000\n",
      "torch.Size([1000, 10])\n",
      "1000\n",
      "torch.Size([1000, 10])\n",
      "1000\n",
      "torch.Size([1000, 10])\n",
      "1000\n",
      "torch.Size([1000, 10])\n",
      "1000\n",
      "torch.Size([1000, 10])\n",
      "1000\n",
      "torch.Size([1000, 10])\n",
      "1000\n",
      "torch.Size([1000, 10])\n",
      "1000\n",
      "Test Accuracy: 97.45%\n"
     ]
    }
   ],
   "source": [
    "device = torch.device(\"cuda\" if torch.cuda.is_available() else \"cpu\")\n",
    "loaded_model = SimpleNN()\n",
    "loaded_model.load_state_dict(torch.load(\"model_weights.pth\", map_location=device))\n",
    "loaded_model.to(device)\n",
    "\n",
    "correct = 0\n",
    "total = 0\n",
    "\n",
    "with torch.no_grad(): # Disables gradient tracking. Reduces memory usage and speeds up computation during inference, since we don’t need gradients.\n",
    "    for images, labels in test_loader:\n",
    "        images, labels = images.to(device), labels.to(device) # Moves the images and labels to the same device as the model (CPU or GPU).\n",
    "        outputs = loaded_model(images) # Feeds batch of 1000 images through the model to get predictions.\n",
    "        _, predicted = torch.max(outputs.data, 1) # returns both the max value and its index across class dimension.\n",
    "        print(outputs.shape)\n",
    "        print(len(predicted))\n",
    "        total += labels.size(0) # Adds the number of labels in the batch to the total number of samples.\n",
    "        correct += (predicted == labels).sum().item() # Compares predicted labels to true labels. .sum() counts the number of correct predictions in the batch. .item() converts the tensor to a Python integer and adds it to the running total.\n",
    "\n",
    "print(f\"Test Accuracy: {100 * correct / total:.2f}%\")\n",
    "# loaded_model.eval()"
   ]
  },
  {
   "cell_type": "markdown",
   "metadata": {},
   "source": [
    "## ONNX"
   ]
  },
  {
   "cell_type": "code",
   "execution_count": 5,
   "metadata": {},
   "outputs": [
    {
     "name": "stdout",
     "output_type": "stream",
     "text": [
      "Predicted class: [5]\n"
     ]
    }
   ],
   "source": [
    "import onnxruntime as ort\n",
    "import numpy as np\n",
    "import torch\n",
    "\n",
    "# Load the ONNX model\n",
    "session = ort.InferenceSession(\"model.onnx\")\n",
    "\n",
    "# Prepare input data (NumPy array, same shape as during training)\n",
    "# For MNIST: batch of 1 image, 1 channel, 28x28\n",
    "dummy_image = torch.randn(1, 1, 28, 28)\n",
    "input_array = dummy_image.numpy().astype(np.float32)\n",
    "\n",
    "# Get the input name for the model (matches the name used in export)\n",
    "input_name = session.get_inputs()[0].name\n",
    "output_name = session.get_outputs()[0].name\n",
    "\n",
    "# Run inference\n",
    "outputs = session.run([output_name], {input_name: input_array})\n",
    "\n",
    "# Get predicted class\n",
    "predicted_class = np.argmax(outputs[0], axis=1)\n",
    "print(f\"Predicted class: {predicted_class}\")"
   ]
  },
  {
   "cell_type": "code",
   "execution_count": null,
   "metadata": {},
   "outputs": [
    {
     "data": {
      "text/plain": [
       "array([[-15.186843 , -17.99852  ,  -9.234358 ,   0.6698692,  -1.6174479,\n",
       "          3.9458423, -19.283533 ,  -4.363623 ,   1.85484  ,   1.5067648]],\n",
       "      dtype=float32)"
      ]
     },
     "execution_count": 10,
     "metadata": {},
     "output_type": "execute_result"
    }
   ],
   "source": [
    "outputs[0]"
   ]
  },
  {
   "cell_type": "code",
   "execution_count": null,
   "metadata": {},
   "outputs": [],
   "source": [
    "## Don't need softmax. Softmax turns predicted vals into probabilities.\n",
    "# Needs softmax when we want to show prediction confidence, need threshold confidence, visualizing model uncertainty"
   ]
  }
 ],
 "metadata": {
  "kernelspec": {
   "display_name": "torch-env",
   "language": "python",
   "name": "python3"
  },
  "language_info": {
   "codemirror_mode": {
    "name": "ipython",
    "version": 3
   },
   "file_extension": ".py",
   "mimetype": "text/x-python",
   "name": "python",
   "nbconvert_exporter": "python",
   "pygments_lexer": "ipython3",
   "version": "3.11.12"
  }
 },
 "nbformat": 4,
 "nbformat_minor": 2
}
