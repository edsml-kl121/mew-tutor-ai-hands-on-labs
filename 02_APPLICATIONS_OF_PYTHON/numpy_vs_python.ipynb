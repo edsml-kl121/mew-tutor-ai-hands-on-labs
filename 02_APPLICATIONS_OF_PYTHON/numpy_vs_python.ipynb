{
 "cells": [
  {
   "cell_type": "code",
   "execution_count": 3,
   "id": "75ae99c0",
   "metadata": {},
   "outputs": [
    {
     "name": "stdout",
     "output_type": "stream",
     "text": [
      "Python for-loop took 4.8588 seconds\n",
      "NumPy vectorized operation took 0.4714 seconds\n"
     ]
    }
   ],
   "source": [
    "import numpy as np\n",
    "import time\n",
    "\n",
    "# Set a large number of elements\n",
    "n = 100_000_000\n",
    "data = list(range(n))\n",
    "\n",
    "# Using regular Python for-loop\n",
    "start = time.time()\n",
    "squared_python = [x**2 for x in data]\n",
    "end = time.time()\n",
    "print(f\"Python for-loop took {end - start:.4f} seconds\")\n",
    "\n",
    "# Using NumPy vectorized operation\n",
    "data_np = np.arange(n)\n",
    "start = time.time()\n",
    "squared_numpy = data_np ** 2\n",
    "end = time.time()\n",
    "print(f\"NumPy vectorized operation took {end - start:.4f} seconds\")"
   ]
  },
  {
   "cell_type": "code",
   "execution_count": null,
   "id": "bdc14494",
   "metadata": {},
   "outputs": [],
   "source": []
  }
 ],
 "metadata": {
  "kernelspec": {
   "display_name": "04-BE",
   "language": "python",
   "name": "python3"
  },
  "language_info": {
   "codemirror_mode": {
    "name": "ipython",
    "version": 3
   },
   "file_extension": ".py",
   "mimetype": "text/x-python",
   "name": "python",
   "nbconvert_exporter": "python",
   "pygments_lexer": "ipython3",
   "version": "3.11.12"
  }
 },
 "nbformat": 4,
 "nbformat_minor": 5
}
