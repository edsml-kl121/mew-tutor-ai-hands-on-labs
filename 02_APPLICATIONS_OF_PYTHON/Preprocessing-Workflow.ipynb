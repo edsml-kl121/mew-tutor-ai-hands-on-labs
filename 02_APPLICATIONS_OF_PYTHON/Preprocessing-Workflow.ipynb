{
 "cells": [
  {
   "cell_type": "markdown",
   "metadata": {},
   "source": [
    "# Preprocessing Workflow\n"
   ]
  },
  {
   "cell_type": "markdown",
   "metadata": {},
   "source": [
    "🎯 This exercise will take you through the preprocessing workflow. Step by step, feature by feature, you will investigate the dataset and take preprocessing decisions accordingly."
   ]
  },
  {
   "cell_type": "markdown",
   "metadata": {},
   "source": [
    "# Introduction to Core Data\n",
    "\n",
    "![glomar](http://deepseadrilling.org/images/challenger1.jpg)<br>\n",
    "One of the objectives of this module is to familiarize yourself with new data types. Geologist learn a lot about the history of the Earth by studying core material, i.e. cylindrical pieces of rock recovered from the subsurface by a drill string. Drilling for cores can be performed on land, or at sea from a drilling vessel. One famous drilling vessel is the R/V JOIDES Resolution. I also used to work as a staff scientist on the JOIDES Resolution (aka \"JR\") before joining Imperial College, so I know it well. The JR is operated by the <a href=\"https://www.iodp.org/\">International Ocean Discovery Program (IODP, 2003-today)</a>, which was preceded by the <a href=\"http://www-odp.tamu.edu/\">Ocean Drilling Program (ODP, 1985-2003)</a> and the <a href=\"http://deepseadrilling.org/about.htm\">Deep Sea Drilling Project (DSDP, 1966-1985)</a>. The various version of the ocean drilling program thus represents one of the major investment in Earth Science over the last 55 years, and has acquired a treasure trove of core and logging data. We will take full advantage of this here.<br>\n",
    "\n",
    "![cores](https://www.iodp.org/images/right_side_random_images/357_mircobio_carolcotterill.jpg)<br>\n",
    "\n",
    "Because we will be using ODP/IODP data extensively in this course it is worth defining what the different terms represent.\n",
    "\n",
    "'Leg' refers to the particular expedition the drill ship was on. In more recent IODP cruises, this is referred to as the 'Expedition' or 'Exp'. Think of a leg as a 6-9 week-long cruise with a single crew, addressing a single research objective. Leg or Expedition are represented by a sequential <code>Int</code>.\n",
    "\n",
    "'Site' means the name of the general area that was drilled, which is also a sequential number. At each site, the vessel can drill multiple wells, known a 'Hole' and often represented with the letter 'H'. The wells are represented by an ordered <code>str</code>: 'A', 'B', 'C', etc..\n",
    "\n",
    "Although a drilling vessel aims to recover a continuous section of rock, for practical reasons this is not possible. Thus, pipes are added to the drill string as coring down continues, and a length of rock nominally the length of the drilling pipe is recovered. The pipes on the JR are 9.8 meters, and so we recover cores of 9.8 meters. Cores are denoted with a unique number ('Cor'), followed by the tool used for coring ('T'), which is a 1 character designation of the drilling technique used (more about this later in the course). 'Sc' designates the section: each 9.8 meters-long core is cut into 1.5 meters sections for easy handling, with the addition of the core catcher 'CC' which represents material not in the core liner (in oder words, we are not sure where this material comes from - the core itself, the side of the hole, or the seafloor). For each sample from the ocean drilling program, a 'Top(cm)' is defined and represents the cm down from the top of the section where the sample is located.\n",
    "\n",
    "Thus, an ODP/IODP sample can be fully spatially resolved by the combination of the parameters we have described above (and that are always supplied as part of the dataset as a unique identifyer). For instance, an example of a sample would be ODP Sample **198-1207-A-2-H-2-65**. This means that this particular sample comes from ODP Leg 198, Site 1207, Hole A (or 'well A'), core 2 drilling with a piston corer ('H'), section 2, 65 cm down section. With this information the 'Depth (mbsf)' which is the depths below seafloor of any sample can be calculated.\n",
    "\n",
    "Multiple sets of properties can be measured on a core sample, either onboard the ship or postcruise, once the scientists are back onshore. All of this information can be precisely correlated and used by data scientists like yourselves.\n",
    "\n",
    "![cores](https://iodp.tamu.edu/database/wholecore.jpg)"
   ]
  },
  {
   "cell_type": "markdown",
   "metadata": {},
   "source": [
    "👇 Run the code below to load the dataset and features you will be working with."
   ]
  },
  {
   "cell_type": "code",
   "execution_count": 1,
   "metadata": {
    "ExecuteTime": {
     "end_time": "2021-10-30T13:01:06.045473Z",
     "start_time": "2021-10-30T13:01:05.537431Z"
    },
    "tags": []
   },
   "outputs": [
    {
     "data": {
      "text/html": [
       "<div>\n",
       "<style scoped>\n",
       "    .dataframe tbody tr th:only-of-type {\n",
       "        vertical-align: middle;\n",
       "    }\n",
       "\n",
       "    .dataframe tbody tr th {\n",
       "        vertical-align: top;\n",
       "    }\n",
       "\n",
       "    .dataframe thead th {\n",
       "        text-align: right;\n",
       "    }\n",
       "</style>\n",
       "<table border=\"1\" class=\"dataframe\">\n",
       "  <thead>\n",
       "    <tr style=\"text-align: right;\">\n",
       "      <th></th>\n",
       "      <th>Exp</th>\n",
       "      <th>Site</th>\n",
       "      <th>Hole</th>\n",
       "      <th>Core</th>\n",
       "      <th>Type</th>\n",
       "      <th>Sect</th>\n",
       "      <th>Top(cm)</th>\n",
       "      <th>Depth CSF-A (m)</th>\n",
       "      <th>NGR total counts (cps)</th>\n",
       "      <th>Reflectance L*</th>\n",
       "      <th>Reflectance a*</th>\n",
       "      <th>Reflectance b*</th>\n",
       "      <th>Lithology</th>\n",
       "    </tr>\n",
       "  </thead>\n",
       "  <tbody>\n",
       "    <tr>\n",
       "      <th>0</th>\n",
       "      <td>194</td>\n",
       "      <td>1192</td>\n",
       "      <td>A</td>\n",
       "      <td>1</td>\n",
       "      <td>H</td>\n",
       "      <td>1</td>\n",
       "      <td>20</td>\n",
       "      <td>0.20</td>\n",
       "      <td>16.2</td>\n",
       "      <td>39.55</td>\n",
       "      <td>4.22</td>\n",
       "      <td>10.59</td>\n",
       "      <td>Marls</td>\n",
       "    </tr>\n",
       "    <tr>\n",
       "      <th>1</th>\n",
       "      <td>194</td>\n",
       "      <td>1192</td>\n",
       "      <td>A</td>\n",
       "      <td>1</td>\n",
       "      <td>H</td>\n",
       "      <td>1</td>\n",
       "      <td>40</td>\n",
       "      <td>0.40</td>\n",
       "      <td>20.0</td>\n",
       "      <td>66.57</td>\n",
       "      <td>4.70</td>\n",
       "      <td>19.52</td>\n",
       "      <td>Marls</td>\n",
       "    </tr>\n",
       "    <tr>\n",
       "      <th>2</th>\n",
       "      <td>194</td>\n",
       "      <td>1192</td>\n",
       "      <td>A</td>\n",
       "      <td>1</td>\n",
       "      <td>H</td>\n",
       "      <td>1</td>\n",
       "      <td>60</td>\n",
       "      <td>0.60</td>\n",
       "      <td>18.8</td>\n",
       "      <td>68.21</td>\n",
       "      <td>4.79</td>\n",
       "      <td>24.13</td>\n",
       "      <td>Clayey Marls</td>\n",
       "    </tr>\n",
       "    <tr>\n",
       "      <th>3</th>\n",
       "      <td>194</td>\n",
       "      <td>1192</td>\n",
       "      <td>A</td>\n",
       "      <td>1</td>\n",
       "      <td>H</td>\n",
       "      <td>1</td>\n",
       "      <td>80</td>\n",
       "      <td>0.80</td>\n",
       "      <td>21.6</td>\n",
       "      <td>64.90</td>\n",
       "      <td>6.77</td>\n",
       "      <td>29.16</td>\n",
       "      <td>Sandy carbonate</td>\n",
       "    </tr>\n",
       "    <tr>\n",
       "      <th>4</th>\n",
       "      <td>194</td>\n",
       "      <td>1192</td>\n",
       "      <td>A</td>\n",
       "      <td>1</td>\n",
       "      <td>H</td>\n",
       "      <td>1</td>\n",
       "      <td>100</td>\n",
       "      <td>1.00</td>\n",
       "      <td>25.2</td>\n",
       "      <td>67.85</td>\n",
       "      <td>2.34</td>\n",
       "      <td>14.76</td>\n",
       "      <td>Marls</td>\n",
       "    </tr>\n",
       "    <tr>\n",
       "      <th>...</th>\n",
       "      <td>...</td>\n",
       "      <td>...</td>\n",
       "      <td>...</td>\n",
       "      <td>...</td>\n",
       "      <td>...</td>\n",
       "      <td>...</td>\n",
       "      <td>...</td>\n",
       "      <td>...</td>\n",
       "      <td>...</td>\n",
       "      <td>...</td>\n",
       "      <td>...</td>\n",
       "      <td>...</td>\n",
       "      <td>...</td>\n",
       "    </tr>\n",
       "    <tr>\n",
       "      <th>25212</th>\n",
       "      <td>194</td>\n",
       "      <td>1199</td>\n",
       "      <td>A</td>\n",
       "      <td>1</td>\n",
       "      <td>R</td>\n",
       "      <td>1</td>\n",
       "      <td>120</td>\n",
       "      <td>1.20</td>\n",
       "      <td>19.6</td>\n",
       "      <td>60.02</td>\n",
       "      <td>1.63</td>\n",
       "      <td>9.13</td>\n",
       "      <td>NaN</td>\n",
       "    </tr>\n",
       "    <tr>\n",
       "      <th>25213</th>\n",
       "      <td>194</td>\n",
       "      <td>1199</td>\n",
       "      <td>A</td>\n",
       "      <td>1</td>\n",
       "      <td>R</td>\n",
       "      <td>1</td>\n",
       "      <td>125</td>\n",
       "      <td>1.25</td>\n",
       "      <td>18.6</td>\n",
       "      <td>47.59</td>\n",
       "      <td>1.79</td>\n",
       "      <td>8.60</td>\n",
       "      <td>NaN</td>\n",
       "    </tr>\n",
       "    <tr>\n",
       "      <th>25214</th>\n",
       "      <td>194</td>\n",
       "      <td>1199</td>\n",
       "      <td>A</td>\n",
       "      <td>1</td>\n",
       "      <td>R</td>\n",
       "      <td>1</td>\n",
       "      <td>130</td>\n",
       "      <td>1.30</td>\n",
       "      <td>16.6</td>\n",
       "      <td>33.17</td>\n",
       "      <td>0.26</td>\n",
       "      <td>0.69</td>\n",
       "      <td>NaN</td>\n",
       "    </tr>\n",
       "    <tr>\n",
       "      <th>25215</th>\n",
       "      <td>194</td>\n",
       "      <td>1199</td>\n",
       "      <td>A</td>\n",
       "      <td>1</td>\n",
       "      <td>R</td>\n",
       "      <td>1</td>\n",
       "      <td>135</td>\n",
       "      <td>1.35</td>\n",
       "      <td>17.0</td>\n",
       "      <td>50.29</td>\n",
       "      <td>1.51</td>\n",
       "      <td>6.84</td>\n",
       "      <td>NaN</td>\n",
       "    </tr>\n",
       "    <tr>\n",
       "      <th>25216</th>\n",
       "      <td>194</td>\n",
       "      <td>1199</td>\n",
       "      <td>A</td>\n",
       "      <td>1</td>\n",
       "      <td>R</td>\n",
       "      <td>1</td>\n",
       "      <td>140</td>\n",
       "      <td>1.40</td>\n",
       "      <td>15.2</td>\n",
       "      <td>24.80</td>\n",
       "      <td>-0.20</td>\n",
       "      <td>-0.90</td>\n",
       "      <td>NaN</td>\n",
       "    </tr>\n",
       "  </tbody>\n",
       "</table>\n",
       "<p>25217 rows × 13 columns</p>\n",
       "</div>"
      ],
      "text/plain": [
       "       Exp  Site Hole  Core Type  Sect  Top(cm)  Depth CSF-A (m)  \\\n",
       "0      194  1192    A     1    H     1       20             0.20   \n",
       "1      194  1192    A     1    H     1       40             0.40   \n",
       "2      194  1192    A     1    H     1       60             0.60   \n",
       "3      194  1192    A     1    H     1       80             0.80   \n",
       "4      194  1192    A     1    H     1      100             1.00   \n",
       "...    ...   ...  ...   ...  ...   ...      ...              ...   \n",
       "25212  194  1199    A     1    R     1      120             1.20   \n",
       "25213  194  1199    A     1    R     1      125             1.25   \n",
       "25214  194  1199    A     1    R     1      130             1.30   \n",
       "25215  194  1199    A     1    R     1      135             1.35   \n",
       "25216  194  1199    A     1    R     1      140             1.40   \n",
       "\n",
       "       NGR total counts (cps)  Reflectance L*  Reflectance a*  Reflectance b*  \\\n",
       "0                        16.2           39.55            4.22           10.59   \n",
       "1                        20.0           66.57            4.70           19.52   \n",
       "2                        18.8           68.21            4.79           24.13   \n",
       "3                        21.6           64.90            6.77           29.16   \n",
       "4                        25.2           67.85            2.34           14.76   \n",
       "...                       ...             ...             ...             ...   \n",
       "25212                    19.6           60.02            1.63            9.13   \n",
       "25213                    18.6           47.59            1.79            8.60   \n",
       "25214                    16.6           33.17            0.26            0.69   \n",
       "25215                    17.0           50.29            1.51            6.84   \n",
       "25216                    15.2           24.80           -0.20           -0.90   \n",
       "\n",
       "             Lithology  \n",
       "0                Marls  \n",
       "1                Marls  \n",
       "2         Clayey Marls  \n",
       "3      Sandy carbonate  \n",
       "4                Marls  \n",
       "...                ...  \n",
       "25212              NaN  \n",
       "25213              NaN  \n",
       "25214              NaN  \n",
       "25215              NaN  \n",
       "25216              NaN  \n",
       "\n",
       "[25217 rows x 13 columns]"
      ]
     },
     "execution_count": 1,
     "metadata": {},
     "output_type": "execute_result"
    }
   ],
   "source": [
    "import pandas as pd\n",
    "import numpy as np\n",
    "\n",
    "data = pd.read_csv('data/core_data.csv')\n",
    "data"
   ]
  },
  {
   "cell_type": "markdown",
   "metadata": {},
   "source": [
    "👉 Take the time to do a preliminary investigation of the features. Notice that you have a column names 'NGR total counts (cps)': this represents the natural gamma ray reading of the core, and there is a complete explanation available [here](http://www-odp.tamu.edu/publications/tnotes/tn26/CHAP5.PDF). You will also see columns named 'L*', 'a*', and 'b*': this refers to the reflectance data from the core, expressed in the CIELAB color space. You can learn much more about this by reading [this techincal note](http://www-odp.tamu.edu/publications/tnotes/tn26/CHAP7.PDF). Reading the technical notes is not essential to understanding this exercise, so consider this optional but good to have."
   ]
  },
  {
   "cell_type": "markdown",
   "metadata": {},
   "source": [
    "# Duplicates"
   ]
  },
  {
   "cell_type": "markdown",
   "metadata": {},
   "source": [
    "ℹ️ Duplicates in datasets can cause data leakage. It is important to locate and remove any meaningless duplicates."
   ]
  },
  {
   "cell_type": "markdown",
   "metadata": {},
   "source": [
    "❓ How many duplicated rows are there in the dataset? Save your answer under variable name `duplicate_count`."
   ]
  },
  {
   "cell_type": "code",
   "execution_count": 8,
   "metadata": {
    "tags": [
     "challengify"
    ]
   },
   "outputs": [],
   "source": [
    "# YOUR CODE HERE"
   ]
  },
  {
   "cell_type": "markdown",
   "metadata": {},
   "source": [
    "👇 Remove the duplicates from the dataset. Overwite the dataframe `data`."
   ]
  },
  {
   "cell_type": "code",
   "execution_count": 10,
   "metadata": {
    "ExecuteTime": {
     "end_time": "2021-10-30T13:03:25.422435Z",
     "start_time": "2021-10-30T13:03:25.405801Z"
    },
    "tags": [
     "challengify"
    ]
   },
   "outputs": [],
   "source": [
    "# YOUR CODE HERE"
   ]
  },
  {
   "cell_type": "markdown",
   "metadata": {},
   "source": [
    "# Missing data"
   ]
  },
  {
   "cell_type": "markdown",
   "metadata": {},
   "source": [
    "👇 Print out the percentage of missing values for all columns of the dataframe."
   ]
  },
  {
   "cell_type": "code",
   "execution_count": null,
   "metadata": {
    "tags": [
     "challengify"
    ]
   },
   "outputs": [],
   "source": [
    "# YOUR CODE HERE"
   ]
  },
  {
   "cell_type": "markdown",
   "metadata": {},
   "source": [
    "## `Lithology`"
   ]
  },
  {
   "cell_type": "markdown",
   "metadata": {},
   "source": [
    "👇 Investigate the missing values in `Lithology`. Then, chose one of the following solutions:\n",
    "\n",
    "1. Drop the column entirely\n",
    "2. Impute the column median using Sklearn's `SimpleImputer`\n",
    "3. Preserve the NaNs and replace by actual meaning\n",
    "\n",
    "Make changes effective in the dataframe `data`.\n"
   ]
  },
  {
   "cell_type": "markdown",
   "metadata": {},
   "source": [
    "<details>\n",
    "    <summary>💡 Hint</summary>\n",
    "    ℹ️ <code>Lithology</code> has a lot of missing values. The description does not touch on what they represent. As such, it is better not to make any assumptions and to drop the column entirely.\n",
    "</details>"
   ]
  },
  {
   "cell_type": "code",
   "execution_count": null,
   "metadata": {
    "tags": [
     "challengify"
    ]
   },
   "outputs": [],
   "source": [
    "# YOUR CODE HERE"
   ]
  },
  {
   "cell_type": "markdown",
   "metadata": {},
   "source": [
    "## `Depth CSF-A (m)`"
   ]
  },
  {
   "cell_type": "markdown",
   "metadata": {},
   "source": [
    "👇 Investigate the missing values in `Depth CSF-A (m)`. Remember that this represents the depth of the sample below surface, a critical piece of information that cannot easily be supplemented by other data. With this in mind, chose one of the following solutions:\n",
    "\n",
    "1. Drop the rows entirely\n",
    "2. Impute the column median\n",
    "3. Preserve the NaNs and replace by actual meaning\n",
    "\n",
    "Make changes effective in the dataframe `data`.\n"
   ]
  },
  {
   "cell_type": "markdown",
   "metadata": {},
   "source": [
    "<details>\n",
    "    <summary>💡 Hint</summary>\n",
    "ℹ️ <code>Depth CSF-A (m)</code> is only missing in a few rows. Because we cannot supplement it easily and because a 'mean' depth for a sample has no real meaning, a good strategy here would be to drop the rows where this value is NaN. Look at the pandas documentation to see how to drop specific rows: think also of how you would find the index of the rows that need dropping.\n",
    "</details>"
   ]
  },
  {
   "cell_type": "code",
   "execution_count": null,
   "metadata": {
    "tags": [
     "challengify"
    ]
   },
   "outputs": [],
   "source": [
    "# YOUR CODE HERE"
   ]
  },
  {
   "cell_type": "markdown",
   "metadata": {},
   "source": [
    "### Check to see if you still have missing values"
   ]
  },
  {
   "cell_type": "code",
   "execution_count": null,
   "metadata": {},
   "outputs": [],
   "source": [
    "# YOUR CODE HERE"
   ]
  },
  {
   "cell_type": "markdown",
   "metadata": {},
   "source": [
    "# Scaling\n",
    "In order to investigate features and, we recommend that you plot a histogram and a box plot for each one of the features."
   ]
  },
  {
   "cell_type": "markdown",
   "metadata": {},
   "source": [
    "##  `Reflectance L*` "
   ]
  },
  {
   "cell_type": "markdown",
   "metadata": {},
   "source": [
    "👇 Investigate `Reflectance L*` for distribution and outliers. Then, choose the most appropriate scaling technique. Either:\n",
    "\n",
    "1. Standard Scale\n",
    "2. Robust Scale\n",
    "3. MinMax Scale\n",
    "\n",
    "Replace the original columns by the transformed values."
   ]
  },
  {
   "cell_type": "code",
   "execution_count": null,
   "metadata": {
    "tags": [
     "challengify"
    ]
   },
   "outputs": [],
   "source": [
    "# YOUR CODE HERE"
   ]
  },
  {
   "cell_type": "markdown",
   "metadata": {},
   "source": [
    "<details>\n",
    "    <summary>💡 Hint</summary>\n",
    "ℹ️ Since <code>Reflectance L*</code> does  seem to have a normal distribution, so we can use the <code>StandardScaler</code> to scale. Note that it would not be incorrect to use <code>MinMax()</code> or <code>RobustScaler()</code>.\n",
    "</details>"
   ]
  },
  {
   "cell_type": "code",
   "execution_count": null,
   "metadata": {
    "tags": [
     "challengify"
    ]
   },
   "outputs": [],
   "source": [
    "# YOUR CODE HERE"
   ]
  },
  {
   "cell_type": "markdown",
   "metadata": {},
   "source": [
    "## `Refectance a*` & `Reflectance b*`"
   ]
  },
  {
   "cell_type": "markdown",
   "metadata": {},
   "source": [
    "👇 Investigate `Reflectance a*` & `Reflectance b*`. Then, chose one of the following scaling techniques:\n",
    "\n",
    "1. MinMax Scale\n",
    "2. Standard Scale\n",
    "3. Robust Scale\n",
    "\n",
    "Replace the original columns by the transformed values."
   ]
  },
  {
   "cell_type": "markdown",
   "metadata": {},
   "source": [
    "<details>\n",
    "    <summary>💡 Hint</summary>\n",
    "ℹ️ <code>Reflectance a*</code> and <code>Reflectance b*</code> are both normally distributed but with some outliers: we could use the <code>RobustScaler()</code> here.\n",
    "</details>"
   ]
  },
  {
   "cell_type": "code",
   "execution_count": null,
   "metadata": {
    "tags": [
     "challengify"
    ]
   },
   "outputs": [],
   "source": [
    "# YOUR CODE HERE"
   ]
  },
  {
   "cell_type": "markdown",
   "metadata": {},
   "source": [
    "## `Depth CSF-A (m)`"
   ]
  },
  {
   "cell_type": "markdown",
   "metadata": {},
   "source": [
    "👇 Investigate `Depth CSF-A (m)` for distribution and outliers. Then, choose the most appropriate scaling technique. Either:\n",
    "\n",
    "1. Standard Scale\n",
    "2. Robust Scale\n",
    "3. MinMax Scale\n",
    "\n",
    "Replace the original columns by the transformed values."
   ]
  },
  {
   "cell_type": "code",
   "execution_count": null,
   "metadata": {
    "tags": [
     "challengify"
    ]
   },
   "outputs": [],
   "source": [
    "# YOUR CODE HERE"
   ]
  },
  {
   "cell_type": "markdown",
   "metadata": {},
   "source": [
    "<details>\n",
    "    <summary>💡 Hint</summary>\n",
    "ℹ️ <code>Depth CSF-A (m)</code> does not show a normal distribution, it is better to <code>MinMax()</code> scale to ensure all results are between 0 and 1.\n",
    "</details>"
   ]
  },
  {
   "cell_type": "code",
   "execution_count": null,
   "metadata": {
    "tags": [
     "challengify"
    ]
   },
   "outputs": [],
   "source": [
    "# YOUR CODE HERE"
   ]
  },
  {
   "cell_type": "markdown",
   "metadata": {},
   "source": [
    "# Feature Engineering"
   ]
  },
  {
   "cell_type": "markdown",
   "metadata": {},
   "source": [
    "## `Type`"
   ]
  },
  {
   "cell_type": "markdown",
   "metadata": {},
   "source": [
    "👇 Investigate `Type` and chose one of the following encoding techniques accordingly:\n",
    "- Ordinal encoding\n",
    "- One-Hot encoding\n",
    "\n",
    "Add the encoding to the dataframe as new colum(s), and remove the original column.\n"
   ]
  },
  {
   "cell_type": "markdown",
   "metadata": {},
   "source": [
    "<details>\n",
    "    <summary>💡 Hint</summary>\n",
    "ℹ️ `Type` is a multicategorical feature that must be One hot encoded: there is no explicit ordinal value to the drill bit type.\n",
    "</details>"
   ]
  },
  {
   "cell_type": "code",
   "execution_count": null,
   "metadata": {
    "tags": [
     "challengify"
    ]
   },
   "outputs": [],
   "source": [
    "# YOUR CODE HERE"
   ]
  },
  {
   "cell_type": "markdown",
   "metadata": {},
   "source": [
    "# Export the dataset"
   ]
  },
  {
   "cell_type": "markdown",
   "metadata": {},
   "source": [
    "👇 Now that the dataset has been preprocessed, execute the code below to export it. You will keep working on it in the next exercise."
   ]
  },
  {
   "cell_type": "code",
   "execution_count": null,
   "metadata": {},
   "outputs": [],
   "source": [
    "data.to_csv(\"../02-Feature-Selection/data/clean_dataset.csv\", index=False)"
   ]
  },
  {
   "cell_type": "markdown",
   "metadata": {},
   "source": [
    "# 🏁"
   ]
  }
 ],
 "metadata": {
  "kernelspec": {
   "display_name": "Python 3",
   "language": "python",
   "name": "python3"
  },
  "language_info": {
   "codemirror_mode": {
    "name": "ipython",
    "version": 3
   },
   "file_extension": ".py",
   "mimetype": "text/x-python",
   "name": "python",
   "nbconvert_exporter": "python",
   "pygments_lexer": "ipython3",
   "version": "3.11.9"
  },
  "toc": {
   "base_numbering": 1,
   "nav_menu": {},
   "number_sections": false,
   "sideBar": true,
   "skip_h1_title": false,
   "title_cell": "Table of Contents",
   "title_sidebar": "Contents",
   "toc_cell": false,
   "toc_position": {
    "height": "calc(100% - 180px)",
    "left": "10px",
    "top": "150px",
    "width": "426.667px"
   },
   "toc_section_display": true,
   "toc_window_display": false
  },
  "varInspector": {
   "cols": {
    "lenName": 16,
    "lenType": 16,
    "lenVar": 40
   },
   "kernels_config": {
    "python": {
     "delete_cmd_postfix": "",
     "delete_cmd_prefix": "del ",
     "library": "var_list.py",
     "varRefreshCmd": "print(var_dic_list())"
    },
    "r": {
     "delete_cmd_postfix": ") ",
     "delete_cmd_prefix": "rm(",
     "library": "var_list.r",
     "varRefreshCmd": "cat(var_dic_list()) "
    }
   },
   "types_to_exclude": [
    "module",
    "function",
    "builtin_function_or_method",
    "instance",
    "_Feature"
   ],
   "window_display": false
  }
 },
 "nbformat": 4,
 "nbformat_minor": 4
}
