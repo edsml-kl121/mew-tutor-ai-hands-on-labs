{
 "cells": [
  {
   "cell_type": "code",
   "execution_count": 5,
   "metadata": {},
   "outputs": [],
   "source": [
    "!pip install -q -U google-genai"
   ]
  },
  {
   "cell_type": "markdown",
   "metadata": {},
   "source": [
    "## Entity Extraction into JSON/Lists"
   ]
  },
  {
   "cell_type": "code",
   "execution_count": null,
   "metadata": {},
   "outputs": [
    {
     "data": {
      "text/plain": [
       "Recipe(recipe_name='hi', ingredients=['flour', 'water'])"
      ]
     },
     "execution_count": 3,
     "metadata": {},
     "output_type": "execute_result"
    }
   ],
   "source": [
    "from pydantic import BaseModel\n",
    "\n",
    "class Recipe(BaseModel):\n",
    "  recipe_name: str\n",
    "  ingredients: list[str]\n",
    "\n",
    "Recipe(recipe_name=\"Pasta\", ingredients=[\"flour\", \"water\"])\n",
    "# Recipe(recipe_name=1, ingredients=[\"flour\", \"water\"])"
   ]
  },
  {
   "cell_type": "code",
   "execution_count": 34,
   "metadata": {},
   "outputs": [
    {
     "name": "stdout",
     "output_type": "stream",
     "text": [
      "[\n",
      "  {\n",
      "    \"recipe_name\": \"Chocolate Chip Cookies\",\n",
      "    \"ingredients\": [\n",
      "      \"Butter\",\n",
      "      \"Sugar\",\n",
      "      \"Brown Sugar\",\n",
      "      \"Eggs\",\n",
      "      \"Vanilla Extract\",\n",
      "      \"Flour\",\n",
      "      \"Baking Soda\",\n",
      "      \"Salt\",\n",
      "      \"Chocolate Chips\"\n",
      "    ]\n",
      "  },\n",
      "  {\n",
      "    \"recipe_name\": \"Peanut Butter Cookies\",\n",
      "    \"ingredients\": [\n",
      "      \"Peanut Butter\",\n",
      "      \"Butter\",\n",
      "      \"Sugar\",\n",
      "      \"Brown Sugar\",\n",
      "      \"Egg\",\n",
      "      \"Vanilla Extract\",\n",
      "      \"Flour\",\n",
      "      \"Baking Soda\",\n",
      "      \"Salt\"\n",
      "    ]\n",
      "  },\n",
      "  {\n",
      "    \"recipe_name\": \"Oatmeal Raisin Cookies\",\n",
      "    \"ingredients\": [\n",
      "      \"Butter\",\n",
      "      \"Brown Sugar\",\n",
      "      \"Egg\",\n",
      "      \"Vanilla Extract\",\n",
      "      \"Flour\",\n",
      "      \"Baking Soda\",\n",
      "      \"Salt\",\n",
      "      \"Cinnamon\",\n",
      "      \"Oats\",\n",
      "      \"Raisins\"\n",
      "    ]\n",
      "  }\n",
      "]\n"
     ]
    }
   ],
   "source": [
    "from google import genai\n",
    "# import google.generativeai as genai\n",
    "from pydantic import BaseModel\n",
    "import os\n",
    "\n",
    "from dotenv import load_dotenv\n",
    "\n",
    "load_dotenv()  # take environment variables from .env.\n",
    "\n",
    "# Configure the API key\n",
    "# genai.configure(api_key=os.environ[\"GEMINI_API_KEY\"])\n",
    "\n",
    "class Recipe(BaseModel):\n",
    "  recipe_name: str\n",
    "  ingredients: list[str]\n",
    "\n",
    "\n",
    "client = genai.Client(api_key=os.environ[\"GEMINI_API_KEY\"])\n",
    "response = client.models.generate_content(\n",
    "    model='gemini-2.0-flash',\n",
    "    contents='List a few popular cookie recipes.',\n",
    "    config={\n",
    "        'response_mime_type': 'application/json',\n",
    "        'response_schema': list[Recipe],\n",
    "    },\n",
    ")\n",
    "# Use the response as a JSON string.\n",
    "print(response.text)\n",
    "\n",
    "# Use instantiated objects.\n",
    "my_recipes: list[Recipe] = response.parsed"
   ]
  },
  {
   "cell_type": "code",
   "execution_count": null,
   "metadata": {},
   "outputs": [],
   "source": [
    "# Exercise extract the list and run for loop through it."
   ]
  },
  {
   "cell_type": "code",
   "execution_count": 15,
   "metadata": {},
   "outputs": [
    {
     "name": "stdout",
     "output_type": "stream",
     "text": [
      "[\n",
      "  {\n",
      "    \"Location\": \"Bangkok\",\n",
      "    \"food\": [\"Pad Thai\", \"Mango Sticky Rice\", \"Tom Yum Goong\", \"Green Curry\"]\n",
      "  },\n",
      "  {\n",
      "    \"Location\": \"Chiang Mai\",\n",
      "    \"food\": [\"Khao Soi\", \"Sai Oua (Northern Thai Sausage)\", \"Gaeng Hang Lay (Burmese-style Pork Curry)\"]\n",
      "  },\n",
      "  {\n",
      "    \"Location\": \"Southern Thailand (e.g., Phuket, Krabi)\",\n",
      "    \"food\": [\"Massaman Curry\", \"Roti\", \"Seafood (grilled fish, prawns)\", \"Tom Yum Pla (Fish Tom Yum)\"]\n",
      "  },\n",
      "  {\n",
      "    \"Location\": \"Isan (Northeast Thailand)\",\n",
      "    \"food\": [\"Som Tum (Papaya Salad)\", \"Larb (Minced Meat Salad)\", \"Gai Yang (Grilled Chicken)\", \"Sticky Rice\"]\n",
      "  }\n",
      "]\n"
     ]
    }
   ],
   "source": [
    "class Thaifood(BaseModel):\n",
    "    Location: str\n",
    "    food: list[str]\n",
    "\n",
    "response = client.models.generate_content(\n",
    "    model='gemini-2.0-flash',\n",
    "    contents='List a few popular food in Thailand based on location.',\n",
    "    config={\n",
    "        'response_mime_type': 'application/json',\n",
    "        'response_schema': list[Thaifood],\n",
    "    },\n",
    ")\n",
    "# Use the response as a JSON string.\n",
    "print(response.text)\n",
    "\n",
    "# Use instantiated objects.\n",
    "my_recipes: list[Recipe] = response.parsed"
   ]
  },
  {
   "cell_type": "code",
   "execution_count": null,
   "metadata": {},
   "outputs": [],
   "source": [
    "# Exercise extract the list and run for loop through it.\n",
    "# Exercise ask the model list cities in Thailand, make model return a list of city. Run For loop through it."
   ]
  },
  {
   "cell_type": "code",
   "execution_count": 20,
   "metadata": {},
   "outputs": [
    {
     "name": "stdout",
     "output_type": "stream",
     "text": [
      "{\n",
      "  \"food\": [\"Pad Thai\", \"Mango Sticky Rice\", \"Tom Yum Soup\", \"Green Curry\", \"Boat Noodles\"]\n",
      "}\n"
     ]
    }
   ],
   "source": [
    "class ThaifoodBangkok(BaseModel):\n",
    "    food: list[str]\n",
    "\n",
    "response = client.models.generate_content(\n",
    "    model='gemini-2.0-flash',\n",
    "    contents='List a few popular food in Bangkok.',\n",
    "    config={\n",
    "        'response_mime_type': 'application/json',\n",
    "        'response_schema': ThaifoodBangkok,\n",
    "    },\n",
    ")\n",
    "# Use the response as a JSON string.\n",
    "print(response.text)\n",
    "\n",
    "# Use instantiated objects.\n",
    "my_recipes: list[Recipe] = response.parsed"
   ]
  },
  {
   "cell_type": "code",
   "execution_count": 28,
   "metadata": {},
   "outputs": [
    {
     "name": "stdout",
     "output_type": "stream",
     "text": [
      "Pad Thai\n",
      "Mango Sticky Rice\n",
      "Tom Yum Soup\n",
      "Green Curry\n",
      "Boat Noodles\n"
     ]
    }
   ],
   "source": [
    "for food in response.parsed.food:\n",
    "    print(food)"
   ]
  },
  {
   "cell_type": "markdown",
   "metadata": {},
   "source": [
    "## Classification"
   ]
  },
  {
   "cell_type": "code",
   "execution_count": 31,
   "metadata": {},
   "outputs": [
    {
     "name": "stdout",
     "output_type": "stream",
     "text": [
      "Woodwind\n"
     ]
    }
   ],
   "source": [
    "import enum\n",
    "\n",
    "class Instrument(enum.Enum):\n",
    "  PERCUSSION = \"Percussion\"\n",
    "  STRING = \"String\"\n",
    "  WOODWIND = \"Woodwind\"\n",
    "  BRASS = \"Brass\"\n",
    "  KEYBOARD = \"Keyboard\"\n",
    "\n",
    "response = client.models.generate_content(\n",
    "    model='gemini-2.0-flash',\n",
    "    contents='What type of instrument is an oboe?',\n",
    "    config={\n",
    "        'response_mime_type': 'text/x.enum',\n",
    "        'response_schema': Instrument,\n",
    "    },\n",
    ")\n",
    "\n",
    "print(response.text)"
   ]
  },
  {
   "cell_type": "code",
   "execution_count": 32,
   "metadata": {},
   "outputs": [
    {
     "name": "stdout",
     "output_type": "stream",
     "text": [
      "[\n",
      "  {\n",
      "    \"recipe_name\": \"Chocolate Chip Cookies\",\n",
      "    \"rating\": \"a+\"\n",
      "  },\n",
      "  {\n",
      "    \"recipe_name\": \"Peanut Butter Cookies\",\n",
      "    \"rating\": \"a\"\n",
      "  },\n",
      "  {\n",
      "    \"recipe_name\": \"Oatmeal Raisin Cookies\",\n",
      "    \"rating\": \"b\"\n",
      "  },\n",
      "  {\n",
      "    \"recipe_name\": \"Sugar Cookies\",\n",
      "    \"rating\": \"b\"\n",
      "  },\n",
      "  {\n",
      "    \"recipe_name\": \"Snickerdoodles\",\n",
      "    \"rating\": \"a\"\n",
      "  },\n",
      "  {\n",
      "    \"recipe_name\": \"Gingerbread Cookies\",\n",
      "    \"rating\": \"c\"\n",
      "  },\n",
      "  {\n",
      "    \"recipe_name\": \"Macadamia Nut Cookies\",\n",
      "    \"rating\": \"a\"\n",
      "  },\n",
      "  {\n",
      "    \"recipe_name\": \"Double Chocolate Cookies\",\n",
      "    \"rating\": \"a+\"\n",
      "  },\n",
      "  {\n",
      "    \"recipe_name\": \"Shortbread Cookies\",\n",
      "    \"rating\": \"b\"\n",
      "  },\n",
      "  {\n",
      "    \"recipe_name\": \"Lemon Cookies\",\n",
      "    \"rating\": \"b\"\n",
      "  }\n",
      "]\n"
     ]
    }
   ],
   "source": [
    "class Grade(enum.Enum):\n",
    "    A_PLUS = \"a+\"\n",
    "    A = \"a\"\n",
    "    B = \"b\"\n",
    "    C = \"c\"\n",
    "    D = \"d\"\n",
    "    F = \"f\"\n",
    "\n",
    "class Recipe(BaseModel):\n",
    "  recipe_name: str\n",
    "  rating: Grade\n",
    "\n",
    "response = client.models.generate_content(\n",
    "    model='gemini-2.0-flash',\n",
    "    contents='List 10 home-baked cookies and give them grades based on tastiness.',\n",
    "    config={\n",
    "        'response_mime_type': 'application/json',\n",
    "        'response_schema': list[Recipe],\n",
    "    },\n",
    ")\n",
    "\n",
    "print(response.text)"
   ]
  },
  {
   "cell_type": "code",
   "execution_count": null,
   "metadata": {},
   "outputs": [],
   "source": [
    "# Get a newspaper extract date, summary, title in Json format each with strings."
   ]
  }
 ],
 "metadata": {
  "kernelspec": {
   "display_name": "mew-rag",
   "language": "python",
   "name": "python3"
  },
  "language_info": {
   "codemirror_mode": {
    "name": "ipython",
    "version": 3
   },
   "file_extension": ".py",
   "mimetype": "text/x-python",
   "name": "python",
   "nbconvert_exporter": "python",
   "pygments_lexer": "ipython3",
   "version": "3.11.11"
  }
 },
 "nbformat": 4,
 "nbformat_minor": 2
}
