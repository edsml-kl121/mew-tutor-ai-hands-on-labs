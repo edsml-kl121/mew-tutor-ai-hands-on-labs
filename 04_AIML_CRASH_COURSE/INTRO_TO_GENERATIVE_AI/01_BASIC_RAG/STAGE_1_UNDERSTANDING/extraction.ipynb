{
 "cells": [
  {
   "cell_type": "code",
   "execution_count": 13,
   "metadata": {},
   "outputs": [],
   "source": [
    "!pip install -q -U google-genai"
   ]
  },
  {
   "cell_type": "markdown",
   "metadata": {},
   "source": [
    "## Entity Extraction into JSON/Lists"
   ]
  },
  {
   "cell_type": "code",
   "execution_count": 1,
   "metadata": {},
   "outputs": [],
   "source": [
    "from google import genai\n",
    "# import google.generativeai as genai\n",
    "from pydantic import BaseModel\n",
    "import os\n",
    "\n",
    "from dotenv import load_dotenv\n",
    "load_dotenv()  # take environment variables from .env.\n",
    "client = genai.Client(api_key=os.environ[\"GEMINI_API_KEY\"])"
   ]
  },
  {
   "cell_type": "code",
   "execution_count": 2,
   "metadata": {},
   "outputs": [
    {
     "data": {
      "text/plain": [
       "Recipe(recipe_name='Pasta', ingredients=['flour', 'water'])"
      ]
     },
     "execution_count": 2,
     "metadata": {},
     "output_type": "execute_result"
    }
   ],
   "source": [
    "from pydantic import BaseModel\n",
    "\n",
    "class Recipe(BaseModel):\n",
    "  recipe_name: str\n",
    "  ingredients: list[str]\n",
    "\n",
    "Recipe(recipe_name=\"Pasta\", ingredients=[\"flour\", \"water\"])\n",
    "# Recipe(recipe_name=1, ingredients=[\"flour\", \"water\"])"
   ]
  },
  {
   "cell_type": "code",
   "execution_count": null,
   "metadata": {},
   "outputs": [
    {
     "name": "stdout",
     "output_type": "stream",
     "text": [
      "{\n",
      "  \"who\": \"Department of Public Works and Town and Country Planning (DPT), Prime Minister Paetongtarn Shinawatra, Interior Minister Anutin Charnvirakul, Italian-Thai Development Plc, China Railway No.10 Engineering Group, Netizens\",\n",
      "  \"what\": \"The Department of Public Works and Town and Country Planning (DPT) has been ordered to conduct a thorough investigation into the collapse of the State Audit Office's building during the earthquake. A committee will establish the cause of the structural failure and report back within a week. Rescuers are hampered by debris.\",\n",
      "  \"where\": \"Chatuchak district, Bangkok, at the new compound of the State Audit Office\",\n",
      "  \"when\": \"Published 30 Mar 2025, collapse occurred sometime before that. Building completed March 31 last year.\",\n",
      "  \"why\": \"The inquiry will examine the building's design, the authority that approved the design, how it was approved and whether any of these factors led to the collapse. Public concern as to why this building collapsed but other, similar structures remained intact.\"\n",
      "}\n"
     ]
    }
   ],
   "source": [
    "text = f\"\"\"Probe ordered into shocking building collapse\n",
    "PUBLISHED : 30 Mar 2025 at 05:46\n",
    "\n",
    "NEWSPAPER SECTION: News\n",
    "\n",
    "WRITER: Aekarach Sattaburuth and Wassayos Ngamkham\n",
    "0:00 / 1:44\n",
    "Search and rescue workers and equipment are deployed at the collapse site at the new compound of the State Audit Office in Chatuchak district, Bangkok, on Saturday. Pornprom Satrabhaya\n",
    "Search and rescue workers and equipment are deployed at the collapse site at the new compound of the State Audit Office in Chatuchak district, Bangkok, on Saturday. Pornprom Satrabhaya\n",
    "The Department of Public Works and Town and Country Planning (DPT) has been ordered to conduct a thorough investigation into the collapse of the State Audit Office's building during the earthquake.\n",
    "\n",
    "Prime Minister Paetongtarn Shinawatra said in a media interview that a committee will establish the cause of the structural failure and report back within a week.\n",
    "\n",
    "The inquiry will examine the building's design, the authority that approved the design, how it was approved and whether any of these factors led to the collapse, she said.\n",
    "\n",
    "ADVERTISEMENT\n",
    "\n",
    "Ms Paetongtarn also echoed public concern as to why this building collapsed but other, similar structures remained intact.\n",
    "\n",
    "RELATED\n",
    "Are women allowed their own dreams, wonders Chimamanda Ngozi Adichie\n",
    "life\n",
    "Are women allowed their own dreams, wonders Chimamanda Ngozi Adichie\n",
    "South Korea's 'heartbreaking' wildfires expose super-aged society\n",
    "world\n",
    "South Korea's 'heartbreaking' wildfires expose super-aged society\n",
    "\"I watched multiple clips of the building collapse from different angles. From my experience in the construction industry, I have never seen an issue like this. We must investigate thoroughly because a significant portion of the budget was allocated, and the deadline for completion had been extended,\" she said.\n",
    "\n",
    "The office was a joint venture between Italian-Thai Development Plc and a subsidiary of China Railway No.10 Engineering Group, which operates under the state-owned China Railway Engineering Corporation (CREC) -- one of the world's largest construction and engineering companies.\n",
    "\n",
    "Netizens were quick to point out that the company's posts about the collapsed building have all been deleted, despite the structure having been completed on March 31 last year.\n",
    "\n",
    "Meanwhile, Interior Minister Anutin Charnvirakul said rescuers are being hampered by debris and insisted that their operations are not slow.\n",
    "\n",
    "He did, however, concede that the 24-hour mark, known for being the point where the odds of finding survivors after a disaster drops sharply, has passed.\n",
    "\n",
    "\n",
    "\n",
    "Please credit and share this article with others using this link: https://www.bangkokpost.com/thailand/general/2990661/probe-ordered-into-shocking-building-collapse. View our policies at http://goo.gl/9HgTd and http://goo.gl/ou6Ip. © Bangkok Post PCL. All rights reserved.\"\"\"\n",
    "\n",
    "class NewsExtractor(BaseModel):\n",
    "    who: str\n",
    "    what: str\n",
    "    where: str\n",
    "    when: str\n",
    "    why: str\n",
    "\n",
    "response = client.models.generate_content(\n",
    "    model='gemini-2.0-flash',\n",
    "    contents=f'Summarize news into who, what, where, when and why TEXT:{text}',\n",
    "    config={\n",
    "        'response_mime_type': 'application/json',\n",
    "        'response_schema': NewsExtractor,\n",
    "    },\n",
    ")\n",
    "# Use the response as a JSON string.\n",
    "print(response.text)\n",
    "\n",
    "# Use instantiated objects.\n",
    "my_recipes: NewsExtractor = response.parsed\n",
    "results_store = response.parsed"
   ]
  },
  {
   "cell_type": "code",
   "execution_count": 5,
   "metadata": {},
   "outputs": [],
   "source": [
    "# Exercise extract the list and run for loop through it."
   ]
  },
  {
   "cell_type": "code",
   "execution_count": 19,
   "metadata": {},
   "outputs": [
    {
     "name": "stdout",
     "output_type": "stream",
     "text": [
      "[\n",
      "  {\n",
      "    \"Location\": \"Bangkok\",\n",
      "    \"food\": [\"Pad Thai\", \"Mango Sticky Rice\", \"Tom Yum Goong\", \"Boat Noodles\"]\n",
      "  },\n",
      "  {\n",
      "    \"Location\": \"Chiang Mai\",\n",
      "    \"food\": [\"Khao Soi\", \"Sai Oua (Northern Thai Sausage)\", \"Gaeng Hang Lay (Burmese-style Pork Curry)\"]\n",
      "  },\n",
      "  {\n",
      "    \"Location\": \"Southern Thailand (e.g., Phuket, Krabi)\",\n",
      "    \"food\": [\"Massaman Curry\", \"Roti\", \"Seafood (Grilled Fish, Tom Yum Seafood)\"]\n",
      "  },\n",
      "  {\n",
      "    \"Location\": \"Ayutthaya\",\n",
      "    \"food\": [\"Roti Sai Mai\", \"River Prawns\"]\n",
      "  }\n",
      "]\n"
     ]
    }
   ],
   "source": [
    "class Thaifood(BaseModel):\n",
    "    Location: str\n",
    "    food: list[str]\n",
    "\n",
    "response = client.models.generate_content(\n",
    "    model='gemini-2.0-flash',\n",
    "    contents='List a few popular food in Thailand based on location.',\n",
    "    config={\n",
    "        'response_mime_type': 'application/json',\n",
    "        'response_schema': list[Thaifood],\n",
    "    },\n",
    ")\n",
    "# Use the response as a JSON string.\n",
    "print(response.text)\n",
    "\n",
    "# Use instantiated objects.\n",
    "my_recipes: list[Thaifood] = response.parsed"
   ]
  },
  {
   "cell_type": "code",
   "execution_count": 7,
   "metadata": {},
   "outputs": [],
   "source": [
    "# Exercise extract the list and run for loop through it.\n",
    "# Exercise ask the model list cities in Thailand, make model return a list of city. Run For loop through it."
   ]
  },
  {
   "cell_type": "code",
   "execution_count": 8,
   "metadata": {},
   "outputs": [
    {
     "name": "stdout",
     "output_type": "stream",
     "text": [
      "{\n",
      "  \"food\": [\"Pad Thai\", \"Mango Sticky Rice\", \"Tom Yum Soup\", \"Green Curry\", \"Som Tum (Papaya Salad)\", \"Boat Noodles\"]\n",
      "}\n"
     ]
    }
   ],
   "source": [
    "class ThaifoodBangkok(BaseModel):\n",
    "    food: list[str]\n",
    "\n",
    "response = client.models.generate_content(\n",
    "    model='gemini-2.0-flash',\n",
    "    contents='List a few popular food in Bangkok.',\n",
    "    config={\n",
    "        'response_mime_type': 'application/json',\n",
    "        'response_schema': ThaifoodBangkok,\n",
    "    },\n",
    ")\n",
    "# Use the response as a JSON string.\n",
    "print(response.text)\n",
    "\n",
    "# Use instantiated objects.\n",
    "my_recipes: list[Recipe] = response.parsed"
   ]
  },
  {
   "cell_type": "code",
   "execution_count": 9,
   "metadata": {},
   "outputs": [
    {
     "name": "stdout",
     "output_type": "stream",
     "text": [
      "Pad Thai\n",
      "Mango Sticky Rice\n",
      "Tom Yum Soup\n",
      "Green Curry\n",
      "Som Tum (Papaya Salad)\n",
      "Boat Noodles\n"
     ]
    }
   ],
   "source": [
    "for food in response.parsed.food:\n",
    "    print(food)"
   ]
  },
  {
   "cell_type": "markdown",
   "metadata": {},
   "source": [
    "## Classification"
   ]
  },
  {
   "cell_type": "code",
   "execution_count": 10,
   "metadata": {},
   "outputs": [
    {
     "name": "stdout",
     "output_type": "stream",
     "text": [
      "Woodwind\n"
     ]
    }
   ],
   "source": [
    "import enum\n",
    "\n",
    "class Instrument(enum.Enum):\n",
    "  PERCUSSION = \"Percussion\"\n",
    "  STRING = \"String\"\n",
    "  WOODWIND = \"Woodwind\"\n",
    "  BRASS = \"Brass\"\n",
    "  KEYBOARD = \"Keyboard\"\n",
    "\n",
    "response = client.models.generate_content(\n",
    "    model='gemini-2.0-flash',\n",
    "    contents='What type of instrument is an oboe?',\n",
    "    config={\n",
    "        'response_mime_type': 'text/x.enum',\n",
    "        'response_schema': Instrument,\n",
    "    },\n",
    ")\n",
    "\n",
    "print(response.text)"
   ]
  },
  {
   "cell_type": "code",
   "execution_count": 11,
   "metadata": {},
   "outputs": [
    {
     "name": "stdout",
     "output_type": "stream",
     "text": [
      "[\n",
      "  {\n",
      "    \"recipe_name\": \"Chocolate Chip Cookies\",\n",
      "    \"rating\": \"a+\"\n",
      "  },\n",
      "  {\n",
      "    \"recipe_name\": \"Peanut Butter Cookies\",\n",
      "    \"rating\": \"a\"\n",
      "  },\n",
      "  {\n",
      "    \"recipe_name\": \"Oatmeal Raisin Cookies\",\n",
      "    \"rating\": \"b\"\n",
      "  },\n",
      "  {\n",
      "    \"recipe_name\": \"Sugar Cookies\",\n",
      "    \"rating\": \"b\"\n",
      "  },\n",
      "  {\n",
      "    \"recipe_name\": \"Snickerdoodle Cookies\",\n",
      "    \"rating\": \"a\"\n",
      "  },\n",
      "  {\n",
      "    \"recipe_name\": \"Gingerbread Cookies\",\n",
      "    \"rating\": \"c\"\n",
      "  },\n",
      "  {\n",
      "    \"recipe_name\": \"Shortbread Cookies\",\n",
      "    \"rating\": \"b\"\n",
      "  },\n",
      "  {\n",
      "    \"recipe_name\": \"Macadamia Nut Cookies\",\n",
      "    \"rating\": \"a\"\n",
      "  },\n",
      "  {\n",
      "    \"recipe_name\": \"Biscotti Cookies\",\n",
      "    \"rating\": \"c\"\n",
      "  },\n",
      "  {\n",
      "    \"recipe_name\": \"White Chocolate Chip Cookies\",\n",
      "    \"rating\": \"b\"\n",
      "  }\n",
      "]\n"
     ]
    }
   ],
   "source": [
    "class Grade(enum.Enum):\n",
    "    A_PLUS = \"a+\"\n",
    "    A = \"a\"\n",
    "    B = \"b\"\n",
    "    C = \"c\"\n",
    "    D = \"d\"\n",
    "    F = \"f\"\n",
    "\n",
    "class Recipe(BaseModel):\n",
    "  recipe_name: str\n",
    "  rating: Grade\n",
    "\n",
    "response = client.models.generate_content(\n",
    "    model='gemini-2.0-flash',\n",
    "    contents='List 10 home-baked cookies and give them grades based on tastiness.',\n",
    "    config={\n",
    "        'response_mime_type': 'application/json',\n",
    "        'response_schema': list[Recipe],\n",
    "    },\n",
    ")\n",
    "\n",
    "print(response.text)"
   ]
  },
  {
   "cell_type": "code",
   "execution_count": 12,
   "metadata": {},
   "outputs": [],
   "source": [
    "# Get a newspaper extract date, summary, title in Json format each with strings."
   ]
  }
 ],
 "metadata": {
  "kernelspec": {
   "display_name": "mew-rag",
   "language": "python",
   "name": "python3"
  },
  "language_info": {
   "codemirror_mode": {
    "name": "ipython",
    "version": 3
   },
   "file_extension": ".py",
   "mimetype": "text/x-python",
   "name": "python",
   "nbconvert_exporter": "python",
   "pygments_lexer": "ipython3",
   "version": "3.11.11"
  }
 },
 "nbformat": 4,
 "nbformat_minor": 2
}
